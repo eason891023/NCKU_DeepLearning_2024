{
 "cells": [
  {
   "cell_type": "code",
   "execution_count": 1,
   "metadata": {},
   "outputs": [],
   "source": [
    "import torch\n",
    "import torch.nn as nn\n",
    "import torch.nn.functional as F\n",
    "from torchvision import transforms\n",
    "from torch.utils.data import TensorDataset, DataLoader\n",
    "import torch.optim as optim\n",
    "from torchvision import models\n",
    "from torchinfo import summary\n",
    "\n",
    "import numpy as np\n",
    "from numpy import linalg as LA\n",
    "import cv2\n",
    "import matplotlib.pyplot as plt\n",
    "from tqdm import tqdm"
   ]
  },
  {
   "cell_type": "code",
   "execution_count": 2,
   "metadata": {},
   "outputs": [
    {
     "name": "stdout",
     "output_type": "stream",
     "text": [
      "Total train images: 63325\n"
     ]
    },
    {
     "name": "stderr",
     "output_type": "stream",
     "text": [
      "Loading images: 100%|██████████| 63325/63325 [00:24<00:00, 2597.12it/s]\n"
     ]
    },
    {
     "name": "stdout",
     "output_type": "stream",
     "text": [
      "total images: 450\n"
     ]
    },
    {
     "name": "stderr",
     "output_type": "stream",
     "text": [
      "Loading images: 100%|██████████| 450/450 [00:00<00:00, 2822.94it/s]\n"
     ]
    },
    {
     "name": "stdout",
     "output_type": "stream",
     "text": [
      "total images: 450\n"
     ]
    },
    {
     "name": "stderr",
     "output_type": "stream",
     "text": [
      "Loading images: 100%|██████████| 450/450 [00:00<00:00, 2841.71it/s]\n"
     ]
    }
   ],
   "source": [
    "\n",
    "def load_train_img(file_path):\n",
    "    with open(file_path) as f:\n",
    "        lines = f.readlines()\n",
    "    imgs, labels = [], []\n",
    "    target_size=(128, 128)\n",
    "    print('Total train images:', len(lines))\n",
    "    for i in tqdm(range(len(lines)), desc=\"Loading images\"):\n",
    "    # for i in tqdm(range(100), desc=\"Loading images\"):\n",
    "        fn, label = lines[i].strip().split(' ')\n",
    "        im1 = cv2.imread(fn)\n",
    "        # 如果需要進行影像處理，請在這裡添加相應的處理步驟\n",
    "        im1 = cv2.resize(im1, target_size)\n",
    "        # 轉換成 PyTorch Tensor\n",
    "        im1_tensor = torch.from_numpy(im1.transpose(2, 0, 1))  # 把channel 移到最前面\n",
    "\n",
    "        imgs.append(im1_tensor) \n",
    "        labels.append(int(label))\n",
    "\n",
    "    imgs_tensor = torch.stack(imgs) \n",
    "    labels_tensor = torch.tensor(labels)\n",
    "\n",
    "    return imgs_tensor, labels_tensor\n",
    "\n",
    "def load_img(f):\n",
    "    f=open(f)\n",
    "    lines=f.readlines()\n",
    "    imgs, labels=[], []\n",
    "    target_size=(128, 128)\n",
    "    print('total images:', len(lines))\n",
    "    for i in tqdm(range(len(lines)), desc=\"Loading images\"):\n",
    "    # for i in tqdm(range(100), desc=\"Loading images\"):\n",
    "        fn, label = lines[i].split(' ')\n",
    "        \n",
    "        # 原圖\n",
    "        im1=cv2.imread(fn)\n",
    "        im1 = cv2.resize(im1, target_size)\n",
    "        # 轉換成 PyTorch Tensor\n",
    "        im1_tensor = torch.from_numpy(im1.transpose(2, 0, 1))  # 把channel 移到最前面\n",
    "\n",
    "        imgs.append(im1_tensor) \n",
    "        labels.append(int(label))\n",
    "\n",
    "    imgs_tensor = torch.stack(imgs)\n",
    "    labels_tensor = torch.tensor(labels)\n",
    "\n",
    "    return imgs_tensor, labels_tensor\n",
    "\n",
    "x, y = load_train_img('train.txt')\n",
    "val_x, val_y = load_img('val.txt')\n",
    "tx, ty = load_img('test.txt')"
   ]
  },
  {
   "cell_type": "code",
   "execution_count": 3,
   "metadata": {},
   "outputs": [],
   "source": [
    "y_tensor = torch.nn.functional.one_hot(y, num_classes=50)\n",
    "val_y_tensor = torch.nn.functional.one_hot(val_y, num_classes=50)\n",
    "test_y_tensor = torch.nn.functional.one_hot(ty, num_classes=50)\n",
    "train_dataset = TensorDataset(x, y_tensor)\n",
    "val_dataset = TensorDataset(val_x, val_y_tensor)\n",
    "test_dataset = TensorDataset(tx, test_y_tensor)\n",
    "\n",
    "batch_size = 128  # 可以自行調整 batch size 的大小\n",
    "shuffle = True   # 是否對資料進行洗牌\n",
    "train_loader = DataLoader(train_dataset, batch_size=batch_size, shuffle=shuffle)\n",
    "val_loader = DataLoader(val_dataset, batch_size=batch_size, shuffle=shuffle)\n",
    "test_loader = DataLoader(test_dataset, batch_size=batch_size, shuffle=shuffle)\n"
   ]
  },
  {
   "cell_type": "code",
   "execution_count": 9,
   "metadata": {},
   "outputs": [
    {
     "data": {
      "text/plain": [
       "ResNet(\n",
       "  (conv1): Conv2d(3, 64, kernel_size=(7, 7), stride=(2, 2), padding=(3, 3), bias=False)\n",
       "  (bn1): BatchNorm2d(64, eps=1e-05, momentum=0.1, affine=True, track_running_stats=True)\n",
       "  (relu): ReLU(inplace=True)\n",
       "  (maxpool): MaxPool2d(kernel_size=3, stride=2, padding=1, dilation=1, ceil_mode=False)\n",
       "  (layer1): Sequential(\n",
       "    (0): BasicBlock(\n",
       "      (conv1): Conv2d(64, 64, kernel_size=(3, 3), stride=(1, 1), padding=(1, 1), bias=False)\n",
       "      (bn1): BatchNorm2d(64, eps=1e-05, momentum=0.1, affine=True, track_running_stats=True)\n",
       "      (relu): ReLU(inplace=True)\n",
       "      (conv2): Conv2d(64, 64, kernel_size=(3, 3), stride=(1, 1), padding=(1, 1), bias=False)\n",
       "      (bn2): BatchNorm2d(64, eps=1e-05, momentum=0.1, affine=True, track_running_stats=True)\n",
       "    )\n",
       "    (1): BasicBlock(\n",
       "      (conv1): Conv2d(64, 64, kernel_size=(3, 3), stride=(1, 1), padding=(1, 1), bias=False)\n",
       "      (bn1): BatchNorm2d(64, eps=1e-05, momentum=0.1, affine=True, track_running_stats=True)\n",
       "      (relu): ReLU(inplace=True)\n",
       "      (conv2): Conv2d(64, 64, kernel_size=(3, 3), stride=(1, 1), padding=(1, 1), bias=False)\n",
       "      (bn2): BatchNorm2d(64, eps=1e-05, momentum=0.1, affine=True, track_running_stats=True)\n",
       "    )\n",
       "    (2): BasicBlock(\n",
       "      (conv1): Conv2d(64, 64, kernel_size=(3, 3), stride=(1, 1), padding=(1, 1), bias=False)\n",
       "      (bn1): BatchNorm2d(64, eps=1e-05, momentum=0.1, affine=True, track_running_stats=True)\n",
       "      (relu): ReLU(inplace=True)\n",
       "      (conv2): Conv2d(64, 64, kernel_size=(3, 3), stride=(1, 1), padding=(1, 1), bias=False)\n",
       "      (bn2): BatchNorm2d(64, eps=1e-05, momentum=0.1, affine=True, track_running_stats=True)\n",
       "    )\n",
       "  )\n",
       "  (layer2): Sequential(\n",
       "    (0): BasicBlock(\n",
       "      (conv1): Conv2d(64, 128, kernel_size=(3, 3), stride=(2, 2), padding=(1, 1), bias=False)\n",
       "      (bn1): BatchNorm2d(128, eps=1e-05, momentum=0.1, affine=True, track_running_stats=True)\n",
       "      (relu): ReLU(inplace=True)\n",
       "      (conv2): Conv2d(128, 128, kernel_size=(3, 3), stride=(1, 1), padding=(1, 1), bias=False)\n",
       "      (bn2): BatchNorm2d(128, eps=1e-05, momentum=0.1, affine=True, track_running_stats=True)\n",
       "      (downsample): Sequential(\n",
       "        (0): Conv2d(64, 128, kernel_size=(1, 1), stride=(2, 2), bias=False)\n",
       "        (1): BatchNorm2d(128, eps=1e-05, momentum=0.1, affine=True, track_running_stats=True)\n",
       "      )\n",
       "    )\n",
       "    (1): BasicBlock(\n",
       "      (conv1): Conv2d(128, 128, kernel_size=(3, 3), stride=(1, 1), padding=(1, 1), bias=False)\n",
       "      (bn1): BatchNorm2d(128, eps=1e-05, momentum=0.1, affine=True, track_running_stats=True)\n",
       "      (relu): ReLU(inplace=True)\n",
       "      (conv2): Conv2d(128, 128, kernel_size=(3, 3), stride=(1, 1), padding=(1, 1), bias=False)\n",
       "      (bn2): BatchNorm2d(128, eps=1e-05, momentum=0.1, affine=True, track_running_stats=True)\n",
       "    )\n",
       "    (2): BasicBlock(\n",
       "      (conv1): Conv2d(128, 128, kernel_size=(3, 3), stride=(1, 1), padding=(1, 1), bias=False)\n",
       "      (bn1): BatchNorm2d(128, eps=1e-05, momentum=0.1, affine=True, track_running_stats=True)\n",
       "      (relu): ReLU(inplace=True)\n",
       "      (conv2): Conv2d(128, 128, kernel_size=(3, 3), stride=(1, 1), padding=(1, 1), bias=False)\n",
       "      (bn2): BatchNorm2d(128, eps=1e-05, momentum=0.1, affine=True, track_running_stats=True)\n",
       "    )\n",
       "    (3): BasicBlock(\n",
       "      (conv1): Conv2d(128, 128, kernel_size=(3, 3), stride=(1, 1), padding=(1, 1), bias=False)\n",
       "      (bn1): BatchNorm2d(128, eps=1e-05, momentum=0.1, affine=True, track_running_stats=True)\n",
       "      (relu): ReLU(inplace=True)\n",
       "      (conv2): Conv2d(128, 128, kernel_size=(3, 3), stride=(1, 1), padding=(1, 1), bias=False)\n",
       "      (bn2): BatchNorm2d(128, eps=1e-05, momentum=0.1, affine=True, track_running_stats=True)\n",
       "    )\n",
       "  )\n",
       "  (layer3): Sequential(\n",
       "    (0): BasicBlock(\n",
       "      (conv1): Conv2d(128, 256, kernel_size=(3, 3), stride=(2, 2), padding=(1, 1), bias=False)\n",
       "      (bn1): BatchNorm2d(256, eps=1e-05, momentum=0.1, affine=True, track_running_stats=True)\n",
       "      (relu): ReLU(inplace=True)\n",
       "      (conv2): Conv2d(256, 256, kernel_size=(3, 3), stride=(1, 1), padding=(1, 1), bias=False)\n",
       "      (bn2): BatchNorm2d(256, eps=1e-05, momentum=0.1, affine=True, track_running_stats=True)\n",
       "      (downsample): Sequential(\n",
       "        (0): Conv2d(128, 256, kernel_size=(1, 1), stride=(2, 2), bias=False)\n",
       "        (1): BatchNorm2d(256, eps=1e-05, momentum=0.1, affine=True, track_running_stats=True)\n",
       "      )\n",
       "    )\n",
       "    (1): BasicBlock(\n",
       "      (conv1): Conv2d(256, 256, kernel_size=(3, 3), stride=(1, 1), padding=(1, 1), bias=False)\n",
       "      (bn1): BatchNorm2d(256, eps=1e-05, momentum=0.1, affine=True, track_running_stats=True)\n",
       "      (relu): ReLU(inplace=True)\n",
       "      (conv2): Conv2d(256, 256, kernel_size=(3, 3), stride=(1, 1), padding=(1, 1), bias=False)\n",
       "      (bn2): BatchNorm2d(256, eps=1e-05, momentum=0.1, affine=True, track_running_stats=True)\n",
       "    )\n",
       "    (2): BasicBlock(\n",
       "      (conv1): Conv2d(256, 256, kernel_size=(3, 3), stride=(1, 1), padding=(1, 1), bias=False)\n",
       "      (bn1): BatchNorm2d(256, eps=1e-05, momentum=0.1, affine=True, track_running_stats=True)\n",
       "      (relu): ReLU(inplace=True)\n",
       "      (conv2): Conv2d(256, 256, kernel_size=(3, 3), stride=(1, 1), padding=(1, 1), bias=False)\n",
       "      (bn2): BatchNorm2d(256, eps=1e-05, momentum=0.1, affine=True, track_running_stats=True)\n",
       "    )\n",
       "    (3): BasicBlock(\n",
       "      (conv1): Conv2d(256, 256, kernel_size=(3, 3), stride=(1, 1), padding=(1, 1), bias=False)\n",
       "      (bn1): BatchNorm2d(256, eps=1e-05, momentum=0.1, affine=True, track_running_stats=True)\n",
       "      (relu): ReLU(inplace=True)\n",
       "      (conv2): Conv2d(256, 256, kernel_size=(3, 3), stride=(1, 1), padding=(1, 1), bias=False)\n",
       "      (bn2): BatchNorm2d(256, eps=1e-05, momentum=0.1, affine=True, track_running_stats=True)\n",
       "    )\n",
       "    (4): BasicBlock(\n",
       "      (conv1): Conv2d(256, 256, kernel_size=(3, 3), stride=(1, 1), padding=(1, 1), bias=False)\n",
       "      (bn1): BatchNorm2d(256, eps=1e-05, momentum=0.1, affine=True, track_running_stats=True)\n",
       "      (relu): ReLU(inplace=True)\n",
       "      (conv2): Conv2d(256, 256, kernel_size=(3, 3), stride=(1, 1), padding=(1, 1), bias=False)\n",
       "      (bn2): BatchNorm2d(256, eps=1e-05, momentum=0.1, affine=True, track_running_stats=True)\n",
       "    )\n",
       "    (5): BasicBlock(\n",
       "      (conv1): Conv2d(256, 256, kernel_size=(3, 3), stride=(1, 1), padding=(1, 1), bias=False)\n",
       "      (bn1): BatchNorm2d(256, eps=1e-05, momentum=0.1, affine=True, track_running_stats=True)\n",
       "      (relu): ReLU(inplace=True)\n",
       "      (conv2): Conv2d(256, 256, kernel_size=(3, 3), stride=(1, 1), padding=(1, 1), bias=False)\n",
       "      (bn2): BatchNorm2d(256, eps=1e-05, momentum=0.1, affine=True, track_running_stats=True)\n",
       "    )\n",
       "  )\n",
       "  (layer4): Sequential(\n",
       "    (0): BasicBlock(\n",
       "      (conv1): Conv2d(256, 512, kernel_size=(3, 3), stride=(2, 2), padding=(1, 1), bias=False)\n",
       "      (bn1): BatchNorm2d(512, eps=1e-05, momentum=0.1, affine=True, track_running_stats=True)\n",
       "      (relu): ReLU(inplace=True)\n",
       "      (conv2): Conv2d(512, 512, kernel_size=(3, 3), stride=(1, 1), padding=(1, 1), bias=False)\n",
       "      (bn2): BatchNorm2d(512, eps=1e-05, momentum=0.1, affine=True, track_running_stats=True)\n",
       "      (downsample): Sequential(\n",
       "        (0): Conv2d(256, 512, kernel_size=(1, 1), stride=(2, 2), bias=False)\n",
       "        (1): BatchNorm2d(512, eps=1e-05, momentum=0.1, affine=True, track_running_stats=True)\n",
       "      )\n",
       "    )\n",
       "    (1): BasicBlock(\n",
       "      (conv1): Conv2d(512, 512, kernel_size=(3, 3), stride=(1, 1), padding=(1, 1), bias=False)\n",
       "      (bn1): BatchNorm2d(512, eps=1e-05, momentum=0.1, affine=True, track_running_stats=True)\n",
       "      (relu): ReLU(inplace=True)\n",
       "      (conv2): Conv2d(512, 512, kernel_size=(3, 3), stride=(1, 1), padding=(1, 1), bias=False)\n",
       "      (bn2): BatchNorm2d(512, eps=1e-05, momentum=0.1, affine=True, track_running_stats=True)\n",
       "    )\n",
       "    (2): BasicBlock(\n",
       "      (conv1): Conv2d(512, 512, kernel_size=(3, 3), stride=(1, 1), padding=(1, 1), bias=False)\n",
       "      (bn1): BatchNorm2d(512, eps=1e-05, momentum=0.1, affine=True, track_running_stats=True)\n",
       "      (relu): ReLU(inplace=True)\n",
       "      (conv2): Conv2d(512, 512, kernel_size=(3, 3), stride=(1, 1), padding=(1, 1), bias=False)\n",
       "      (bn2): BatchNorm2d(512, eps=1e-05, momentum=0.1, affine=True, track_running_stats=True)\n",
       "    )\n",
       "  )\n",
       "  (avgpool): AdaptiveAvgPool2d(output_size=(1, 1))\n",
       "  (fc): Linear(in_features=512, out_features=50, bias=True)\n",
       ")"
      ]
     },
     "execution_count": 9,
     "metadata": {},
     "output_type": "execute_result"
    }
   ],
   "source": [
    "model = models.resnet34(pretrained=False,num_classes = 50)\n",
    "num_classes = 50\n",
    "# model.fc = nn.Linear(model.fc.in_features, num_classes)\n",
    "device = torch.device(\"cuda:0\" if torch.cuda.is_available() else \"cpu\")\n",
    "model.to(device)  "
   ]
  },
  {
   "cell_type": "code",
   "execution_count": 11,
   "metadata": {},
   "outputs": [
    {
     "data": {
      "text/plain": [
       "=================================================================\n",
       "Layer (type:depth-idx)                   Param #\n",
       "=================================================================\n",
       "ResNet                                   --\n",
       "├─Conv2d: 1-1                            9,408\n",
       "├─BatchNorm2d: 1-2                       128\n",
       "├─ReLU: 1-3                              --\n",
       "├─MaxPool2d: 1-4                         --\n",
       "├─Sequential: 1-5                        --\n",
       "│    └─BasicBlock: 2-1                   --\n",
       "│    │    └─Conv2d: 3-1                  36,864\n",
       "│    │    └─BatchNorm2d: 3-2             128\n",
       "│    │    └─ReLU: 3-3                    --\n",
       "│    │    └─Conv2d: 3-4                  36,864\n",
       "│    │    └─BatchNorm2d: 3-5             128\n",
       "│    └─BasicBlock: 2-2                   --\n",
       "│    │    └─Conv2d: 3-6                  36,864\n",
       "│    │    └─BatchNorm2d: 3-7             128\n",
       "│    │    └─ReLU: 3-8                    --\n",
       "│    │    └─Conv2d: 3-9                  36,864\n",
       "│    │    └─BatchNorm2d: 3-10            128\n",
       "│    └─BasicBlock: 2-3                   --\n",
       "│    │    └─Conv2d: 3-11                 36,864\n",
       "│    │    └─BatchNorm2d: 3-12            128\n",
       "│    │    └─ReLU: 3-13                   --\n",
       "│    │    └─Conv2d: 3-14                 36,864\n",
       "│    │    └─BatchNorm2d: 3-15            128\n",
       "├─Sequential: 1-6                        --\n",
       "│    └─BasicBlock: 2-4                   --\n",
       "│    │    └─Conv2d: 3-16                 73,728\n",
       "│    │    └─BatchNorm2d: 3-17            256\n",
       "│    │    └─ReLU: 3-18                   --\n",
       "│    │    └─Conv2d: 3-19                 147,456\n",
       "│    │    └─BatchNorm2d: 3-20            256\n",
       "│    │    └─Sequential: 3-21             8,448\n",
       "│    └─BasicBlock: 2-5                   --\n",
       "│    │    └─Conv2d: 3-22                 147,456\n",
       "│    │    └─BatchNorm2d: 3-23            256\n",
       "│    │    └─ReLU: 3-24                   --\n",
       "│    │    └─Conv2d: 3-25                 147,456\n",
       "│    │    └─BatchNorm2d: 3-26            256\n",
       "│    └─BasicBlock: 2-6                   --\n",
       "│    │    └─Conv2d: 3-27                 147,456\n",
       "│    │    └─BatchNorm2d: 3-28            256\n",
       "│    │    └─ReLU: 3-29                   --\n",
       "│    │    └─Conv2d: 3-30                 147,456\n",
       "│    │    └─BatchNorm2d: 3-31            256\n",
       "│    └─BasicBlock: 2-7                   --\n",
       "│    │    └─Conv2d: 3-32                 147,456\n",
       "│    │    └─BatchNorm2d: 3-33            256\n",
       "│    │    └─ReLU: 3-34                   --\n",
       "│    │    └─Conv2d: 3-35                 147,456\n",
       "│    │    └─BatchNorm2d: 3-36            256\n",
       "├─Sequential: 1-7                        --\n",
       "│    └─BasicBlock: 2-8                   --\n",
       "│    │    └─Conv2d: 3-37                 294,912\n",
       "│    │    └─BatchNorm2d: 3-38            512\n",
       "│    │    └─ReLU: 3-39                   --\n",
       "│    │    └─Conv2d: 3-40                 589,824\n",
       "│    │    └─BatchNorm2d: 3-41            512\n",
       "│    │    └─Sequential: 3-42             33,280\n",
       "│    └─BasicBlock: 2-9                   --\n",
       "│    │    └─Conv2d: 3-43                 589,824\n",
       "│    │    └─BatchNorm2d: 3-44            512\n",
       "│    │    └─ReLU: 3-45                   --\n",
       "│    │    └─Conv2d: 3-46                 589,824\n",
       "│    │    └─BatchNorm2d: 3-47            512\n",
       "│    └─BasicBlock: 2-10                  --\n",
       "│    │    └─Conv2d: 3-48                 589,824\n",
       "│    │    └─BatchNorm2d: 3-49            512\n",
       "│    │    └─ReLU: 3-50                   --\n",
       "│    │    └─Conv2d: 3-51                 589,824\n",
       "│    │    └─BatchNorm2d: 3-52            512\n",
       "│    └─BasicBlock: 2-11                  --\n",
       "│    │    └─Conv2d: 3-53                 589,824\n",
       "│    │    └─BatchNorm2d: 3-54            512\n",
       "│    │    └─ReLU: 3-55                   --\n",
       "│    │    └─Conv2d: 3-56                 589,824\n",
       "│    │    └─BatchNorm2d: 3-57            512\n",
       "│    └─BasicBlock: 2-12                  --\n",
       "│    │    └─Conv2d: 3-58                 589,824\n",
       "│    │    └─BatchNorm2d: 3-59            512\n",
       "│    │    └─ReLU: 3-60                   --\n",
       "│    │    └─Conv2d: 3-61                 589,824\n",
       "│    │    └─BatchNorm2d: 3-62            512\n",
       "│    └─BasicBlock: 2-13                  --\n",
       "│    │    └─Conv2d: 3-63                 589,824\n",
       "│    │    └─BatchNorm2d: 3-64            512\n",
       "│    │    └─ReLU: 3-65                   --\n",
       "│    │    └─Conv2d: 3-66                 589,824\n",
       "│    │    └─BatchNorm2d: 3-67            512\n",
       "├─Sequential: 1-8                        --\n",
       "│    └─BasicBlock: 2-14                  --\n",
       "│    │    └─Conv2d: 3-68                 1,179,648\n",
       "│    │    └─BatchNorm2d: 3-69            1,024\n",
       "│    │    └─ReLU: 3-70                   --\n",
       "│    │    └─Conv2d: 3-71                 2,359,296\n",
       "│    │    └─BatchNorm2d: 3-72            1,024\n",
       "│    │    └─Sequential: 3-73             132,096\n",
       "│    └─BasicBlock: 2-15                  --\n",
       "│    │    └─Conv2d: 3-74                 2,359,296\n",
       "│    │    └─BatchNorm2d: 3-75            1,024\n",
       "│    │    └─ReLU: 3-76                   --\n",
       "│    │    └─Conv2d: 3-77                 2,359,296\n",
       "│    │    └─BatchNorm2d: 3-78            1,024\n",
       "│    └─BasicBlock: 2-16                  --\n",
       "│    │    └─Conv2d: 3-79                 2,359,296\n",
       "│    │    └─BatchNorm2d: 3-80            1,024\n",
       "│    │    └─ReLU: 3-81                   --\n",
       "│    │    └─Conv2d: 3-82                 2,359,296\n",
       "│    │    └─BatchNorm2d: 3-83            1,024\n",
       "├─AdaptiveAvgPool2d: 1-9                 --\n",
       "├─Linear: 1-10                           25,650\n",
       "=================================================================\n",
       "Total params: 21,310,322\n",
       "Trainable params: 21,310,322\n",
       "Non-trainable params: 0\n",
       "================================================================="
      ]
     },
     "execution_count": 11,
     "metadata": {},
     "output_type": "execute_result"
    }
   ],
   "source": [
    "summary(model)"
   ]
  },
  {
   "cell_type": "code",
   "execution_count": 12,
   "metadata": {},
   "outputs": [
    {
     "name": "stderr",
     "output_type": "stream",
     "text": [
      "Epoch 1/10: 100%|██████████| 495/495 [00:18<00:00, 26.69it/s]\n",
      "Evaluating: 100%|██████████| 4/4 [00:00<00:00, 71.67it/s]\n"
     ]
    },
    {
     "name": "stdout",
     "output_type": "stream",
     "text": [
      "Epoch 1/10, Training Loss: 3.1213, Training Accuracy: 16.07%, Validation Accuracy: 12.67%\n"
     ]
    },
    {
     "name": "stderr",
     "output_type": "stream",
     "text": [
      "Epoch 2/10: 100%|██████████| 495/495 [00:17<00:00, 27.53it/s]\n",
      "Evaluating: 100%|██████████| 4/4 [00:00<00:00, 98.04it/s]\n"
     ]
    },
    {
     "name": "stdout",
     "output_type": "stream",
     "text": [
      "Epoch 2/10, Training Loss: 2.5530, Training Accuracy: 27.76%, Validation Accuracy: 26.89%\n"
     ]
    },
    {
     "name": "stderr",
     "output_type": "stream",
     "text": [
      "Epoch 3/10: 100%|██████████| 495/495 [00:17<00:00, 27.85it/s]\n",
      "Evaluating: 100%|██████████| 4/4 [00:00<00:00, 96.68it/s]\n"
     ]
    },
    {
     "name": "stdout",
     "output_type": "stream",
     "text": [
      "Epoch 3/10, Training Loss: 2.1731, Training Accuracy: 36.74%, Validation Accuracy: 31.56%\n"
     ]
    },
    {
     "name": "stderr",
     "output_type": "stream",
     "text": [
      "Epoch 4/10: 100%|██████████| 495/495 [00:18<00:00, 26.79it/s]\n",
      "Evaluating: 100%|██████████| 4/4 [00:00<00:00, 85.87it/s]\n"
     ]
    },
    {
     "name": "stdout",
     "output_type": "stream",
     "text": [
      "Epoch 4/10, Training Loss: 1.8725, Training Accuracy: 44.24%, Validation Accuracy: 40.22%\n"
     ]
    },
    {
     "name": "stderr",
     "output_type": "stream",
     "text": [
      "Epoch 5/10: 100%|██████████| 495/495 [00:18<00:00, 26.81it/s]\n",
      "Evaluating: 100%|██████████| 4/4 [00:00<00:00, 95.59it/s]\n"
     ]
    },
    {
     "name": "stdout",
     "output_type": "stream",
     "text": [
      "Epoch 5/10, Training Loss: 1.6200, Training Accuracy: 50.90%, Validation Accuracy: 42.00%\n"
     ]
    },
    {
     "name": "stderr",
     "output_type": "stream",
     "text": [
      "Epoch 6/10: 100%|██████████| 495/495 [00:18<00:00, 26.69it/s]\n",
      "Evaluating: 100%|██████████| 4/4 [00:00<00:00, 95.11it/s]\n"
     ]
    },
    {
     "name": "stdout",
     "output_type": "stream",
     "text": [
      "Epoch 6/10, Training Loss: 1.3915, Training Accuracy: 56.79%, Validation Accuracy: 42.22%\n"
     ]
    },
    {
     "name": "stderr",
     "output_type": "stream",
     "text": [
      "Epoch 7/10: 100%|██████████| 495/495 [00:18<00:00, 26.83it/s]\n",
      "Evaluating: 100%|██████████| 4/4 [00:00<00:00, 92.10it/s]\n"
     ]
    },
    {
     "name": "stdout",
     "output_type": "stream",
     "text": [
      "Epoch 7/10, Training Loss: 1.1706, Training Accuracy: 62.83%, Validation Accuracy: 46.67%\n"
     ]
    },
    {
     "name": "stderr",
     "output_type": "stream",
     "text": [
      "Epoch 8/10: 100%|██████████| 495/495 [00:18<00:00, 26.87it/s]\n",
      "Evaluating: 100%|██████████| 4/4 [00:00<00:00, 94.81it/s]\n"
     ]
    },
    {
     "name": "stdout",
     "output_type": "stream",
     "text": [
      "Epoch 8/10, Training Loss: 0.9515, Training Accuracy: 68.96%, Validation Accuracy: 48.89%\n"
     ]
    },
    {
     "name": "stderr",
     "output_type": "stream",
     "text": [
      "Epoch 9/10: 100%|██████████| 495/495 [00:18<00:00, 27.47it/s]\n",
      "Evaluating: 100%|██████████| 4/4 [00:00<00:00, 97.05it/s]\n"
     ]
    },
    {
     "name": "stdout",
     "output_type": "stream",
     "text": [
      "Epoch 9/10, Training Loss: 0.7336, Training Accuracy: 75.55%, Validation Accuracy: 43.78%\n"
     ]
    },
    {
     "name": "stderr",
     "output_type": "stream",
     "text": [
      "Epoch 10/10: 100%|██████████| 495/495 [00:18<00:00, 26.71it/s]\n",
      "Evaluating: 100%|██████████| 4/4 [00:00<00:00, 96.37it/s]\n"
     ]
    },
    {
     "name": "stdout",
     "output_type": "stream",
     "text": [
      "Epoch 10/10, Training Loss: 0.5502, Training Accuracy: 81.41%, Validation Accuracy: 43.56%\n"
     ]
    },
    {
     "data": {
      "image/png": "[encoded data removed]",
      "text/plain": [
       "<Figure size 640x480 with 1 Axes>"
      ]
     },
     "metadata": {},
     "output_type": "display_data"
    }
   ],
   "source": [
    "\n",
    "\n",
    "criterion = nn.CrossEntropyLoss()\n",
    "optimizer = optim.Adam(model.parameters(), lr=0.001)\n",
    "epochs = 10\n",
    "\n",
    "traing_acc = []\n",
    "val_acc = []\n",
    "\n",
    "for epoch in range(epochs):\n",
    "    model.train()\n",
    "    running_loss = 0.0\n",
    "\n",
    "    train_correct = 0\n",
    "    train_total = 0\n",
    "\n",
    "    for inputs, labels in tqdm(train_loader, desc=f\"Epoch {epoch + 1}/{epochs}\"):\n",
    "\n",
    "        inputs, labels = inputs.float().to(device), labels.float().to(device)  # 將數據移動到設備上\n",
    "        outputs = model(inputs)\n",
    "        loss = criterion(outputs, labels)\n",
    "        optimizer.zero_grad()\n",
    "        loss.backward()\n",
    "        optimizer.step()\n",
    "\n",
    "        running_loss += loss.item() * inputs.size(0)\n",
    "        labels = labels.argmax(dim=1)\n",
    "        _, predicted = torch.max(outputs, 1)\n",
    "        train_correct += (predicted == labels).sum().item()\n",
    "        train_total += labels.size(0)\n",
    "\n",
    "    traing_acc.append(100 * train_correct / train_total)\n",
    "\n",
    "    epoch_loss = running_loss / len(train_loader.dataset)\n",
    "\n",
    "    model.eval()  \n",
    "    correct = 0\n",
    "    total = 0\n",
    "\n",
    "    with torch.no_grad():\n",
    "        for inputs, labels in tqdm(val_loader, desc=\"Evaluating\"):\n",
    "            inputs, labels = inputs.float().to(device), labels.float().to(device)\n",
    "            labels = labels.argmax(dim=1)\n",
    "            outputs = model(inputs)\n",
    "            _, predicted = torch.max(outputs, 1)\n",
    "            total += labels.size(0)\n",
    "            # print(predicted.shape)\n",
    "            # print(labels.shape)\n",
    "            \n",
    "            correct += (predicted == labels).sum().item()\n",
    "\n",
    "    val_acc.append(100 * correct / total)\n",
    "\n",
    "    print(f\"Epoch {epoch + 1}/{epochs}, Training Loss: {epoch_loss:.4f}, Training Accuracy: {100 * train_correct / train_total:.2f}%, Validation Accuracy: {100 * correct / total:.2f}%\")\n",
    "\n",
    "plt.plot(traing_acc, label='Training Accuracy')\n",
    "plt.plot(val_acc, label='Validation Accuracy')\n",
    "plt.xlabel('Epoch')\n",
    "plt.ylabel('Accuracy')\n",
    "plt.legend()\n",
    "plt.savefig(\"./results/HW2-2/ResNet34_accuracy_plot.png\")\n",
    "plt.show()\n"
   ]
  },
  {
   "cell_type": "code",
   "execution_count": 13,
   "metadata": {},
   "outputs": [
    {
     "name": "stderr",
     "output_type": "stream",
     "text": [
      "Evaluating: 100%|██████████| 4/4 [00:00<00:00, 84.48it/s]"
     ]
    },
    {
     "name": "stdout",
     "output_type": "stream",
     "text": [
      "test Accuracy: 0.4756\n"
     ]
    },
    {
     "name": "stderr",
     "output_type": "stream",
     "text": [
      "\n"
     ]
    }
   ],
   "source": [
    "model.eval() \n",
    "correct = 0\n",
    "total = 0\n",
    "\n",
    "with torch.no_grad():\n",
    "    for inputs, labels in tqdm(test_loader, desc=\"Evaluating\"):\n",
    "        inputs, labels = inputs.float().to(device), labels.float().to(device)\n",
    "        labels = labels.argmax(dim=1)\n",
    "        outputs = model(inputs)\n",
    "        _, predicted = torch.max(outputs, 1)\n",
    "        total += labels.size(0)\n",
    "        # print(predicted.shape)\n",
    "        # print(labels.shape)\n",
    "        \n",
    "        correct += (predicted == labels).sum().item()\n",
    "\n",
    "accuracy = correct / total\n",
    "print(f\"test Accuracy: {accuracy:.4f}\")"
   ]
  },
  {
   "cell_type": "code",
   "execution_count": 14,
   "metadata": {},
   "outputs": [],
   "source": [
    "torch.save(model, './model/HW2-2/resnet34/resnet34.pth')"
   ]
  }
 ],
 "metadata": {
  "kernelspec": {
   "display_name": "Python 3",
   "language": "python",
   "name": "python3"
  },
  "language_info": {
   "codemirror_mode": {
    "name": "ipython",
    "version": 3
   },
   "file_extension": ".py",
   "mimetype": "text/x-python",
   "name": "python",
   "nbconvert_exporter": "python",
   "pygments_lexer": "ipython3",
   "version": "3.10.12"
  }
 },
 "nbformat": 4,
 "nbformat_minor": 2
}
