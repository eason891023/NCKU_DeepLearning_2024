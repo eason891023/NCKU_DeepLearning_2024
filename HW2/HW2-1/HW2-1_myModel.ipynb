{
 "cells": [
  {
   "cell_type": "code",
   "execution_count": 1,
   "metadata": {},
   "outputs": [],
   "source": [
    "import torch\n",
    "import torch.nn as nn\n",
    "import torch.nn.functional as F\n",
    "from torchvision import transforms\n",
    "from torch.utils.data import TensorDataset, DataLoader,Dataset\n",
    "import torch.optim as optim\n",
    "import torchvision.transforms.functional as TF\n",
    "from torchinfo import summary\n",
    "\n",
    "import numpy as np\n",
    "from numpy import linalg as LA\n",
    "import cv2\n",
    "import matplotlib.pyplot as plt\n",
    "from tqdm import tqdm\n",
    "import random"
   ]
  },
  {
   "cell_type": "code",
   "execution_count": 2,
   "metadata": {},
   "outputs": [
    {
     "name": "stdout",
     "output_type": "stream",
     "text": [
      "Total train images: 63325\n"
     ]
    },
    {
     "name": "stderr",
     "output_type": "stream",
     "text": [
      "Loading images: 100%|██████████| 63325/63325 [00:26<00:00, 2429.83it/s]\n"
     ]
    },
    {
     "name": "stdout",
     "output_type": "stream",
     "text": [
      "Total train images: 450\n"
     ]
    },
    {
     "name": "stderr",
     "output_type": "stream",
     "text": [
      "Loading images: 100%|██████████| 450/450 [00:00<00:00, 2351.74it/s]\n"
     ]
    },
    {
     "name": "stdout",
     "output_type": "stream",
     "text": [
      "Total train images: 450\n"
     ]
    },
    {
     "name": "stderr",
     "output_type": "stream",
     "text": [
      "Loading images: 100%|██████████| 450/450 [00:00<00:00, 2445.72it/s]\n"
     ]
    },
    {
     "name": "stdout",
     "output_type": "stream",
     "text": [
      "Total train images: 63325\n"
     ]
    },
    {
     "name": "stderr",
     "output_type": "stream",
     "text": [
      "Loading images: 100%|██████████| 63325/63325 [00:22<00:00, 2774.15it/s]\n"
     ]
    },
    {
     "name": "stdout",
     "output_type": "stream",
     "text": [
      "Total train images: 450\n"
     ]
    },
    {
     "name": "stderr",
     "output_type": "stream",
     "text": [
      "Loading images: 100%|██████████| 450/450 [00:00<00:00, 2815.02it/s]\n"
     ]
    },
    {
     "name": "stdout",
     "output_type": "stream",
     "text": [
      "Total train images: 450\n"
     ]
    },
    {
     "name": "stderr",
     "output_type": "stream",
     "text": [
      "Loading images: 100%|██████████| 450/450 [00:00<00:00, 2791.58it/s]\n"
     ]
    },
    {
     "name": "stdout",
     "output_type": "stream",
     "text": [
      "Total train images: 63325\n"
     ]
    },
    {
     "name": "stderr",
     "output_type": "stream",
     "text": [
      "Loading images: 100%|██████████| 63325/63325 [00:22<00:00, 2799.53it/s]\n"
     ]
    },
    {
     "name": "stdout",
     "output_type": "stream",
     "text": [
      "Total train images: 450\n"
     ]
    },
    {
     "name": "stderr",
     "output_type": "stream",
     "text": [
      "Loading images: 100%|██████████| 450/450 [00:00<00:00, 2857.10it/s]\n"
     ]
    },
    {
     "name": "stdout",
     "output_type": "stream",
     "text": [
      "Total train images: 450\n"
     ]
    },
    {
     "name": "stderr",
     "output_type": "stream",
     "text": [
      "Loading images: 100%|██████████| 450/450 [00:00<00:00, 2872.60it/s]\n"
     ]
    },
    {
     "name": "stdout",
     "output_type": "stream",
     "text": [
      "Total train images: 63325\n"
     ]
    },
    {
     "name": "stderr",
     "output_type": "stream",
     "text": [
      "Loading images: 100%|██████████| 63325/63325 [00:22<00:00, 2783.53it/s]\n"
     ]
    },
    {
     "name": "stdout",
     "output_type": "stream",
     "text": [
      "Total train images: 450\n"
     ]
    },
    {
     "name": "stderr",
     "output_type": "stream",
     "text": [
      "Loading images: 100%|██████████| 450/450 [00:00<00:00, 2766.41it/s]\n"
     ]
    },
    {
     "name": "stdout",
     "output_type": "stream",
     "text": [
      "Total train images: 450\n"
     ]
    },
    {
     "name": "stderr",
     "output_type": "stream",
     "text": [
      "Loading images: 100%|██████████| 450/450 [00:00<00:00, 2794.46it/s]\n"
     ]
    },
    {
     "name": "stdout",
     "output_type": "stream",
     "text": [
      "Total train images: 63325\n"
     ]
    },
    {
     "name": "stderr",
     "output_type": "stream",
     "text": [
      "Loading images: 100%|██████████| 63325/63325 [00:22<00:00, 2796.41it/s]\n"
     ]
    },
    {
     "name": "stdout",
     "output_type": "stream",
     "text": [
      "Total train images: 450\n"
     ]
    },
    {
     "name": "stderr",
     "output_type": "stream",
     "text": [
      "Loading images: 100%|██████████| 450/450 [00:00<00:00, 2833.24it/s]\n"
     ]
    },
    {
     "name": "stdout",
     "output_type": "stream",
     "text": [
      "Total train images: 450\n"
     ]
    },
    {
     "name": "stderr",
     "output_type": "stream",
     "text": [
      "Loading images: 100%|██████████| 450/450 [00:00<00:00, 2859.23it/s]\n"
     ]
    },
    {
     "name": "stdout",
     "output_type": "stream",
     "text": [
      "Total train images: 63325\n"
     ]
    },
    {
     "name": "stderr",
     "output_type": "stream",
     "text": [
      "Loading images: 100%|██████████| 63325/63325 [00:23<00:00, 2733.70it/s]\n"
     ]
    },
    {
     "name": "stdout",
     "output_type": "stream",
     "text": [
      "Total train images: 450\n"
     ]
    },
    {
     "name": "stderr",
     "output_type": "stream",
     "text": [
      "Loading images: 100%|██████████| 450/450 [00:00<00:00, 2825.29it/s]\n"
     ]
    },
    {
     "name": "stdout",
     "output_type": "stream",
     "text": [
      "Total train images: 450\n"
     ]
    },
    {
     "name": "stderr",
     "output_type": "stream",
     "text": [
      "Loading images: 100%|██████████| 450/450 [00:00<00:00, 2844.35it/s]\n"
     ]
    },
    {
     "name": "stdout",
     "output_type": "stream",
     "text": [
      "Total train images: 63325\n"
     ]
    },
    {
     "name": "stderr",
     "output_type": "stream",
     "text": [
      "Loading images: 100%|██████████| 63325/63325 [00:24<00:00, 2597.37it/s]\n"
     ]
    },
    {
     "name": "stdout",
     "output_type": "stream",
     "text": [
      "Total train images: 450\n"
     ]
    },
    {
     "name": "stderr",
     "output_type": "stream",
     "text": [
      "Loading images: 100%|██████████| 450/450 [00:00<00:00, 2821.64it/s]\n"
     ]
    },
    {
     "name": "stdout",
     "output_type": "stream",
     "text": [
      "Total train images: 450\n"
     ]
    },
    {
     "name": "stderr",
     "output_type": "stream",
     "text": [
      "Loading images: 100%|██████████| 450/450 [00:00<00:00, 2847.34it/s]\n"
     ]
    }
   ],
   "source": [
    "\n",
    "def load_3channel_img(file_path):\n",
    "    with open(file_path) as f:\n",
    "        lines = f.readlines()\n",
    "    imgs, labels = [], []\n",
    "    # imgs = torch.Tensor()\n",
    "    # labels = []\n",
    "    target_size=(128, 128)\n",
    "    print('Total train images:', len(lines))\n",
    "    for i in tqdm(range(len(lines)), desc=\"Loading images\"):\n",
    "    # for i in tqdm(range(100), desc=\"Loading images\"):\n",
    "        fn, label = lines[i].strip().split(' ')\n",
    "        im1 = cv2.imread(fn)\n",
    "        # 如果需要進行影像處理，請在這裡添加相應的處理步驟\n",
    "        im1 = cv2.resize(im1, target_size)\n",
    "\n",
    "        # 轉換成 PyTorch Tensor\n",
    "        im1_tensor = torch.from_numpy(im1.transpose(2, 0, 1))  # 將通道維度移動到最前面\n",
    "        \n",
    "        imgs.append(im1_tensor) \n",
    "        labels.append(int(label))\n",
    "\n",
    "    imgs_tensor = torch.stack(imgs)  # 將列表中的 Tensor 堆疊成一個整體 Tensor\n",
    "    labels_tensor = torch.tensor(labels)\n",
    "\n",
    "    return imgs_tensor, labels_tensor\n",
    "\n",
    "x_3c, y_3c = load_3channel_img('train.txt')\n",
    "val_x_3c, val_y_3c = load_3channel_img('val.txt')\n",
    "tx_3c, ty_3c = load_3channel_img('test.txt')\n",
    "\n",
    "\n",
    "def load_2channel_img(file_path,channel = \"RG\"):\n",
    "    with open(file_path) as f:\n",
    "        lines = f.readlines()\n",
    "    imgs, labels = [], []\n",
    "    # imgs = torch.Tensor()\n",
    "    # labels = []\n",
    "    target_size=(128, 128)\n",
    "    print('Total train images:', len(lines))\n",
    "    for i in tqdm(range(len(lines)), desc=\"Loading images\"):\n",
    "    # for i in tqdm(range(100), desc=\"Loading images\"):\n",
    "        fn, label = lines[i].strip().split(' ')\n",
    "        im1 = cv2.imread(fn)\n",
    "        # 如果需要進行影像處理，請在這裡添加相應的處理步驟\n",
    "        im1 = cv2.resize(im1, target_size)\n",
    "\n",
    "        if channel == \"RG\":\n",
    "            im1_rg = im1[:, :, 0:2]\n",
    "            im1_rg_tensor = torch.from_numpy(im1_rg.transpose(2, 0, 1))\n",
    "            imgs.append(im1_rg_tensor)\n",
    "            labels.append(int(label))\n",
    "            # print(im1_rg.shape)\n",
    "        elif channel == \"GB\":\n",
    "            im1_gb = im1[:, :, 1:3]\n",
    "            im1_gb_tensor = torch.from_numpy(im1_gb.transpose(2, 0, 1))\n",
    "            imgs.append(im1_gb_tensor)\n",
    "            labels.append(int(label))\n",
    "            # print(im1_gb.shape)\n",
    "        else:\n",
    "            im1_rb = im1[:, :, [0, 2]]\n",
    "            im1_rb_tensor = torch.from_numpy(im1_rb.transpose(2, 0, 1))\n",
    "            imgs.append(im1_rb_tensor)\n",
    "            labels.append(int(label))\n",
    "            # print(im1_rb.shape)\n",
    "\n",
    "\n",
    "    imgs_tensor = torch.stack(imgs)  # 將列表中的 Tensor 堆疊成一個整體 Tensor\n",
    "    labels_tensor = torch.tensor(labels)\n",
    "\n",
    "    return imgs_tensor, labels_tensor\n",
    "\n",
    "x_RG, y_RG = load_2channel_img('train.txt',\"RG\")\n",
    "val_x_RG, val_y_RG = load_2channel_img('val.txt',\"RG\")\n",
    "tx_RG, ty_RG = load_2channel_img('test.txt',\"RG\")\n",
    "x_GB, y_GB = load_2channel_img('train.txt',\"GB\")\n",
    "val_x_GB, val_y_GB = load_2channel_img('val.txt',\"GB\")\n",
    "tx_GB, ty_GB = load_2channel_img('test.txt',\"GB\")\n",
    "x_RB, y_RB = load_2channel_img('train.txt',\"RB\")\n",
    "val_x_RB, val_y_RB = load_2channel_img('val.txt',\"RB\")\n",
    "tx_RB, ty_RB = load_2channel_img('test.txt',\"RB\")\n",
    "\n",
    "def load_1channel_img(file_path,channel = \"R\"):\n",
    "    with open(file_path) as f:\n",
    "        lines = f.readlines()\n",
    "    imgs, labels = [], []\n",
    "    # imgs = torch.Tensor()\n",
    "    # labels = []\n",
    "    target_size=(128, 128)\n",
    "    print('Total train images:', len(lines))\n",
    "    for i in tqdm(range(len(lines)), desc=\"Loading images\"):\n",
    "    # for i in tqdm(range(100), desc=\"Loading images\"):\n",
    "        fn, label = lines[i].strip().split(' ')\n",
    "        im1 = cv2.imread(fn)\n",
    "        # 如果需要進行影像處理，請在這裡添加相應的處理步驟\n",
    "        im1 = cv2.resize(im1, target_size)\n",
    "\n",
    "        # 把圖片RGB都拆開\n",
    "        im1_r, im1_g, im1_b = im1[:, :, 0], im1[:, :, 1], im1[:, :, 2]\n",
    "        if channel == \"R\":\n",
    "            im1_r = np.expand_dims(im1_r, axis=2)\n",
    "            im1_r_tensor = torch.from_numpy(im1_r.transpose(2, 0, 1))\n",
    "            imgs.append(im1_r_tensor)\n",
    "            labels.append(int(label))\n",
    "        elif channel == \"G\":\n",
    "            im1_g = np.expand_dims(im1_g, axis=2)\n",
    "            im1_g_tensor = torch.from_numpy(im1_g.transpose(2, 0, 1))\n",
    "            imgs.append(im1_g_tensor)\n",
    "            labels.append(int(label))\n",
    "        else:\n",
    "            im1_b = np.expand_dims(im1_b, axis=2)\n",
    "            im1_b_tensor = torch.from_numpy(im1_b.transpose(2, 0, 1))\n",
    "            imgs.append(im1_b_tensor)\n",
    "            labels.append(int(label))\n",
    "    \n",
    "    imgs_tensor = torch.stack(imgs)  # 將列表中的 Tensor 堆疊成一個整體 Tensor\n",
    "    labels_tensor = torch.tensor(labels)\n",
    "\n",
    "    return imgs_tensor, labels_tensor\n",
    "\n",
    "x_R, y_R = load_1channel_img('train.txt',\"R\")\n",
    "val_x_R, val_y_R = load_1channel_img('val.txt',\"R\")\n",
    "tx_R, ty_R = load_1channel_img('test.txt',\"R\")\n",
    "x_G, y_G = load_1channel_img('train.txt',\"G\")\n",
    "val_x_G, val_y_G = load_1channel_img('val.txt',\"G\")\n",
    "tx_G, ty_G = load_1channel_img('test.txt',\"G\")\n",
    "x_B, y_B = load_1channel_img('train.txt',\"B\")\n",
    "val_x_B, val_y_B = load_1channel_img('val.txt',\"B\")\n",
    "tx_B, ty_B = load_1channel_img('test.txt',\"B\")"
   ]
  },
  {
   "cell_type": "code",
   "execution_count": 3,
   "metadata": {},
   "outputs": [
    {
     "name": "stdout",
     "output_type": "stream",
     "text": [
      "torch.Size([8, 64, 32, 32])\n"
     ]
    }
   ],
   "source": [
    "class attention2d(nn.Module):\n",
    "    def __init__(self, in_planes, ratios, K, temperature, init_weight=True):\n",
    "        super(attention2d, self).__init__()\n",
    "        assert temperature%3==1\n",
    "        self.avgpool = nn.AdaptiveAvgPool2d(1)\n",
    "        if in_planes!=3:\n",
    "            hidden_planes = int(in_planes*ratios)+1\n",
    "        else:\n",
    "            hidden_planes = K\n",
    "\n",
    "        self.fc1 = nn.Conv2d(in_planes, hidden_planes, 1, bias=False)\n",
    "        # self.bn = nn.BatchNorm2d(hidden_planes)\n",
    "        self.fc2 = nn.Conv2d(hidden_planes, K, 1, bias=True)\n",
    "        self.temperature = temperature\n",
    "        if init_weight:\n",
    "            self._initialize_weights()\n",
    "\n",
    "\n",
    "    def _initialize_weights(self):\n",
    "        for m in self.modules():\n",
    "            if isinstance(m, nn.Conv2d):\n",
    "                nn.init.kaiming_normal_(m.weight, mode='fan_out', nonlinearity='relu')\n",
    "                if m.bias is not None:\n",
    "                    nn.init.constant_(m.bias, 0)\n",
    "            if isinstance(m ,nn.BatchNorm2d):\n",
    "                nn.init.constant_(m.weight, 1)\n",
    "                nn.init.constant_(m.bias, 0)\n",
    "\n",
    "    def updata_temperature(self):\n",
    "        if self.temperature!=1:\n",
    "            self.temperature -=3\n",
    "            print('Change temperature to:', str(self.temperature))\n",
    "\n",
    "\n",
    "    def forward(self, x):\n",
    "        x = self.avgpool(x)\n",
    "        x = self.fc1(x)\n",
    "        x = F.relu(x)\n",
    "        # print(x.shape)\n",
    "        x = self.fc2(x).view(x.size(0), -1)\n",
    "        return F.softmax(x/self.temperature, 1)\n",
    "\n",
    "class Dynamic_conv2d_const_channel(nn.Module):\n",
    "    def __init__(self, in_planes, out_planes, kernel_size, ratio=0.25, stride=1, padding=0, dilation=1, groups=1, bias=True, K=4,temperature=34, init_weight=True):\n",
    "        super(Dynamic_conv2d_const_channel, self).__init__()\n",
    "        assert in_planes%groups==0\n",
    "        self.in_planes = in_planes\n",
    "        self.out_planes = out_planes\n",
    "        self.kernel_size = kernel_size\n",
    "        self.stride = stride\n",
    "        self.padding = padding\n",
    "        self.dilation = dilation\n",
    "        self.groups = groups\n",
    "        self.bias = bias\n",
    "        self.K = K\n",
    "        self.attention = attention2d(in_planes, ratio, K, temperature)\n",
    "\n",
    "        self.weight = nn.Parameter(torch.randn(K, out_planes, in_planes//groups, kernel_size, kernel_size), requires_grad=True)\n",
    "        if bias:\n",
    "            self.bias = nn.Parameter(torch.zeros(K, out_planes))\n",
    "        else:\n",
    "            self.bias = None\n",
    "        if init_weight:\n",
    "            self._initialize_weights()\n",
    "\n",
    "        #TODO 初始化\n",
    "    def _initialize_weights(self):\n",
    "        for i in range(self.K):\n",
    "            nn.init.kaiming_uniform_(self.weight[i])\n",
    "\n",
    "\n",
    "    def update_temperature(self):\n",
    "        self.attention.updata_temperature()\n",
    "\n",
    "    def forward(self, x):\n",
    "        softmax_attention = self.attention(x)\n",
    "        batch_size, in_planes, height, width = x.size()\n",
    "        x = x.view(1, -1, height, width)\n",
    "        weight = self.weight.view(self.K, -1)\n",
    "\n",
    "        aggregate_weight = torch.mm(softmax_attention, weight).view(batch_size*self.out_planes, self.in_planes//self.groups, self.kernel_size, self.kernel_size)\n",
    "        if self.bias is not None:\n",
    "            aggregate_bias = torch.mm(softmax_attention, self.bias).view(-1)\n",
    "            output = F.conv2d(x, weight=aggregate_weight, bias=aggregate_bias, stride=self.stride, padding=self.padding,\n",
    "                              dilation=self.dilation, groups=self.groups*batch_size)\n",
    "        else:\n",
    "            output = F.conv2d(x, weight=aggregate_weight, bias=None, stride=self.stride, padding=self.padding,\n",
    "                              dilation=self.dilation, groups=self.groups * batch_size)\n",
    "\n",
    "        output = output.view(batch_size, self.out_planes, output.size(-2), output.size(-1))\n",
    "        return output\n",
    "    \n",
    "\n",
    "    \n",
    "class AdaptiveChannelConvModule(nn.Module):\n",
    "    def __init__(self, out_channels, kernel_size,pool = True):\n",
    "        super(AdaptiveChannelConvModule, self).__init__()\n",
    "        self.out_channels = out_channels\n",
    "        self.kernel_size = kernel_size\n",
    "        self.conv = Dynamic_conv2d_const_channel(out_channels, out_channels, kernel_size, padding=kernel_size // 2)\n",
    "        self.conv_pad = Dynamic_conv2d_const_channel(2, out_channels//2, kernel_size, padding=kernel_size // 2)\n",
    "        self.bn1_pad = nn.BatchNorm2d(out_channels//2)\n",
    "        self.pool = nn.MaxPool2d(kernel_size=2, stride=2, padding=0)\n",
    "\n",
    "        self.pooling = pool\n",
    "        \n",
    "    def forward(self, x):\n",
    "        batch_size, in_channels, height, width = x.shape\n",
    "        \n",
    "        if in_channels < self.out_channels:\n",
    "            \n",
    "            x_avgpooled = x.mean(dim=1, keepdim=True)        #channel wise avg pooling\n",
    "            x_maxpooled = x.max(dim=1, keepdim=True).values  #channel wise max pooling\n",
    "            x_pad = torch.cat([x_avgpooled, x_maxpooled], dim=1)\n",
    "\n",
    "            if self.pooling:\n",
    "                x_pad = self.pool(F.relu(self.bn1_pad(self.conv_pad(x_pad))))\n",
    "                x = self.pool(x)\n",
    "            else:\n",
    "                x_pad = F.relu(self.bn1_pad(self.conv_pad(x_pad)))\n",
    "\n",
    "            # concat input x and featuremaps x_pad\n",
    "            x = torch.cat([x, x_pad], dim=1)\n",
    "            \n",
    "            # padding channel to self.out_channels\n",
    "            if x.shape[1] < self.out_channels:\n",
    "                # print(\"asasdasd\")\n",
    "                x_avgpooled = x.mean(dim=1, keepdim=True)\n",
    "                x_maxpooled = x.max(dim=1, keepdim=True).values\n",
    "                x_avgpooled_repeated = x_avgpooled.repeat(1, (self.out_channels - x.shape[1]) // 2, 1, 1)\n",
    "                x = torch.cat([x, x_avgpooled_repeated], dim=1)\n",
    "                x_maxpooled = x_maxpooled.repeat(1, self.out_channels - x.shape[1], 1, 1)\n",
    "                x = torch.cat([x, x_maxpooled], dim=1) \n",
    "\n",
    "        # ensure inputs channel size = self.out_channels\n",
    "        if x.shape[1] > self.out_channels:\n",
    "                x = x[:, :self.out_channels, :, :]\n",
    "    \n",
    "        out = self.conv(x)\n",
    "        return out\n",
    "\n",
    "\n",
    "\n",
    "model = AdaptiveChannelConvModule(out_channels=64, kernel_size=3)\n",
    "input_image = torch.randn(8, 3, 64, 64) \n",
    "output = model(input_image)\n",
    "print(output.shape)  # 應為 (1, 64, 64, 64)"
   ]
  },
  {
   "cell_type": "code",
   "execution_count": 4,
   "metadata": {},
   "outputs": [],
   "source": [
    "# # 測試\n",
    "# # x1 = torch.randn(64, 3, 128, 128)  # 一個RGB圖像\n",
    "# dynamic_conv = Dynamic_conv2d(out_planes=64, kernel_size=3,stride = 1)\n",
    "# # out1 = dynamic_conv(x1)\n",
    "# # print(\"done 1\")\n",
    "# # print(out1.shape)  # 應輸出 torch.Size([1, 64, 224, 224])\n",
    "\n",
    "# x2 = torch.randn(64, 128, 128, 128)\n",
    "# out2 = dynamic_conv(x2)\n",
    "# print(\"done\")\n",
    "# print(out2.shape)  # 應輸出 torch.Size([1, 64, 224, 224])\n",
    "\n",
    "# # x3 = torch.randn(64, 2, 128, 128)\n",
    "# # # dynamic_conv = Dynamic_conv2d(out_planes=32, kernel_size=3,stride = 1)\n",
    "# # out2 = dynamic_conv(x3)\n",
    "# # print(out2.shape)  # 應輸出 torch.Size([1, 64, 224, 224])"
   ]
  },
  {
   "cell_type": "code",
   "execution_count": 5,
   "metadata": {},
   "outputs": [],
   "source": [
    "# RG\n",
    "y_RG_tensor = torch.nn.functional.one_hot(y_RG, num_classes=50)\n",
    "val_y_RG_tensor = torch.nn.functional.one_hot(val_y_RG, num_classes=50)\n",
    "ty_RG_tensor = torch.nn.functional.one_hot(ty_RG, num_classes=50)\n",
    "\n",
    "# RB\n",
    "y_RB_tensor = torch.nn.functional.one_hot(y_RB, num_classes=50)\n",
    "val_y_RB_tensor = torch.nn.functional.one_hot(val_y_RB, num_classes=50)\n",
    "ty_RB_tensor = torch.nn.functional.one_hot(ty_RB, num_classes=50)\n",
    "\n",
    "# GB\n",
    "y_GB_tensor = torch.nn.functional.one_hot(y_GB, num_classes=50)\n",
    "val_y_GB_tensor = torch.nn.functional.one_hot(val_y_GB, num_classes=50)\n",
    "ty_GB_tensor = torch.nn.functional.one_hot(ty_GB, num_classes=50)\n",
    "\n",
    "# R\n",
    "y_R_tensor = torch.nn.functional.one_hot(y_R, num_classes=50)\n",
    "val_y_R_tensor = torch.nn.functional.one_hot(val_y_R, num_classes=50)\n",
    "ty_R_tensor = torch.nn.functional.one_hot(ty_R, num_classes=50)\n",
    "\n",
    "# G\n",
    "y_G_tensor = torch.nn.functional.one_hot(y_G, num_classes=50)\n",
    "val_y_G_tensor = torch.nn.functional.one_hot(val_y_G, num_classes=50)\n",
    "ty_G_tensor = torch.nn.functional.one_hot(ty_G, num_classes=50)\n",
    "\n",
    "# B\n",
    "y_B_tensor = torch.nn.functional.one_hot(y_B, num_classes=50)\n",
    "val_y_B_tensor = torch.nn.functional.one_hot(val_y_B, num_classes=50)\n",
    "ty_B_tensor = torch.nn.functional.one_hot(ty_B, num_classes=50)\n",
    "\n",
    "\n",
    "y_3c_tensor = torch.nn.functional.one_hot(y_3c, num_classes=50)\n",
    "val_y_3c_tensor = torch.nn.functional.one_hot(val_y_3c, num_classes=50)\n",
    "ty_3c_tensor = torch.nn.functional.one_hot(ty_3c, num_classes=50)\n",
    "\n",
    "# RG\n",
    "train_dataset_RG = TensorDataset(x_RG, y_RG_tensor)\n",
    "val_dataset_RG = TensorDataset(val_x_RG, val_y_RG_tensor)\n",
    "test_dataset_RG = TensorDataset(tx_RG, ty_RG_tensor)\n",
    "\n",
    "# GB\n",
    "train_dataset_GB = TensorDataset(x_GB, y_GB_tensor)\n",
    "val_dataset_GB = TensorDataset(val_x_GB, val_y_GB_tensor)\n",
    "test_dataset_GB = TensorDataset(tx_GB, ty_GB_tensor)\n",
    "\n",
    "# RB\n",
    "train_dataset_RB = TensorDataset(x_RB, y_RB_tensor)\n",
    "val_dataset_RB = TensorDataset(val_x_RB, val_y_RB_tensor)\n",
    "test_dataset_RB = TensorDataset(tx_RB, ty_RB_tensor)\n",
    "\n",
    "# R\n",
    "train_dataset_R = TensorDataset(x_R, y_R_tensor)\n",
    "val_dataset_R = TensorDataset(val_x_R, val_y_R_tensor)\n",
    "test_dataset_R = TensorDataset(tx_R, ty_R_tensor)\n",
    "\n",
    "# G \n",
    "train_dataset_G = TensorDataset(x_G, y_G_tensor)\n",
    "val_dataset_G = TensorDataset(val_x_G, val_y_G_tensor)\n",
    "test_dataset_G = TensorDataset(tx_G, ty_G_tensor)\n",
    "\n",
    "# B\n",
    "train_dataset_B = TensorDataset(x_B, y_B_tensor)\n",
    "val_dataset_B = TensorDataset(val_x_B, val_y_B_tensor)\n",
    "test_dataset_B = TensorDataset(tx_B, ty_B_tensor)\n",
    "\n",
    "# RGB\n",
    "train_dataset_3c = TensorDataset(x_3c, y_3c_tensor)\n",
    "val_dataset_3c = TensorDataset(val_x_3c, val_y_3c_tensor)\n",
    "test_dataset_3c = TensorDataset(tx_3c, ty_3c_tensor)\n",
    "\n",
    "batch_size = 128 \n",
    "shuffle = True  \n",
    "\n",
    "# RG\n",
    "train_RG_loader = DataLoader(train_dataset_RG, batch_size=batch_size, shuffle=shuffle)\n",
    "val_RG_loader = DataLoader(val_dataset_RG, batch_size=batch_size, shuffle=shuffle)\n",
    "test_RG_loader = DataLoader(test_dataset_RG, batch_size=batch_size, shuffle=shuffle)\n",
    "\n",
    "# RB\n",
    "train_RB_loader = DataLoader(train_dataset_RB, batch_size=batch_size, shuffle=shuffle)\n",
    "val_RB_loader = DataLoader(val_dataset_RB, batch_size=batch_size, shuffle=shuffle)\n",
    "test_RB_loader = DataLoader(test_dataset_RB, batch_size=batch_size, shuffle=shuffle)\n",
    "\n",
    "# GB\n",
    "train_GB_loader = DataLoader(train_dataset_GB, batch_size=batch_size, shuffle=shuffle)\n",
    "val_GB_loader = DataLoader(val_dataset_GB, batch_size=batch_size, shuffle=shuffle)\n",
    "test_GB_loader = DataLoader(test_dataset_GB, batch_size=batch_size, shuffle=shuffle)\n",
    "\n",
    "# R\n",
    "train_R_loader = DataLoader(train_dataset_R, batch_size=batch_size, shuffle=shuffle)\n",
    "val_R_loader = DataLoader(val_dataset_R, batch_size=batch_size, shuffle=shuffle)\n",
    "test_R_loader = DataLoader(test_dataset_R, batch_size=batch_size, shuffle=shuffle)\n",
    "\n",
    "# G \n",
    "train_G_loader = DataLoader(train_dataset_G, batch_size=batch_size, shuffle=shuffle)\n",
    "val_G_loader = DataLoader(val_dataset_G, batch_size=batch_size, shuffle=shuffle)\n",
    "test_G_loader = DataLoader(test_dataset_G, batch_size=batch_size, shuffle=shuffle)\n",
    "\n",
    "# B \n",
    "train_B_loader = DataLoader(train_dataset_B, batch_size=batch_size, shuffle=shuffle)\n",
    "val_B_loader = DataLoader(val_dataset_B, batch_size=batch_size, shuffle=shuffle)\n",
    "test_B_loader = DataLoader(test_dataset_B, batch_size=batch_size, shuffle=shuffle)\n",
    "\n",
    "# RGB\n",
    "train_3c_loader = DataLoader(train_dataset_3c, batch_size=batch_size, shuffle=shuffle)\n",
    "val_3c_loader = DataLoader(val_dataset_3c, batch_size=batch_size, shuffle=shuffle)\n",
    "test_3c_loader = DataLoader(test_dataset_3c, batch_size=batch_size, shuffle=shuffle)\n",
    "\n"
   ]
  },
  {
   "cell_type": "code",
   "execution_count": 6,
   "metadata": {},
   "outputs": [],
   "source": [
    "class CNNModel(nn.Module):\n",
    "    def __init__(self):\n",
    "        super(CNNModel, self).__init__()\n",
    "        \n",
    "        # self.conv1 = Dynamic_conv2d(out_planes=32, kernel_size=3, stride=1, padding=1)\n",
    "        # self.conv2 = Dynamic_conv2d(out_planes=64, kernel_size=3, stride=1, padding=1)\n",
    "        # self.conv3 = Dynamic_conv2d(out_planes=128, kernel_size=3, stride=1, padding=1)\n",
    "        # self.conv4 = Dynamic_conv2d(out_planes=256, kernel_size=3, stride=1, padding=1)\n",
    "        # self.conv5 = Dynamic_conv2d(out_planes=512, kernel_size=3, stride=1, padding=1)\n",
    "\n",
    "        self.conv1 = AdaptiveChannelConvModule(out_channels=32, kernel_size=3,pool = False)\n",
    "        self.conv2 = AdaptiveChannelConvModule(out_channels=64, kernel_size=3,pool = False)\n",
    "        self.conv3 = AdaptiveChannelConvModule(out_channels=128, kernel_size=3,pool = False)\n",
    "        self.conv4 = AdaptiveChannelConvModule(out_channels=256, kernel_size=3,pool = False)\n",
    "        self.conv5 = AdaptiveChannelConvModule(out_channels=512, kernel_size=3)\n",
    "        \n",
    "        self.bn1 = nn.BatchNorm2d(32)\n",
    "        self.bn2 = nn.BatchNorm2d(64)\n",
    "        self.bn3 = nn.BatchNorm2d(128)\n",
    "        self.bn4 = nn.BatchNorm2d(256)\n",
    "        self.bn5 = nn.BatchNorm2d(512)\n",
    "        \n",
    "\n",
    "        self.pool = nn.MaxPool2d(kernel_size=2, stride=2, padding=0)\n",
    "\n",
    "        self.flatten = nn.Flatten()\n",
    "\n",
    "        self.fc1 = nn.Linear(512 * 2 * 2 , 1024)\n",
    "        self.fc2 = nn.Linear(1024, 512)\n",
    "        self.fc3 = nn.Linear(512, 50) \n",
    "\n",
    "        self.dropout = nn.Dropout(0.5)  # onlt RGB = 0.3 // all channel = 0.5\n",
    "\n",
    "    def forward(self, x):\n",
    "        # print(x.shape)\n",
    "        x = self.pool(F.relu(self.bn1(self.conv1(x))))\n",
    "        # print(x.shape)\n",
    "        x = self.pool(F.relu(self.bn2(self.conv2(x))))\n",
    "        x = self.pool(F.relu(self.bn3(self.conv3(x))))\n",
    "        x = self.pool(F.relu(self.bn4(self.conv4(x))))\n",
    "        x = self.pool(F.relu(self.bn5(self.conv5(x))))\n",
    "        # print(x.shape)\n",
    "        # x = x.view(x.size(0), -1)\n",
    "        x = self.flatten(x)\n",
    "\n",
    "        x = F.relu(self.fc1(x))\n",
    "        x = self.dropout(x)\n",
    "        x = F.relu(self.fc2(x))\n",
    "        x = self.dropout(x)\n",
    "        x = self.fc3(x)\n",
    "        \n",
    "        return x"
   ]
  },
  {
   "cell_type": "code",
   "execution_count": 7,
   "metadata": {},
   "outputs": [
    {
     "data": {
      "text/plain": [
       "CNNModel(\n",
       "  (conv1): AdaptiveChannelConvModule(\n",
       "    (conv): Dynamic_conv2d_const_channel(\n",
       "      (attention): attention2d(\n",
       "        (avgpool): AdaptiveAvgPool2d(output_size=1)\n",
       "        (fc1): Conv2d(32, 9, kernel_size=(1, 1), stride=(1, 1), bias=False)\n",
       "        (fc2): Conv2d(9, 4, kernel_size=(1, 1), stride=(1, 1))\n",
       "      )\n",
       "    )\n",
       "    (conv_pad): Dynamic_conv2d_const_channel(\n",
       "      (attention): attention2d(\n",
       "        (avgpool): AdaptiveAvgPool2d(output_size=1)\n",
       "        (fc1): Conv2d(2, 1, kernel_size=(1, 1), stride=(1, 1), bias=False)\n",
       "        (fc2): Conv2d(1, 4, kernel_size=(1, 1), stride=(1, 1))\n",
       "      )\n",
       "    )\n",
       "    (bn1_pad): BatchNorm2d(16, eps=1e-05, momentum=0.1, affine=True, track_running_stats=True)\n",
       "    (pool): MaxPool2d(kernel_size=2, stride=2, padding=0, dilation=1, ceil_mode=False)\n",
       "  )\n",
       "  (conv2): AdaptiveChannelConvModule(\n",
       "    (conv): Dynamic_conv2d_const_channel(\n",
       "      (attention): attention2d(\n",
       "        (avgpool): AdaptiveAvgPool2d(output_size=1)\n",
       "        (fc1): Conv2d(64, 17, kernel_size=(1, 1), stride=(1, 1), bias=False)\n",
       "        (fc2): Conv2d(17, 4, kernel_size=(1, 1), stride=(1, 1))\n",
       "      )\n",
       "    )\n",
       "    (conv_pad): Dynamic_conv2d_const_channel(\n",
       "      (attention): attention2d(\n",
       "        (avgpool): AdaptiveAvgPool2d(output_size=1)\n",
       "        (fc1): Conv2d(2, 1, kernel_size=(1, 1), stride=(1, 1), bias=False)\n",
       "        (fc2): Conv2d(1, 4, kernel_size=(1, 1), stride=(1, 1))\n",
       "      )\n",
       "    )\n",
       "    (bn1_pad): BatchNorm2d(32, eps=1e-05, momentum=0.1, affine=True, track_running_stats=True)\n",
       "    (pool): MaxPool2d(kernel_size=2, stride=2, padding=0, dilation=1, ceil_mode=False)\n",
       "  )\n",
       "  (conv3): AdaptiveChannelConvModule(\n",
       "    (conv): Dynamic_conv2d_const_channel(\n",
       "      (attention): attention2d(\n",
       "        (avgpool): AdaptiveAvgPool2d(output_size=1)\n",
       "        (fc1): Conv2d(128, 33, kernel_size=(1, 1), stride=(1, 1), bias=False)\n",
       "        (fc2): Conv2d(33, 4, kernel_size=(1, 1), stride=(1, 1))\n",
       "      )\n",
       "    )\n",
       "    (conv_pad): Dynamic_conv2d_const_channel(\n",
       "      (attention): attention2d(\n",
       "        (avgpool): AdaptiveAvgPool2d(output_size=1)\n",
       "        (fc1): Conv2d(2, 1, kernel_size=(1, 1), stride=(1, 1), bias=False)\n",
       "        (fc2): Conv2d(1, 4, kernel_size=(1, 1), stride=(1, 1))\n",
       "      )\n",
       "    )\n",
       "    (bn1_pad): BatchNorm2d(64, eps=1e-05, momentum=0.1, affine=True, track_running_stats=True)\n",
       "    (pool): MaxPool2d(kernel_size=2, stride=2, padding=0, dilation=1, ceil_mode=False)\n",
       "  )\n",
       "  (conv4): AdaptiveChannelConvModule(\n",
       "    (conv): Dynamic_conv2d_const_channel(\n",
       "      (attention): attention2d(\n",
       "        (avgpool): AdaptiveAvgPool2d(output_size=1)\n",
       "        (fc1): Conv2d(256, 65, kernel_size=(1, 1), stride=(1, 1), bias=False)\n",
       "        (fc2): Conv2d(65, 4, kernel_size=(1, 1), stride=(1, 1))\n",
       "      )\n",
       "    )\n",
       "    (conv_pad): Dynamic_conv2d_const_channel(\n",
       "      (attention): attention2d(\n",
       "        (avgpool): AdaptiveAvgPool2d(output_size=1)\n",
       "        (fc1): Conv2d(2, 1, kernel_size=(1, 1), stride=(1, 1), bias=False)\n",
       "        (fc2): Conv2d(1, 4, kernel_size=(1, 1), stride=(1, 1))\n",
       "      )\n",
       "    )\n",
       "    (bn1_pad): BatchNorm2d(128, eps=1e-05, momentum=0.1, affine=True, track_running_stats=True)\n",
       "    (pool): MaxPool2d(kernel_size=2, stride=2, padding=0, dilation=1, ceil_mode=False)\n",
       "  )\n",
       "  (conv5): AdaptiveChannelConvModule(\n",
       "    (conv): Dynamic_conv2d_const_channel(\n",
       "      (attention): attention2d(\n",
       "        (avgpool): AdaptiveAvgPool2d(output_size=1)\n",
       "        (fc1): Conv2d(512, 129, kernel_size=(1, 1), stride=(1, 1), bias=False)\n",
       "        (fc2): Conv2d(129, 4, kernel_size=(1, 1), stride=(1, 1))\n",
       "      )\n",
       "    )\n",
       "    (conv_pad): Dynamic_conv2d_const_channel(\n",
       "      (attention): attention2d(\n",
       "        (avgpool): AdaptiveAvgPool2d(output_size=1)\n",
       "        (fc1): Conv2d(2, 1, kernel_size=(1, 1), stride=(1, 1), bias=False)\n",
       "        (fc2): Conv2d(1, 4, kernel_size=(1, 1), stride=(1, 1))\n",
       "      )\n",
       "    )\n",
       "    (bn1_pad): BatchNorm2d(256, eps=1e-05, momentum=0.1, affine=True, track_running_stats=True)\n",
       "    (pool): MaxPool2d(kernel_size=2, stride=2, padding=0, dilation=1, ceil_mode=False)\n",
       "  )\n",
       "  (bn1): BatchNorm2d(32, eps=1e-05, momentum=0.1, affine=True, track_running_stats=True)\n",
       "  (bn2): BatchNorm2d(64, eps=1e-05, momentum=0.1, affine=True, track_running_stats=True)\n",
       "  (bn3): BatchNorm2d(128, eps=1e-05, momentum=0.1, affine=True, track_running_stats=True)\n",
       "  (bn4): BatchNorm2d(256, eps=1e-05, momentum=0.1, affine=True, track_running_stats=True)\n",
       "  (bn5): BatchNorm2d(512, eps=1e-05, momentum=0.1, affine=True, track_running_stats=True)\n",
       "  (pool): MaxPool2d(kernel_size=2, stride=2, padding=0, dilation=1, ceil_mode=False)\n",
       "  (flatten): Flatten(start_dim=1, end_dim=-1)\n",
       "  (fc1): Linear(in_features=2048, out_features=1024, bias=True)\n",
       "  (fc2): Linear(in_features=1024, out_features=512, bias=True)\n",
       "  (fc3): Linear(in_features=512, out_features=50, bias=True)\n",
       "  (dropout): Dropout(p=0.5, inplace=False)\n",
       ")"
      ]
     },
     "execution_count": 7,
     "metadata": {},
     "output_type": "execute_result"
    }
   ],
   "source": [
    "model = CNNModel()\n",
    "device = torch.device(\"cuda:0\" if torch.cuda.is_available() else \"cpu\")  # 檢查是否有 GPU，有則使用 GPU\n",
    "model.to(device)  # 將模型移動到設備上"
   ]
  },
  {
   "cell_type": "code",
   "execution_count": 8,
   "metadata": {},
   "outputs": [
    {
     "data": {
      "text/plain": [
       "======================================================================\n",
       "Layer (type:depth-idx)                        Param #\n",
       "======================================================================\n",
       "CNNModel                                      --\n",
       "├─AdaptiveChannelConvModule: 1-1              --\n",
       "│    └─Dynamic_conv2d_const_channel: 2-1      36,992\n",
       "│    │    └─attention2d: 3-1                  328\n",
       "│    └─Dynamic_conv2d_const_channel: 2-2      1,216\n",
       "│    │    └─attention2d: 3-2                  10\n",
       "│    └─BatchNorm2d: 2-3                       32\n",
       "│    └─MaxPool2d: 2-4                         --\n",
       "├─AdaptiveChannelConvModule: 1-2              --\n",
       "│    └─Dynamic_conv2d_const_channel: 2-5      147,712\n",
       "│    │    └─attention2d: 3-3                  1,160\n",
       "│    └─Dynamic_conv2d_const_channel: 2-6      2,432\n",
       "│    │    └─attention2d: 3-4                  10\n",
       "│    └─BatchNorm2d: 2-7                       64\n",
       "│    └─MaxPool2d: 2-8                         --\n",
       "├─AdaptiveChannelConvModule: 1-3              --\n",
       "│    └─Dynamic_conv2d_const_channel: 2-9      590,336\n",
       "│    │    └─attention2d: 3-5                  4,360\n",
       "│    └─Dynamic_conv2d_const_channel: 2-10     4,864\n",
       "│    │    └─attention2d: 3-6                  10\n",
       "│    └─BatchNorm2d: 2-11                      128\n",
       "│    └─MaxPool2d: 2-12                        --\n",
       "├─AdaptiveChannelConvModule: 1-4              --\n",
       "│    └─Dynamic_conv2d_const_channel: 2-13     2,360,320\n",
       "│    │    └─attention2d: 3-7                  16,904\n",
       "│    └─Dynamic_conv2d_const_channel: 2-14     9,728\n",
       "│    │    └─attention2d: 3-8                  10\n",
       "│    └─BatchNorm2d: 2-15                      256\n",
       "│    └─MaxPool2d: 2-16                        --\n",
       "├─AdaptiveChannelConvModule: 1-5              --\n",
       "│    └─Dynamic_conv2d_const_channel: 2-17     9,439,232\n",
       "│    │    └─attention2d: 3-9                  66,568\n",
       "│    └─Dynamic_conv2d_const_channel: 2-18     19,456\n",
       "│    │    └─attention2d: 3-10                 10\n",
       "│    └─BatchNorm2d: 2-19                      512\n",
       "│    └─MaxPool2d: 2-20                        --\n",
       "├─BatchNorm2d: 1-6                            64\n",
       "├─BatchNorm2d: 1-7                            128\n",
       "├─BatchNorm2d: 1-8                            256\n",
       "├─BatchNorm2d: 1-9                            512\n",
       "├─BatchNorm2d: 1-10                           1,024\n",
       "├─MaxPool2d: 1-11                             --\n",
       "├─Flatten: 1-12                               --\n",
       "├─Linear: 1-13                                2,098,176\n",
       "├─Linear: 1-14                                524,800\n",
       "├─Linear: 1-15                                25,650\n",
       "├─Dropout: 1-16                               --\n",
       "======================================================================\n",
       "Total params: 15,353,260\n",
       "Trainable params: 15,353,260\n",
       "Non-trainable params: 0\n",
       "======================================================================"
      ]
     },
     "execution_count": 8,
     "metadata": {},
     "output_type": "execute_result"
    }
   ],
   "source": [
    "summary(model)"
   ]
  },
  {
   "cell_type": "code",
   "execution_count": 9,
   "metadata": {},
   "outputs": [],
   "source": [
    "def train(model,traindataloader,valdataLoader,criterion,optimizer,traing_acc,val_acc,epoch,channel):\n",
    "    model.train()\n",
    "    running_loss = 0.0\n",
    "    train_correct = 0\n",
    "    train_total = 0\n",
    "\n",
    "    max_val_acc = 0\n",
    "    \n",
    "    running_loss = 0.0\n",
    "    for inputs, labels in tqdm(traindataloader):\n",
    "        # print(inputs[0].shape)\n",
    "        inputs, labels = inputs.float().to(device), labels.float().to(device)  # 將數據移動到設備上\n",
    "\n",
    "        # 正向傳播\n",
    "        outputs = model(inputs)\n",
    "        # print(type(outputs))\n",
    "        loss = criterion(outputs, labels)\n",
    "\n",
    "        # 反向傳播和優化\n",
    "        optimizer.zero_grad()\n",
    "        loss.backward()\n",
    "        optimizer.step()\n",
    "        \n",
    "        labels = labels.argmax(dim=1)\n",
    "        _, predicted = torch.max(outputs, 1)\n",
    "        train_total += labels.size(0)\n",
    "        train_correct += (predicted == labels).sum().item()\n",
    "        running_loss += loss.item() * inputs.size(0)\n",
    "    \n",
    "    traing_acc.append(100 * train_correct / train_total)\n",
    "\n",
    "    model.eval()  # 將模型設置為評估模式\n",
    "    correct = 0\n",
    "    total = 0\n",
    "    with torch.no_grad():\n",
    "        for inputs, labels in valdataLoader:\n",
    "            inputs, labels = inputs.float().to(device), labels.float().to(device)\n",
    "            outputs = model(inputs)\n",
    "            loss = criterion(outputs, labels)\n",
    "            labels = labels.argmax(dim=1)\n",
    "            _, predicted = torch.max(outputs, 1)\n",
    "            total += labels.size(0)\n",
    "            correct += (predicted == labels).sum().item()\n",
    "        \n",
    "    val_acc.append(100 * correct / total)\n",
    "\n",
    "    if (correct / total) > max_val_acc and channel == \"RGB\":\n",
    "        torch.save(model.state_dict(), './model/HW2-1/myModel/myModel.pth')\n",
    "        max_val_acc = (correct / total)\n",
    "\n",
    "\n",
    "    epoch_loss = running_loss / len(traindataloader.dataset)\n",
    "    print(f\"Epoch {epoch + 1}/{10}, Loss: {epoch_loss:.4f}, channel = {channel}, Training Accuracy: {100 * train_correct / train_total:.2f}%, Validation Accuracy: {100 * correct / total:.2f}%\")"
   ]
  },
  {
   "cell_type": "code",
   "execution_count": 10,
   "metadata": {},
   "outputs": [],
   "source": [
    "def plot_acc(train_acc,val_acc,channel):\n",
    "    plt.plot(train_acc, label='Training Accuracy')\n",
    "    plt.plot(val_acc, label='Validation Accuracy')\n",
    "    plt.xlabel('Epoch')\n",
    "    plt.ylabel('Accuracy')\n",
    "    plt.legend()\n",
    "    plt.savefig(f\"./results/HW2-1/myModel/myModel_{channel}_accuracy_plot.png\")\n",
    "    plt.show()"
   ]
  },
  {
   "cell_type": "code",
   "execution_count": 11,
   "metadata": {},
   "outputs": [
    {
     "name": "stderr",
     "output_type": "stream",
     "text": [
      "100%|██████████| 495/495 [00:32<00:00, 15.01it/s]\n"
     ]
    },
    {
     "name": "stdout",
     "output_type": "stream",
     "text": [
      "Epoch 1/10, Loss: 3.5838, channel = R, Training Accuracy: 6.79%, Validation Accuracy: 2.00%\n"
     ]
    },
    {
     "name": "stderr",
     "output_type": "stream",
     "text": [
      "100%|██████████| 495/495 [00:32<00:00, 15.28it/s]\n"
     ]
    },
    {
     "name": "stdout",
     "output_type": "stream",
     "text": [
      "Epoch 1/10, Loss: 3.1838, channel = RG, Training Accuracy: 12.47%, Validation Accuracy: 10.44%\n"
     ]
    },
    {
     "name": "stderr",
     "output_type": "stream",
     "text": [
      "100%|██████████| 495/495 [00:32<00:00, 15.20it/s]\n"
     ]
    },
    {
     "name": "stdout",
     "output_type": "stream",
     "text": [
      "Epoch 1/10, Loss: 3.0161, channel = G, Training Accuracy: 15.32%, Validation Accuracy: 6.44%\n"
     ]
    },
    {
     "name": "stderr",
     "output_type": "stream",
     "text": [
      "100%|██████████| 495/495 [00:33<00:00, 14.92it/s]\n"
     ]
    },
    {
     "name": "stdout",
     "output_type": "stream",
     "text": [
      "Epoch 1/10, Loss: 2.8139, channel = GB, Training Accuracy: 19.36%, Validation Accuracy: 17.78%\n"
     ]
    },
    {
     "name": "stderr",
     "output_type": "stream",
     "text": [
      "100%|██████████| 495/495 [00:32<00:00, 15.05it/s]\n"
     ]
    },
    {
     "name": "stdout",
     "output_type": "stream",
     "text": [
      "Epoch 1/10, Loss: 2.7509, channel = B, Training Accuracy: 21.22%, Validation Accuracy: 14.22%\n"
     ]
    },
    {
     "name": "stderr",
     "output_type": "stream",
     "text": [
      "100%|██████████| 495/495 [00:33<00:00, 14.91it/s]\n"
     ]
    },
    {
     "name": "stdout",
     "output_type": "stream",
     "text": [
      "Epoch 1/10, Loss: 2.5525, channel = RB, Training Accuracy: 25.67%, Validation Accuracy: 17.78%\n"
     ]
    },
    {
     "name": "stderr",
     "output_type": "stream",
     "text": [
      "100%|██████████| 495/495 [00:34<00:00, 14.49it/s]\n"
     ]
    },
    {
     "name": "stdout",
     "output_type": "stream",
     "text": [
      "Epoch 1/10, Loss: 2.4092, channel = RGB, Training Accuracy: 29.23%, Validation Accuracy: 31.78%\n"
     ]
    },
    {
     "name": "stderr",
     "output_type": "stream",
     "text": [
      "100%|██████████| 495/495 [00:32<00:00, 15.06it/s]\n"
     ]
    },
    {
     "name": "stdout",
     "output_type": "stream",
     "text": [
      "Epoch 2/10, Loss: 2.4275, channel = R, Training Accuracy: 29.00%, Validation Accuracy: 20.00%\n"
     ]
    },
    {
     "name": "stderr",
     "output_type": "stream",
     "text": [
      "100%|██████████| 495/495 [00:33<00:00, 14.90it/s]\n"
     ]
    },
    {
     "name": "stdout",
     "output_type": "stream",
     "text": [
      "Epoch 2/10, Loss: 2.2326, channel = RG, Training Accuracy: 33.95%, Validation Accuracy: 33.33%\n"
     ]
    },
    {
     "name": "stderr",
     "output_type": "stream",
     "text": [
      "100%|██████████| 495/495 [00:32<00:00, 15.17it/s]\n"
     ]
    },
    {
     "name": "stdout",
     "output_type": "stream",
     "text": [
      "Epoch 2/10, Loss: 2.1064, channel = G, Training Accuracy: 36.71%, Validation Accuracy: 26.67%\n"
     ]
    },
    {
     "name": "stderr",
     "output_type": "stream",
     "text": [
      "100%|██████████| 495/495 [00:33<00:00, 14.80it/s]\n"
     ]
    },
    {
     "name": "stdout",
     "output_type": "stream",
     "text": [
      "Epoch 2/10, Loss: 1.9121, channel = GB, Training Accuracy: 41.66%, Validation Accuracy: 38.44%\n"
     ]
    },
    {
     "name": "stderr",
     "output_type": "stream",
     "text": [
      "100%|██████████| 495/495 [00:32<00:00, 15.03it/s]\n"
     ]
    },
    {
     "name": "stdout",
     "output_type": "stream",
     "text": [
      "Epoch 2/10, Loss: 1.9180, channel = B, Training Accuracy: 41.37%, Validation Accuracy: 39.11%\n"
     ]
    },
    {
     "name": "stderr",
     "output_type": "stream",
     "text": [
      "100%|██████████| 495/495 [00:33<00:00, 14.87it/s]\n"
     ]
    },
    {
     "name": "stdout",
     "output_type": "stream",
     "text": [
      "Epoch 2/10, Loss: 1.7007, channel = RB, Training Accuracy: 47.01%, Validation Accuracy: 41.56%\n"
     ]
    },
    {
     "name": "stderr",
     "output_type": "stream",
     "text": [
      "100%|██████████| 495/495 [00:33<00:00, 14.61it/s]\n"
     ]
    },
    {
     "name": "stdout",
     "output_type": "stream",
     "text": [
      "Epoch 2/10, Loss: 1.5546, channel = RGB, Training Accuracy: 50.53%, Validation Accuracy: 45.56%\n"
     ]
    },
    {
     "name": "stderr",
     "output_type": "stream",
     "text": [
      "100%|██████████| 495/495 [00:32<00:00, 15.08it/s]\n"
     ]
    },
    {
     "name": "stdout",
     "output_type": "stream",
     "text": [
      "Epoch 3/10, Loss: 1.7133, channel = R, Training Accuracy: 46.80%, Validation Accuracy: 36.00%\n"
     ]
    },
    {
     "name": "stderr",
     "output_type": "stream",
     "text": [
      "100%|██████████| 495/495 [00:33<00:00, 14.82it/s]\n"
     ]
    },
    {
     "name": "stdout",
     "output_type": "stream",
     "text": [
      "Epoch 3/10, Loss: 1.3949, channel = RG, Training Accuracy: 54.79%, Validation Accuracy: 46.89%\n"
     ]
    },
    {
     "name": "stderr",
     "output_type": "stream",
     "text": [
      "100%|██████████| 495/495 [00:33<00:00, 15.00it/s]\n"
     ]
    },
    {
     "name": "stdout",
     "output_type": "stream",
     "text": [
      "Epoch 3/10, Loss: 1.3468, channel = G, Training Accuracy: 55.97%, Validation Accuracy: 43.78%\n"
     ]
    },
    {
     "name": "stderr",
     "output_type": "stream",
     "text": [
      "100%|██████████| 495/495 [00:33<00:00, 14.89it/s]\n"
     ]
    },
    {
     "name": "stdout",
     "output_type": "stream",
     "text": [
      "Epoch 3/10, Loss: 1.1915, channel = GB, Training Accuracy: 60.56%, Validation Accuracy: 44.44%\n"
     ]
    },
    {
     "name": "stderr",
     "output_type": "stream",
     "text": [
      "100%|██████████| 495/495 [00:32<00:00, 15.07it/s]\n"
     ]
    },
    {
     "name": "stdout",
     "output_type": "stream",
     "text": [
      "Epoch 3/10, Loss: 1.2351, channel = B, Training Accuracy: 59.48%, Validation Accuracy: 40.22%\n"
     ]
    },
    {
     "name": "stderr",
     "output_type": "stream",
     "text": [
      "100%|██████████| 495/495 [00:33<00:00, 14.85it/s]\n"
     ]
    },
    {
     "name": "stdout",
     "output_type": "stream",
     "text": [
      "Epoch 3/10, Loss: 1.0176, channel = RB, Training Accuracy: 65.54%, Validation Accuracy: 42.67%\n"
     ]
    },
    {
     "name": "stderr",
     "output_type": "stream",
     "text": [
      "100%|██████████| 495/495 [00:33<00:00, 14.62it/s]\n"
     ]
    },
    {
     "name": "stdout",
     "output_type": "stream",
     "text": [
      "Epoch 3/10, Loss: 0.9149, channel = RGB, Training Accuracy: 68.69%, Validation Accuracy: 42.89%\n"
     ]
    },
    {
     "name": "stderr",
     "output_type": "stream",
     "text": [
      "100%|██████████| 495/495 [00:32<00:00, 15.09it/s]\n"
     ]
    },
    {
     "name": "stdout",
     "output_type": "stream",
     "text": [
      "Epoch 4/10, Loss: 1.1433, channel = R, Training Accuracy: 62.55%, Validation Accuracy: 42.22%\n"
     ]
    },
    {
     "name": "stderr",
     "output_type": "stream",
     "text": [
      "100%|██████████| 495/495 [00:33<00:00, 14.96it/s]\n"
     ]
    },
    {
     "name": "stdout",
     "output_type": "stream",
     "text": [
      "Epoch 4/10, Loss: 0.8138, channel = RG, Training Accuracy: 71.73%, Validation Accuracy: 49.56%\n"
     ]
    },
    {
     "name": "stderr",
     "output_type": "stream",
     "text": [
      "100%|██████████| 495/495 [00:32<00:00, 15.13it/s]\n"
     ]
    },
    {
     "name": "stdout",
     "output_type": "stream",
     "text": [
      "Epoch 4/10, Loss: 0.7907, channel = G, Training Accuracy: 72.27%, Validation Accuracy: 44.67%\n"
     ]
    },
    {
     "name": "stderr",
     "output_type": "stream",
     "text": [
      "100%|██████████| 495/495 [00:33<00:00, 14.97it/s]\n"
     ]
    },
    {
     "name": "stdout",
     "output_type": "stream",
     "text": [
      "Epoch 4/10, Loss: 0.6754, channel = GB, Training Accuracy: 76.17%, Validation Accuracy: 44.00%\n"
     ]
    },
    {
     "name": "stderr",
     "output_type": "stream",
     "text": [
      "100%|██████████| 495/495 [00:32<00:00, 15.20it/s]\n"
     ]
    },
    {
     "name": "stdout",
     "output_type": "stream",
     "text": [
      "Epoch 4/10, Loss: 0.7599, channel = B, Training Accuracy: 74.03%, Validation Accuracy: 45.33%\n"
     ]
    },
    {
     "name": "stderr",
     "output_type": "stream",
     "text": [
      "100%|██████████| 495/495 [00:33<00:00, 14.77it/s]\n"
     ]
    },
    {
     "name": "stdout",
     "output_type": "stream",
     "text": [
      "Epoch 4/10, Loss: 0.5658, channel = RB, Training Accuracy: 79.97%, Validation Accuracy: 45.33%\n"
     ]
    },
    {
     "name": "stderr",
     "output_type": "stream",
     "text": [
      "100%|██████████| 495/495 [00:34<00:00, 14.38it/s]\n"
     ]
    },
    {
     "name": "stdout",
     "output_type": "stream",
     "text": [
      "Epoch 4/10, Loss: 0.5125, channel = RGB, Training Accuracy: 81.81%, Validation Accuracy: 37.33%\n"
     ]
    },
    {
     "name": "stderr",
     "output_type": "stream",
     "text": [
      "100%|██████████| 495/495 [00:33<00:00, 14.99it/s]\n"
     ]
    },
    {
     "name": "stdout",
     "output_type": "stream",
     "text": [
      "Epoch 5/10, Loss: 0.7765, channel = R, Training Accuracy: 74.02%, Validation Accuracy: 45.78%\n"
     ]
    },
    {
     "name": "stderr",
     "output_type": "stream",
     "text": [
      "100%|██████████| 495/495 [00:32<00:00, 15.00it/s]\n"
     ]
    },
    {
     "name": "stdout",
     "output_type": "stream",
     "text": [
      "Epoch 5/10, Loss: 0.4716, channel = RG, Training Accuracy: 83.48%, Validation Accuracy: 46.89%\n"
     ]
    },
    {
     "name": "stderr",
     "output_type": "stream",
     "text": [
      "100%|██████████| 495/495 [00:33<00:00, 14.93it/s]\n"
     ]
    },
    {
     "name": "stdout",
     "output_type": "stream",
     "text": [
      "Epoch 5/10, Loss: 0.4779, channel = G, Training Accuracy: 83.25%, Validation Accuracy: 42.67%\n"
     ]
    },
    {
     "name": "stderr",
     "output_type": "stream",
     "text": [
      "100%|██████████| 495/495 [00:33<00:00, 14.74it/s]\n"
     ]
    },
    {
     "name": "stdout",
     "output_type": "stream",
     "text": [
      "Epoch 5/10, Loss: 0.4341, channel = GB, Training Accuracy: 84.99%, Validation Accuracy: 46.89%\n"
     ]
    },
    {
     "name": "stderr",
     "output_type": "stream",
     "text": [
      "100%|██████████| 495/495 [00:32<00:00, 15.33it/s]\n"
     ]
    },
    {
     "name": "stdout",
     "output_type": "stream",
     "text": [
      "Epoch 5/10, Loss: 0.5198, channel = B, Training Accuracy: 82.26%, Validation Accuracy: 40.89%\n"
     ]
    },
    {
     "name": "stderr",
     "output_type": "stream",
     "text": [
      "100%|██████████| 495/495 [00:33<00:00, 14.66it/s]\n"
     ]
    },
    {
     "name": "stdout",
     "output_type": "stream",
     "text": [
      "Epoch 5/10, Loss: 0.3539, channel = RB, Training Accuracy: 87.68%, Validation Accuracy: 46.00%\n"
     ]
    },
    {
     "name": "stderr",
     "output_type": "stream",
     "text": [
      "100%|██████████| 495/495 [00:34<00:00, 14.48it/s]\n"
     ]
    },
    {
     "name": "stdout",
     "output_type": "stream",
     "text": [
      "Epoch 5/10, Loss: 0.3168, channel = RGB, Training Accuracy: 88.82%, Validation Accuracy: 46.00%\n"
     ]
    },
    {
     "name": "stderr",
     "output_type": "stream",
     "text": [
      "100%|██████████| 495/495 [00:32<00:00, 15.05it/s]\n"
     ]
    },
    {
     "name": "stdout",
     "output_type": "stream",
     "text": [
      "Epoch 6/10, Loss: 0.6143, channel = R, Training Accuracy: 80.08%, Validation Accuracy: 47.56%\n"
     ]
    },
    {
     "name": "stderr",
     "output_type": "stream",
     "text": [
      "100%|██████████| 495/495 [00:33<00:00, 14.80it/s]\n"
     ]
    },
    {
     "name": "stdout",
     "output_type": "stream",
     "text": [
      "Epoch 6/10, Loss: 0.3023, channel = RG, Training Accuracy: 89.63%, Validation Accuracy: 47.78%\n"
     ]
    },
    {
     "name": "stderr",
     "output_type": "stream",
     "text": [
      "100%|██████████| 495/495 [00:32<00:00, 15.12it/s]\n"
     ]
    },
    {
     "name": "stdout",
     "output_type": "stream",
     "text": [
      "Epoch 6/10, Loss: 0.3156, channel = G, Training Accuracy: 89.18%, Validation Accuracy: 46.67%\n"
     ]
    },
    {
     "name": "stderr",
     "output_type": "stream",
     "text": [
      "100%|██████████| 495/495 [00:33<00:00, 14.84it/s]\n"
     ]
    },
    {
     "name": "stdout",
     "output_type": "stream",
     "text": [
      "Epoch 6/10, Loss: 0.2820, channel = GB, Training Accuracy: 90.41%, Validation Accuracy: 46.22%\n"
     ]
    },
    {
     "name": "stderr",
     "output_type": "stream",
     "text": [
      "100%|██████████| 495/495 [00:32<00:00, 15.06it/s]\n"
     ]
    },
    {
     "name": "stdout",
     "output_type": "stream",
     "text": [
      "Epoch 6/10, Loss: 0.3650, channel = B, Training Accuracy: 87.91%, Validation Accuracy: 45.33%\n"
     ]
    },
    {
     "name": "stderr",
     "output_type": "stream",
     "text": [
      "100%|██████████| 495/495 [00:33<00:00, 14.92it/s]\n"
     ]
    },
    {
     "name": "stdout",
     "output_type": "stream",
     "text": [
      "Epoch 6/10, Loss: 0.2396, channel = RB, Training Accuracy: 91.85%, Validation Accuracy: 48.00%\n"
     ]
    },
    {
     "name": "stderr",
     "output_type": "stream",
     "text": [
      "100%|██████████| 495/495 [00:33<00:00, 14.70it/s]\n"
     ]
    },
    {
     "name": "stdout",
     "output_type": "stream",
     "text": [
      "Epoch 6/10, Loss: 0.2315, channel = RGB, Training Accuracy: 92.32%, Validation Accuracy: 47.11%\n"
     ]
    },
    {
     "name": "stderr",
     "output_type": "stream",
     "text": [
      "100%|██████████| 495/495 [00:32<00:00, 15.01it/s]\n"
     ]
    },
    {
     "name": "stdout",
     "output_type": "stream",
     "text": [
      "Epoch 7/10, Loss: 0.4554, channel = R, Training Accuracy: 85.21%, Validation Accuracy: 44.67%\n"
     ]
    },
    {
     "name": "stderr",
     "output_type": "stream",
     "text": [
      "100%|██████████| 495/495 [00:33<00:00, 14.74it/s]\n"
     ]
    },
    {
     "name": "stdout",
     "output_type": "stream",
     "text": [
      "Epoch 7/10, Loss: 0.2261, channel = RG, Training Accuracy: 92.43%, Validation Accuracy: 48.44%\n"
     ]
    },
    {
     "name": "stderr",
     "output_type": "stream",
     "text": [
      "100%|██████████| 495/495 [00:33<00:00, 14.98it/s]\n"
     ]
    },
    {
     "name": "stdout",
     "output_type": "stream",
     "text": [
      "Epoch 7/10, Loss: 0.2454, channel = G, Training Accuracy: 92.05%, Validation Accuracy: 44.89%\n"
     ]
    },
    {
     "name": "stderr",
     "output_type": "stream",
     "text": [
      "100%|██████████| 495/495 [00:33<00:00, 14.72it/s]\n"
     ]
    },
    {
     "name": "stdout",
     "output_type": "stream",
     "text": [
      "Epoch 7/10, Loss: 0.2079, channel = GB, Training Accuracy: 93.04%, Validation Accuracy: 47.78%\n"
     ]
    },
    {
     "name": "stderr",
     "output_type": "stream",
     "text": [
      "100%|██████████| 495/495 [00:32<00:00, 15.04it/s]\n"
     ]
    },
    {
     "name": "stdout",
     "output_type": "stream",
     "text": [
      "Epoch 7/10, Loss: 0.3027, channel = B, Training Accuracy: 90.21%, Validation Accuracy: 42.44%\n"
     ]
    },
    {
     "name": "stderr",
     "output_type": "stream",
     "text": [
      "100%|██████████| 495/495 [00:33<00:00, 14.87it/s]\n"
     ]
    },
    {
     "name": "stdout",
     "output_type": "stream",
     "text": [
      "Epoch 7/10, Loss: 0.1921, channel = RB, Training Accuracy: 93.73%, Validation Accuracy: 49.11%\n"
     ]
    },
    {
     "name": "stderr",
     "output_type": "stream",
     "text": [
      "100%|██████████| 495/495 [00:34<00:00, 14.53it/s]\n"
     ]
    },
    {
     "name": "stdout",
     "output_type": "stream",
     "text": [
      "Epoch 7/10, Loss: 0.2729, channel = RGB, Training Accuracy: 91.58%, Validation Accuracy: 48.44%\n"
     ]
    },
    {
     "name": "stderr",
     "output_type": "stream",
     "text": [
      "100%|██████████| 495/495 [00:33<00:00, 14.99it/s]\n"
     ]
    },
    {
     "name": "stdout",
     "output_type": "stream",
     "text": [
      "Epoch 8/10, Loss: 0.3823, channel = R, Training Accuracy: 87.72%, Validation Accuracy: 43.78%\n"
     ]
    },
    {
     "name": "stderr",
     "output_type": "stream",
     "text": [
      "100%|██████████| 495/495 [00:33<00:00, 14.83it/s]\n"
     ]
    },
    {
     "name": "stdout",
     "output_type": "stream",
     "text": [
      "Epoch 8/10, Loss: 0.1669, channel = RG, Training Accuracy: 94.64%, Validation Accuracy: 46.44%\n"
     ]
    },
    {
     "name": "stderr",
     "output_type": "stream",
     "text": [
      "100%|██████████| 495/495 [00:33<00:00, 14.97it/s]\n"
     ]
    },
    {
     "name": "stdout",
     "output_type": "stream",
     "text": [
      "Epoch 8/10, Loss: 0.1816, channel = G, Training Accuracy: 94.18%, Validation Accuracy: 47.33%\n"
     ]
    },
    {
     "name": "stderr",
     "output_type": "stream",
     "text": [
      "100%|██████████| 495/495 [00:33<00:00, 14.72it/s]\n"
     ]
    },
    {
     "name": "stdout",
     "output_type": "stream",
     "text": [
      "Epoch 8/10, Loss: 0.1654, channel = GB, Training Accuracy: 94.65%, Validation Accuracy: 50.89%\n"
     ]
    },
    {
     "name": "stderr",
     "output_type": "stream",
     "text": [
      "100%|██████████| 495/495 [00:33<00:00, 14.92it/s]\n"
     ]
    },
    {
     "name": "stdout",
     "output_type": "stream",
     "text": [
      "Epoch 8/10, Loss: 0.2594, channel = B, Training Accuracy: 91.88%, Validation Accuracy: 44.22%\n"
     ]
    },
    {
     "name": "stderr",
     "output_type": "stream",
     "text": [
      "100%|██████████| 495/495 [00:33<00:00, 14.69it/s]\n"
     ]
    },
    {
     "name": "stdout",
     "output_type": "stream",
     "text": [
      "Epoch 8/10, Loss: 0.1476, channel = RB, Training Accuracy: 95.28%, Validation Accuracy: 46.44%\n"
     ]
    },
    {
     "name": "stderr",
     "output_type": "stream",
     "text": [
      "100%|██████████| 495/495 [00:34<00:00, 14.49it/s]\n"
     ]
    },
    {
     "name": "stdout",
     "output_type": "stream",
     "text": [
      "Epoch 8/10, Loss: 0.1442, channel = RGB, Training Accuracy: 95.34%, Validation Accuracy: 46.00%\n"
     ]
    },
    {
     "name": "stderr",
     "output_type": "stream",
     "text": [
      "100%|██████████| 495/495 [00:32<00:00, 15.04it/s]\n"
     ]
    },
    {
     "name": "stdout",
     "output_type": "stream",
     "text": [
      "Epoch 9/10, Loss: 0.3463, channel = R, Training Accuracy: 89.17%, Validation Accuracy: 44.44%\n"
     ]
    },
    {
     "name": "stderr",
     "output_type": "stream",
     "text": [
      "100%|██████████| 495/495 [00:33<00:00, 14.83it/s]\n"
     ]
    },
    {
     "name": "stdout",
     "output_type": "stream",
     "text": [
      "Epoch 9/10, Loss: 0.1431, channel = RG, Training Accuracy: 95.50%, Validation Accuracy: 48.22%\n"
     ]
    },
    {
     "name": "stderr",
     "output_type": "stream",
     "text": [
      "100%|██████████| 495/495 [00:32<00:00, 15.05it/s]\n"
     ]
    },
    {
     "name": "stdout",
     "output_type": "stream",
     "text": [
      "Epoch 9/10, Loss: 0.1534, channel = G, Training Accuracy: 95.01%, Validation Accuracy: 45.33%\n"
     ]
    },
    {
     "name": "stderr",
     "output_type": "stream",
     "text": [
      "100%|██████████| 495/495 [00:33<00:00, 14.85it/s]\n"
     ]
    },
    {
     "name": "stdout",
     "output_type": "stream",
     "text": [
      "Epoch 9/10, Loss: 0.1554, channel = GB, Training Accuracy: 95.16%, Validation Accuracy: 48.00%\n"
     ]
    },
    {
     "name": "stderr",
     "output_type": "stream",
     "text": [
      "100%|██████████| 495/495 [00:32<00:00, 15.02it/s]\n"
     ]
    },
    {
     "name": "stdout",
     "output_type": "stream",
     "text": [
      "Epoch 9/10, Loss: 0.2111, channel = B, Training Accuracy: 93.37%, Validation Accuracy: 42.22%\n"
     ]
    },
    {
     "name": "stderr",
     "output_type": "stream",
     "text": [
      "100%|██████████| 495/495 [00:32<00:00, 15.35it/s]\n"
     ]
    },
    {
     "name": "stdout",
     "output_type": "stream",
     "text": [
      "Epoch 9/10, Loss: 0.1587, channel = RB, Training Accuracy: 95.04%, Validation Accuracy: 46.89%\n"
     ]
    },
    {
     "name": "stderr",
     "output_type": "stream",
     "text": [
      "100%|██████████| 495/495 [00:31<00:00, 15.96it/s]\n"
     ]
    },
    {
     "name": "stdout",
     "output_type": "stream",
     "text": [
      "Epoch 9/10, Loss: 0.1176, channel = RGB, Training Accuracy: 96.29%, Validation Accuracy: 48.89%\n"
     ]
    },
    {
     "name": "stderr",
     "output_type": "stream",
     "text": [
      "100%|██████████| 495/495 [00:30<00:00, 16.46it/s]\n"
     ]
    },
    {
     "name": "stdout",
     "output_type": "stream",
     "text": [
      "Epoch 10/10, Loss: 0.2790, channel = R, Training Accuracy: 91.21%, Validation Accuracy: 46.44%\n"
     ]
    },
    {
     "name": "stderr",
     "output_type": "stream",
     "text": [
      "100%|██████████| 495/495 [00:30<00:00, 16.23it/s]\n"
     ]
    },
    {
     "name": "stdout",
     "output_type": "stream",
     "text": [
      "Epoch 10/10, Loss: 0.1189, channel = RG, Training Accuracy: 96.21%, Validation Accuracy: 45.78%\n"
     ]
    },
    {
     "name": "stderr",
     "output_type": "stream",
     "text": [
      "100%|██████████| 495/495 [00:30<00:00, 16.46it/s]\n"
     ]
    },
    {
     "name": "stdout",
     "output_type": "stream",
     "text": [
      "Epoch 10/10, Loss: 0.1442, channel = G, Training Accuracy: 95.47%, Validation Accuracy: 46.00%\n"
     ]
    },
    {
     "name": "stderr",
     "output_type": "stream",
     "text": [
      "100%|██████████| 495/495 [00:30<00:00, 16.21it/s]\n"
     ]
    },
    {
     "name": "stdout",
     "output_type": "stream",
     "text": [
      "Epoch 10/10, Loss: 0.2318, channel = GB, Training Accuracy: 93.14%, Validation Accuracy: 44.00%\n"
     ]
    },
    {
     "name": "stderr",
     "output_type": "stream",
     "text": [
      "100%|██████████| 495/495 [00:30<00:00, 16.46it/s]\n"
     ]
    },
    {
     "name": "stdout",
     "output_type": "stream",
     "text": [
      "Epoch 10/10, Loss: 0.1769, channel = B, Training Accuracy: 94.44%, Validation Accuracy: 45.11%\n"
     ]
    },
    {
     "name": "stderr",
     "output_type": "stream",
     "text": [
      "100%|██████████| 495/495 [00:30<00:00, 16.22it/s]\n"
     ]
    },
    {
     "name": "stdout",
     "output_type": "stream",
     "text": [
      "Epoch 10/10, Loss: 0.1605, channel = RB, Training Accuracy: 95.26%, Validation Accuracy: 46.67%\n"
     ]
    },
    {
     "name": "stderr",
     "output_type": "stream",
     "text": [
      "100%|██████████| 495/495 [00:31<00:00, 15.93it/s]\n"
     ]
    },
    {
     "name": "stdout",
     "output_type": "stream",
     "text": [
      "Epoch 10/10, Loss: 0.1050, channel = RGB, Training Accuracy: 96.77%, Validation Accuracy: 46.89%\n"
     ]
    },
    {
     "data": {
      "image/png": "[encoded data removed]",
      "text/plain": [
       "<Figure size 640x480 with 1 Axes>"
      ]
     },
     "metadata": {},
     "output_type": "display_data"
    },
    {
     "data": {
      "image/png": "[encoded data removed]",
      "text/plain": [
       "<Figure size 640x480 with 1 Axes>"
      ]
     },
     "metadata": {},
     "output_type": "display_data"
    },
    {
     "data": {
      "image/png": "[encoded data removed]",
      "text/plain": [
       "<Figure size 640x480 with 1 Axes>"
      ]
     },
     "metadata": {},
     "output_type": "display_data"
    },
    {
     "data": {
      "image/png": "[encoded data removed]",
      "text/plain": [
       "<Figure size 640x480 with 1 Axes>"
      ]
     },
     "metadata": {},
     "output_type": "display_data"
    },
    {
     "data": {
      "image/png": "[encoded data removed]",
      "text/plain": [
       "<Figure size 640x480 with 1 Axes>"
      ]
     },
     "metadata": {},
     "output_type": "display_data"
    },
    {
     "data": {
      "image/png": "[encoded data removed]",
      "text/plain": [
       "<Figure size 640x480 with 1 Axes>"
      ]
     },
     "metadata": {},
     "output_type": "display_data"
    },
    {
     "data": {
      "image/png": "[encoded data removed]",
      "text/plain": [
       "<Figure size 640x480 with 1 Axes>"
      ]
     },
     "metadata": {},
     "output_type": "display_data"
    }
   ],
   "source": [
    "criterion = nn.CrossEntropyLoss()\n",
    "optimizer = optim.Adam(model.parameters(), lr=0.001)\n",
    "# for param in model.parameters():\n",
    "#     param = param.to(device)\n",
    "\n",
    "# 訓練循環\n",
    "epochs = 10  # 設定訓練輪數\n",
    "\n",
    "traing_acc_3c = []\n",
    "val_acc_3c = []\n",
    "\n",
    "traing_acc_RG = []\n",
    "val_acc_RG = []\n",
    "\n",
    "traing_acc_RB = []\n",
    "val_acc_RB = []\n",
    "\n",
    "traing_acc_GB = []\n",
    "val_acc_GB = []\n",
    "\n",
    "traing_acc_R = []\n",
    "val_acc_R = []\n",
    "\n",
    "traing_acc_G = []\n",
    "val_acc_G = []\n",
    "\n",
    "traing_acc_B = []\n",
    "val_acc_B = []\n",
    "\n",
    "for epoch in range(epochs):\n",
    "    model.train()  # 將模型設置為訓練模式\n",
    "\n",
    "    train(model,train_R_loader,val_R_loader,criterion,optimizer,traing_acc_R,val_acc_R,epoch,\"R\")\n",
    "    train(model,train_RG_loader,val_RG_loader,criterion,optimizer,traing_acc_RG,val_acc_RG,epoch,\"RG\")\n",
    "    train(model,train_G_loader,val_G_loader,criterion,optimizer,traing_acc_G,val_acc_G,epoch,\"G\")\n",
    "    train(model,train_GB_loader,val_GB_loader,criterion,optimizer,traing_acc_GB,val_acc_GB,epoch,\"GB\")\n",
    "    train(model,train_B_loader,val_B_loader,criterion,optimizer,traing_acc_B,val_acc_B,epoch,\"B\")\n",
    "    train(model,train_RB_loader,val_RB_loader,criterion,optimizer,traing_acc_RB,val_acc_RB,epoch,\"RB\")\n",
    "    train(model,train_3c_loader,val_3c_loader,criterion,optimizer,traing_acc_3c,val_acc_3c,epoch,\"RGB\")\n",
    "\n",
    "    \n",
    "    \n",
    "plot_acc(traing_acc_3c,val_acc_3c,\"RGB\")\n",
    "plot_acc(traing_acc_RG,val_acc_RG,\"RG\")\n",
    "plot_acc(traing_acc_GB,val_acc_GB,\"GB\")\n",
    "plot_acc(traing_acc_RB,val_acc_RB,\"RB\")\n",
    "plot_acc(traing_acc_R,val_acc_R,\"R\")\n",
    "plot_acc(traing_acc_G,val_acc_G,\"G\")\n",
    "plot_acc(traing_acc_B,val_acc_B,\"B\")\n"
   ]
  },
  {
   "cell_type": "code",
   "execution_count": 14,
   "metadata": {},
   "outputs": [],
   "source": [
    "def test(model,dataloader,channel = \"RGB\"):\n",
    "    correct = 0\n",
    "    total = 0\n",
    "    for inputs, labels in tqdm(dataloader, desc=\"Evaluating\"):\n",
    "        inputs, labels = inputs.float().to(device), labels.float().to(device)\n",
    "        labels = labels.argmax(dim=1)\n",
    "        outputs = model(inputs)\n",
    "        _, predicted = torch.max(outputs, 1)\n",
    "        total += labels.size(0)\n",
    "        correct += (predicted == labels).sum().item()\n",
    "\n",
    "    accuracy = correct / total\n",
    "    print(f\"{channel}-channel Test Accuracy: {accuracy:.4f}\")"
   ]
  },
  {
   "cell_type": "code",
   "execution_count": 15,
   "metadata": {},
   "outputs": [
    {
     "name": "stderr",
     "output_type": "stream",
     "text": [
      "Evaluating: 100%|██████████| 4/4 [00:00<00:00, 45.75it/s]\n"
     ]
    },
    {
     "name": "stdout",
     "output_type": "stream",
     "text": [
      "RGB-channel Test Accuracy: 0.5156\n"
     ]
    },
    {
     "name": "stderr",
     "output_type": "stream",
     "text": [
      "Evaluating: 100%|██████████| 4/4 [00:00<00:00, 47.74it/s]\n"
     ]
    },
    {
     "name": "stdout",
     "output_type": "stream",
     "text": [
      "RG-channel Test Accuracy: 0.4578\n"
     ]
    },
    {
     "name": "stderr",
     "output_type": "stream",
     "text": [
      "Evaluating: 100%|██████████| 4/4 [00:00<00:00, 47.03it/s]\n"
     ]
    },
    {
     "name": "stdout",
     "output_type": "stream",
     "text": [
      "RB-channel Test Accuracy: 0.4622\n"
     ]
    },
    {
     "name": "stderr",
     "output_type": "stream",
     "text": [
      "Evaluating: 100%|██████████| 4/4 [00:00<00:00, 48.15it/s]\n"
     ]
    },
    {
     "name": "stdout",
     "output_type": "stream",
     "text": [
      "GB-channel Test Accuracy: 0.4422\n"
     ]
    },
    {
     "name": "stderr",
     "output_type": "stream",
     "text": [
      "Evaluating: 100%|██████████| 4/4 [00:00<00:00, 49.55it/s]\n"
     ]
    },
    {
     "name": "stdout",
     "output_type": "stream",
     "text": [
      "R-channel Test Accuracy: 0.4156\n"
     ]
    },
    {
     "name": "stderr",
     "output_type": "stream",
     "text": [
      "Evaluating: 100%|██████████| 4/4 [00:00<00:00, 49.25it/s]\n"
     ]
    },
    {
     "name": "stdout",
     "output_type": "stream",
     "text": [
      "G-channel Test Accuracy: 0.4556\n"
     ]
    },
    {
     "name": "stderr",
     "output_type": "stream",
     "text": [
      "Evaluating: 100%|██████████| 4/4 [00:00<00:00, 50.18it/s]"
     ]
    },
    {
     "name": "stdout",
     "output_type": "stream",
     "text": [
      "B-channel Test Accuracy: 0.4289\n"
     ]
    },
    {
     "name": "stderr",
     "output_type": "stream",
     "text": [
      "\n"
     ]
    }
   ],
   "source": [
    "\n",
    "model_test_path = f\"./model/HW2-1/myModel/myModel.pth\"\n",
    "model_test = CNNModel()\n",
    "model_test.load_state_dict(torch.load(model_test_path))\n",
    "model_test.to(device)\n",
    "model_test.eval()\n",
    "#test_RGB\n",
    "test(model_test,test_3c_loader,\"RGB\")\n",
    "\n",
    "#test RG\n",
    "test(model_test,test_RG_loader,\"RG\")\n",
    "\n",
    "#test RB\n",
    "test(model_test,test_RB_loader,\"RB\")\n",
    "\n",
    "#test GB\n",
    "test(model_test,test_GB_loader,\"GB\")\n",
    "\n",
    "#test R\n",
    "test(model_test,test_R_loader,\"R\")\n",
    "\n",
    "#test G\n",
    "test(model_test,test_G_loader,\"G\")\n",
    "\n",
    "#test R\n",
    "test(model_test,test_B_loader,\"B\")"
   ]
  }
 ],
 "metadata": {
  "kernelspec": {
   "display_name": "Python 3",
   "language": "python",
   "name": "python3"
  },
  "language_info": {
   "codemirror_mode": {
    "name": "ipython",
    "version": 3
   },
   "file_extension": ".py",
   "mimetype": "text/x-python",
   "name": "python",
   "nbconvert_exporter": "python",
   "pygments_lexer": "ipython3",
   "version": "3.10.12"
  }
 },
 "nbformat": 4,
 "nbformat_minor": 2
}
