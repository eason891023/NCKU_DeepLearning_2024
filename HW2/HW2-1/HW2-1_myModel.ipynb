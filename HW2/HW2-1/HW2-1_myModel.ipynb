{
 "cells": [
  {
   "cell_type": "code",
   "execution_count": 18,
   "metadata": {},
   "outputs": [],
   "source": [
    "import torch\n",
    "import torch.nn as nn\n",
    "import torch.nn.functional as F\n",
    "from torchvision import transforms\n",
    "from torch.utils.data import TensorDataset, DataLoader,Dataset\n",
    "import torch.optim as optim\n",
    "import torchvision.transforms.functional as TF\n",
    "from torchinfo import summary\n",
    "\n",
    "import numpy as np\n",
    "from numpy import linalg as LA\n",
    "import cv2\n",
    "import matplotlib.pyplot as plt\n",
    "from tqdm import tqdm\n",
    "import random"
   ]
  },
  {
   "cell_type": "code",
   "execution_count": 2,
   "metadata": {},
   "outputs": [
    {
     "name": "stdout",
     "output_type": "stream",
     "text": [
      "Total train images: 63325\n"
     ]
    },
    {
     "name": "stderr",
     "output_type": "stream",
     "text": [
      "Loading images:   0%|          | 0/63325 [00:00<?, ?it/s]"
     ]
    },
    {
     "name": "stderr",
     "output_type": "stream",
     "text": [
      "Loading images: 100%|██████████| 63325/63325 [00:24<00:00, 2611.43it/s]\n"
     ]
    },
    {
     "name": "stdout",
     "output_type": "stream",
     "text": [
      "Total train images: 450\n"
     ]
    },
    {
     "name": "stderr",
     "output_type": "stream",
     "text": [
      "Loading images: 100%|██████████| 450/450 [00:00<00:00, 2826.22it/s]\n"
     ]
    },
    {
     "name": "stdout",
     "output_type": "stream",
     "text": [
      "Total train images: 450\n"
     ]
    },
    {
     "name": "stderr",
     "output_type": "stream",
     "text": [
      "Loading images: 100%|██████████| 450/450 [00:00<00:00, 2849.78it/s]\n"
     ]
    },
    {
     "name": "stdout",
     "output_type": "stream",
     "text": [
      "Total train images: 63325\n"
     ]
    },
    {
     "name": "stderr",
     "output_type": "stream",
     "text": [
      "Loading images: 100%|██████████| 63325/63325 [00:22<00:00, 2833.17it/s]\n"
     ]
    },
    {
     "name": "stdout",
     "output_type": "stream",
     "text": [
      "Total train images: 450\n"
     ]
    },
    {
     "name": "stderr",
     "output_type": "stream",
     "text": [
      "Loading images: 100%|██████████| 450/450 [00:00<00:00, 2836.60it/s]\n"
     ]
    },
    {
     "name": "stdout",
     "output_type": "stream",
     "text": [
      "Total train images: 450\n"
     ]
    },
    {
     "name": "stderr",
     "output_type": "stream",
     "text": [
      "Loading images: 100%|██████████| 450/450 [00:00<00:00, 2859.72it/s]\n"
     ]
    },
    {
     "name": "stdout",
     "output_type": "stream",
     "text": [
      "Total train images: 63325\n"
     ]
    },
    {
     "name": "stderr",
     "output_type": "stream",
     "text": [
      "Loading images: 100%|██████████| 63325/63325 [00:23<00:00, 2726.16it/s]\n"
     ]
    },
    {
     "name": "stdout",
     "output_type": "stream",
     "text": [
      "Total train images: 450\n"
     ]
    },
    {
     "name": "stderr",
     "output_type": "stream",
     "text": [
      "Loading images: 100%|██████████| 450/450 [00:00<00:00, 1712.27it/s]\n"
     ]
    },
    {
     "name": "stdout",
     "output_type": "stream",
     "text": [
      "Total train images: 450\n"
     ]
    },
    {
     "name": "stderr",
     "output_type": "stream",
     "text": [
      "Loading images: 100%|██████████| 450/450 [00:00<00:00, 2781.70it/s]\n"
     ]
    },
    {
     "name": "stdout",
     "output_type": "stream",
     "text": [
      "Total train images: 63325\n"
     ]
    },
    {
     "name": "stderr",
     "output_type": "stream",
     "text": [
      "Loading images: 100%|██████████| 63325/63325 [00:24<00:00, 2580.77it/s]\n"
     ]
    },
    {
     "name": "stdout",
     "output_type": "stream",
     "text": [
      "Total train images: 450\n"
     ]
    },
    {
     "name": "stderr",
     "output_type": "stream",
     "text": [
      "Loading images: 100%|██████████| 450/450 [00:00<00:00, 2783.10it/s]\n"
     ]
    },
    {
     "name": "stdout",
     "output_type": "stream",
     "text": [
      "Total train images: 450\n"
     ]
    },
    {
     "name": "stderr",
     "output_type": "stream",
     "text": [
      "Loading images: 100%|██████████| 450/450 [00:00<00:00, 2794.51it/s]\n"
     ]
    },
    {
     "name": "stdout",
     "output_type": "stream",
     "text": [
      "Total train images: 63325\n"
     ]
    },
    {
     "name": "stderr",
     "output_type": "stream",
     "text": [
      "Loading images: 100%|██████████| 63325/63325 [00:23<00:00, 2665.71it/s]\n"
     ]
    },
    {
     "name": "stdout",
     "output_type": "stream",
     "text": [
      "Total train images: 450\n"
     ]
    },
    {
     "name": "stderr",
     "output_type": "stream",
     "text": [
      "Loading images: 100%|██████████| 450/450 [00:00<00:00, 2832.93it/s]\n"
     ]
    },
    {
     "name": "stdout",
     "output_type": "stream",
     "text": [
      "Total train images: 450\n"
     ]
    },
    {
     "name": "stderr",
     "output_type": "stream",
     "text": [
      "Loading images: 100%|██████████| 450/450 [00:00<00:00, 2858.82it/s]\n"
     ]
    },
    {
     "name": "stdout",
     "output_type": "stream",
     "text": [
      "Total train images: 63325\n"
     ]
    },
    {
     "name": "stderr",
     "output_type": "stream",
     "text": [
      "Loading images: 100%|██████████| 63325/63325 [00:22<00:00, 2771.83it/s]\n"
     ]
    },
    {
     "name": "stdout",
     "output_type": "stream",
     "text": [
      "Total train images: 450\n"
     ]
    },
    {
     "name": "stderr",
     "output_type": "stream",
     "text": [
      "Loading images: 100%|██████████| 450/450 [00:00<00:00, 2824.54it/s]\n"
     ]
    },
    {
     "name": "stdout",
     "output_type": "stream",
     "text": [
      "Total train images: 450\n"
     ]
    },
    {
     "name": "stderr",
     "output_type": "stream",
     "text": [
      "Loading images: 100%|██████████| 450/450 [00:00<00:00, 2860.17it/s]\n"
     ]
    },
    {
     "name": "stdout",
     "output_type": "stream",
     "text": [
      "Total train images: 63325\n"
     ]
    },
    {
     "name": "stderr",
     "output_type": "stream",
     "text": [
      "Loading images: 100%|██████████| 63325/63325 [00:24<00:00, 2586.56it/s]\n"
     ]
    },
    {
     "name": "stdout",
     "output_type": "stream",
     "text": [
      "Total train images: 450\n"
     ]
    },
    {
     "name": "stderr",
     "output_type": "stream",
     "text": [
      "Loading images: 100%|██████████| 450/450 [00:00<00:00, 2843.76it/s]\n"
     ]
    },
    {
     "name": "stdout",
     "output_type": "stream",
     "text": [
      "Total train images: 450\n"
     ]
    },
    {
     "name": "stderr",
     "output_type": "stream",
     "text": [
      "Loading images: 100%|██████████| 450/450 [00:00<00:00, 2859.95it/s]\n"
     ]
    }
   ],
   "source": [
    "\n",
    "def load_3channel_img(file_path):\n",
    "    with open(file_path) as f:\n",
    "        lines = f.readlines()\n",
    "    imgs, labels = [], []\n",
    "    # imgs = torch.Tensor()\n",
    "    # labels = []\n",
    "    target_size=(128, 128)\n",
    "    print('Total train images:', len(lines))\n",
    "    for i in tqdm(range(len(lines)), desc=\"Loading images\"):\n",
    "    # for i in tqdm(range(100), desc=\"Loading images\"):\n",
    "        fn, label = lines[i].strip().split(' ')\n",
    "        im1 = cv2.imread(fn)\n",
    "        # 如果需要進行影像處理，請在這裡添加相應的處理步驟\n",
    "        im1 = cv2.resize(im1, target_size)\n",
    "\n",
    "        # 轉換成 PyTorch Tensor\n",
    "        im1_tensor = torch.from_numpy(im1.transpose(2, 0, 1))  # 將通道維度移動到最前面\n",
    "        \n",
    "        imgs.append(im1_tensor) \n",
    "        labels.append(int(label))\n",
    "\n",
    "    imgs_tensor = torch.stack(imgs)  # 將列表中的 Tensor 堆疊成一個整體 Tensor\n",
    "    labels_tensor = torch.tensor(labels)\n",
    "\n",
    "    return imgs_tensor, labels_tensor\n",
    "\n",
    "x_3c, y_3c = load_3channel_img('train.txt')\n",
    "val_x_3c, val_y_3c = load_3channel_img('val.txt')\n",
    "tx_3c, ty_3c = load_3channel_img('test.txt')\n",
    "\n",
    "\n",
    "def load_2channel_img(file_path,channel = \"RG\"):\n",
    "    with open(file_path) as f:\n",
    "        lines = f.readlines()\n",
    "    imgs, labels = [], []\n",
    "    # imgs = torch.Tensor()\n",
    "    # labels = []\n",
    "    target_size=(128, 128)\n",
    "    print('Total train images:', len(lines))\n",
    "    for i in tqdm(range(len(lines)), desc=\"Loading images\"):\n",
    "    # for i in tqdm(range(100), desc=\"Loading images\"):\n",
    "        fn, label = lines[i].strip().split(' ')\n",
    "        im1 = cv2.imread(fn)\n",
    "        # 如果需要進行影像處理，請在這裡添加相應的處理步驟\n",
    "        im1 = cv2.resize(im1, target_size)\n",
    "\n",
    "        if channel == \"RG\":\n",
    "            im1_rg = im1[:, :, 0:2]\n",
    "            im1_rg_tensor = torch.from_numpy(im1_rg.transpose(2, 0, 1))\n",
    "            imgs.append(im1_rg_tensor)\n",
    "            labels.append(int(label))\n",
    "            # print(im1_rg.shape)\n",
    "        elif channel == \"GB\":\n",
    "            im1_gb = im1[:, :, 1:3]\n",
    "            im1_gb_tensor = torch.from_numpy(im1_gb.transpose(2, 0, 1))\n",
    "            imgs.append(im1_gb_tensor)\n",
    "            labels.append(int(label))\n",
    "            # print(im1_gb.shape)\n",
    "        else:\n",
    "            im1_rb = im1[:, :, [0, 2]]\n",
    "            im1_rb_tensor = torch.from_numpy(im1_rb.transpose(2, 0, 1))\n",
    "            imgs.append(im1_rb_tensor)\n",
    "            labels.append(int(label))\n",
    "            # print(im1_rb.shape)\n",
    "\n",
    "\n",
    "    imgs_tensor = torch.stack(imgs)  # 將列表中的 Tensor 堆疊成一個整體 Tensor\n",
    "    labels_tensor = torch.tensor(labels)\n",
    "\n",
    "    return imgs_tensor, labels_tensor\n",
    "\n",
    "x_RG, y_RG = load_2channel_img('train.txt',\"RG\")\n",
    "val_x_RG, val_y_RG = load_2channel_img('val.txt',\"RG\")\n",
    "tx_RG, ty_RG = load_2channel_img('test.txt',\"RG\")\n",
    "x_GB, y_GB = load_2channel_img('train.txt',\"GB\")\n",
    "val_x_GB, val_y_GB = load_2channel_img('val.txt',\"GB\")\n",
    "tx_GB, ty_GB = load_2channel_img('test.txt',\"GB\")\n",
    "x_RB, y_RB = load_2channel_img('train.txt',\"RB\")\n",
    "val_x_RB, val_y_RB = load_2channel_img('val.txt',\"RB\")\n",
    "tx_RB, ty_RB = load_2channel_img('test.txt',\"RB\")\n",
    "\n",
    "def load_1channel_img(file_path,channel = \"R\"):\n",
    "    with open(file_path) as f:\n",
    "        lines = f.readlines()\n",
    "    imgs, labels = [], []\n",
    "    # imgs = torch.Tensor()\n",
    "    # labels = []\n",
    "    target_size=(128, 128)\n",
    "    print('Total train images:', len(lines))\n",
    "    for i in tqdm(range(len(lines)), desc=\"Loading images\"):\n",
    "    # for i in tqdm(range(100), desc=\"Loading images\"):\n",
    "        fn, label = lines[i].strip().split(' ')\n",
    "        im1 = cv2.imread(fn)\n",
    "        # 如果需要進行影像處理，請在這裡添加相應的處理步驟\n",
    "        im1 = cv2.resize(im1, target_size)\n",
    "\n",
    "        # 把圖片RGB都拆開\n",
    "        im1_r, im1_g, im1_b = im1[:, :, 0], im1[:, :, 1], im1[:, :, 2]\n",
    "        if channel == \"R\":\n",
    "            im1_r = np.expand_dims(im1_r, axis=2)\n",
    "            im1_r_tensor = torch.from_numpy(im1_r.transpose(2, 0, 1))\n",
    "            imgs.append(im1_r_tensor)\n",
    "            labels.append(int(label))\n",
    "        elif channel == \"G\":\n",
    "            im1_g = np.expand_dims(im1_g, axis=2)\n",
    "            im1_g_tensor = torch.from_numpy(im1_g.transpose(2, 0, 1))\n",
    "            imgs.append(im1_g_tensor)\n",
    "            labels.append(int(label))\n",
    "        else:\n",
    "            im1_b = np.expand_dims(im1_b, axis=2)\n",
    "            im1_b_tensor = torch.from_numpy(im1_b.transpose(2, 0, 1))\n",
    "            imgs.append(im1_b_tensor)\n",
    "            labels.append(int(label))\n",
    "    \n",
    "    imgs_tensor = torch.stack(imgs)  # 將列表中的 Tensor 堆疊成一個整體 Tensor\n",
    "    labels_tensor = torch.tensor(labels)\n",
    "\n",
    "    return imgs_tensor, labels_tensor\n",
    "\n",
    "x_R, y_R = load_1channel_img('train.txt',\"R\")\n",
    "val_x_R, val_y_R = load_1channel_img('val.txt',\"R\")\n",
    "tx_R, ty_R = load_1channel_img('test.txt',\"R\")\n",
    "x_G, y_G = load_1channel_img('train.txt',\"G\")\n",
    "val_x_G, val_y_G = load_1channel_img('val.txt',\"G\")\n",
    "tx_G, ty_G = load_1channel_img('test.txt',\"G\")\n",
    "x_B, y_B = load_1channel_img('train.txt',\"B\")\n",
    "val_x_B, val_y_B = load_1channel_img('val.txt',\"B\")\n",
    "tx_B, ty_B = load_1channel_img('test.txt',\"B\")"
   ]
  },
  {
   "cell_type": "code",
   "execution_count": 3,
   "metadata": {},
   "outputs": [
    {
     "name": "stdout",
     "output_type": "stream",
     "text": [
      "torch.Size([8, 64, 64, 64])\n"
     ]
    }
   ],
   "source": [
    "class attention2d(nn.Module):\n",
    "    def __init__(self, in_planes, ratios, K, temperature, init_weight=True):\n",
    "        super(attention2d, self).__init__()\n",
    "        assert temperature%3==1\n",
    "        self.avgpool = nn.AdaptiveAvgPool2d(1)\n",
    "        if in_planes!=3:\n",
    "            hidden_planes = int(in_planes*ratios)+1\n",
    "        else:\n",
    "            hidden_planes = K\n",
    "\n",
    "        self.fc1 = nn.Conv2d(in_planes, hidden_planes, 1, bias=False)\n",
    "        # self.bn = nn.BatchNorm2d(hidden_planes)\n",
    "        self.fc2 = nn.Conv2d(hidden_planes, K, 1, bias=True)\n",
    "        self.temperature = temperature\n",
    "        if init_weight:\n",
    "            self._initialize_weights()\n",
    "\n",
    "\n",
    "    def _initialize_weights(self):\n",
    "        for m in self.modules():\n",
    "            if isinstance(m, nn.Conv2d):\n",
    "                nn.init.kaiming_normal_(m.weight, mode='fan_out', nonlinearity='relu')\n",
    "                if m.bias is not None:\n",
    "                    nn.init.constant_(m.bias, 0)\n",
    "            if isinstance(m ,nn.BatchNorm2d):\n",
    "                nn.init.constant_(m.weight, 1)\n",
    "                nn.init.constant_(m.bias, 0)\n",
    "\n",
    "    def updata_temperature(self):\n",
    "        if self.temperature!=1:\n",
    "            self.temperature -=3\n",
    "            print('Change temperature to:', str(self.temperature))\n",
    "\n",
    "\n",
    "    def forward(self, x):\n",
    "        x = self.avgpool(x)\n",
    "        x = self.fc1(x)\n",
    "        x = F.relu(x)\n",
    "        x = self.fc2(x).view(x.size(0), -1)\n",
    "        return F.softmax(x/self.temperature, 1)\n",
    "\n",
    "    \n",
    "class AdaptiveChannelConvModule(nn.Module):\n",
    "    def __init__(self, out_channels, kernel_size):\n",
    "        super(AdaptiveChannelConvModule, self).__init__()\n",
    "        self.out_channels = out_channels\n",
    "        self.kernel_size = kernel_size\n",
    "        self.conv = nn.Conv2d(out_channels, out_channels, kernel_size, padding=kernel_size // 2)\n",
    "        self.conv_pad = nn.Conv2d(2, out_channels//2, kernel_size, padding=kernel_size // 2)\n",
    "        # self.pool = nn.AdaptiveAvgPool2d((1))\n",
    "        # self.attention = attention2d()\n",
    "\n",
    "    def forward(self, x):\n",
    "        batch_size, in_channels, height, width = x.shape\n",
    "        \n",
    "        # 使用線性層將輸入調整到固定的通道數\n",
    "        if in_channels < self.out_channels:\n",
    "            \n",
    "            x_avgpooled = x.mean(dim=1, keepdim=True)\n",
    "            x_maxpooled = x.max(dim=1, keepdim=True).values\n",
    "            x_pad = torch.cat([x_avgpooled, x_maxpooled], dim=1)\n",
    "            # x_pad = torch.cat([x, x_pad], dim=1)\n",
    "            x_pad = self.conv_pad(x_pad)\n",
    "            # x_pad = torch.cat([x_pad, x_conv_pad], dim=1)\n",
    "            x = torch.cat([x, x_pad], dim=1)\n",
    "\n",
    "            if x.shape[1] < self.out_channels:\n",
    "                # print(\"asasdasd\")\n",
    "                x_avgpooled = x.mean(dim=1, keepdim=True)\n",
    "                x_maxpooled = x.max(dim=1, keepdim=True).values\n",
    "                x_avgpooled_repeated = x_avgpooled.repeat(1, (self.out_channels - x.shape[1]) // 2, 1, 1)\n",
    "                x = torch.cat([x, x_avgpooled_repeated], dim=1)\n",
    "                x_maxpooled = x_maxpooled.repeat(1, self.out_channels - x.shape[1], 1, 1)\n",
    "                x = torch.cat([x, x_maxpooled], dim=1) \n",
    "\n",
    "            # noise_avg = torch.randn_like(x_avgpooled) * 0.1  # 生成与 x_avgpooled 相同形状的噪声\n",
    "            # noise_max = torch.randn_like(x_maxpooled) * 0.1  # 生成与 x_maxpooled 相同形状的噪声\n",
    "\n",
    "            # # x_avgpooled_noisy = x_avgpooled + noise_avg\n",
    "            # # x_maxpooled_noisy = x_maxpooled + noise_max\n",
    "            # # print(x_avgpooled.shape)\n",
    "            # # print(x_maxpooled.shape)\n",
    "            # x_avgpooled_repeated = x_avgpooled.repeat(1, (self.out_channels- in_channels) // 2, 1, 1)\n",
    "            # x_maxpooled = x_maxpooled.repeat(1, self.out_channels - in_channels - x_avgpooled_repeated.shape[1], 1, 1)\n",
    "            # x = torch.cat([x, x_avgpooled_repeated], dim=1)\n",
    "            # x = torch.cat([x, x_maxpooled], dim=1)\n",
    "            \n",
    "            # while x.shape[1] < self.out_channels:\n",
    "            #     random_index = random.randint(0, x.shape[1] - 1)\n",
    "            #     angle = random.uniform(0,30)\n",
    "            #     scale = random.uniform(0.8, 1.0)\n",
    "                \n",
    "            #     x_rotate_featuremap = TF.rotate(x[:,random_index,:,:],angle)\n",
    "            #     x_rotate_featuremap =  x_rotate_featuremap.unsqueeze(1)\n",
    "            #     x_resizecrop_featuremap = TF.resized_crop(x[:,random_index,:,:], top=0, left=0, height=int(height * scale), width=int(width * scale), size=(height, width))\n",
    "            #     x_resizecrop_featuremap =  x_resizecrop_featuremap.unsqueeze(1)\n",
    "            #     x = torch.cat([x, x_rotate_featuremap], dim=1)\n",
    "            #     x = torch.cat([x, x_resizecrop_featuremap], dim=1)\n",
    "                # print(x.shape)\n",
    "            \n",
    "\n",
    "\n",
    "\n",
    "\n",
    "        if x.shape[1] > self.out_channels:\n",
    "                x = x[:, :self.out_channels, :, :]\n",
    "    \n",
    "        out = self.conv(x)\n",
    "        \n",
    "        # 進行標準卷積操作\n",
    "        # out = self.conv(x)\n",
    "        return out\n",
    "\n",
    "# 用法示例\n",
    "model = AdaptiveChannelConvModule(out_channels=64, kernel_size=3)\n",
    "input_image = torch.randn(8, 3, 64, 64)  # 任意通道特徵圖\n",
    "output = model(input_image)\n",
    "print(output.shape)  # 應為 (1, 64, 64, 64)\n",
    "\n",
    "class Dynamic_conv2d(nn.Module):\n",
    "    def __init__(self,out_planes, kernel_size, ratio=0.25, stride=1, padding=1, dilation=1, groups=1, bias=True, K=8,temperature=34, init_weight=True):\n",
    "        super(Dynamic_conv2d, self).__init__()\n",
    "        # assert in_planes%groups==0\n",
    "        # self.in_planes = in_planes\n",
    "        self.out_planes = out_planes\n",
    "        self.kernel_size = kernel_size\n",
    "        self.stride = stride\n",
    "        self.padding = padding\n",
    "        self.dilation = dilation\n",
    "        self.groups = groups\n",
    "        self.bias = bias\n",
    "        self.K = K\n",
    "        self.ADC = AdaptiveChannelConvModule(out_channels=out_planes, kernel_size=kernel_size)\n",
    "                                            #  augmentations= RandomAugmentations(rotation_range=(0, 30), crop_scale=(0.8, 1.0), jitter_params=(0.4, 0.4, 0.4, 0.4)))\n",
    "\n",
    "        self.attention = attention2d(out_planes, ratio, K, temperature)\n",
    "\n",
    "        self.weight = nn.Parameter(torch.randn(K, out_planes, out_planes//groups, kernel_size, kernel_size), requires_grad=True)\n",
    "\n",
    "    \n",
    "        if bias:\n",
    "            self.bias = nn.Parameter(torch.zeros(K, out_planes))\n",
    "        else:\n",
    "            self.bias = None\n",
    "            \n",
    "        if init_weight:\n",
    "            self._initialize_weights()\n",
    "\n",
    "        #TODO 初始化\n",
    "    def _initialize_weights(self):\n",
    "        for i in range(self.K):\n",
    "            nn.init.kaiming_uniform_(self.weight[i])\n",
    "\n",
    "\n",
    "    def update_temperature(self):\n",
    "        self.attention.updata_temperature()\n",
    "\n",
    "    def forward(self, x):#将batch视作维度变量，进行组卷积，因为组卷积的权重是不同的，动态卷积的权重也是不同的\n",
    "        batch_size, in_planes, height, width = x.size()\n",
    "        # print(in_planes)\n",
    "        # print(x.shape)\n",
    "        x = self.ADC(x)\n",
    "        # print(\"done adc\")\n",
    "        # print(x.shape)\n",
    "        softmax_attention = self.attention(x)\n",
    "            \n",
    "        \n",
    "        # print(x.shape)\n",
    "        x = x.view(1, -1, height, width)# 变化成一个维度进行组卷积\n",
    "        weight = self.weight.view(self.K, -1)\n",
    "        # 动态卷积的权重的生成， 生成的是batch_size个卷积参数（每个参数不同）\n",
    "        aggregate_weight = torch.mm(softmax_attention, weight).view(batch_size*self.out_planes, self.out_planes//self.groups, self.kernel_size, self.kernel_size)\n",
    "        # print(aggregate_weight.shape)\n",
    "        if self.bias is not None:\n",
    "            aggregate_bias = torch.mm(softmax_attention, self.bias).view(-1)\n",
    "            # print(aggregate_weight.shape)\n",
    "            # print(x.shape)\n",
    "            output = F.conv2d(x, weight=aggregate_weight, bias=aggregate_bias, stride=self.stride, padding=self.padding,\n",
    "                              dilation=self.dilation, groups=self.groups*batch_size)\n",
    "        else:\n",
    "            output = F.conv2d(x, weight=aggregate_weight, bias=None, stride=self.stride, padding=self.padding,\n",
    "                              dilation=self.dilation, groups=self.groups * batch_size)\n",
    "\n",
    "        output = output.view(batch_size, self.out_planes, output.size(-2), output.size(-1))\n",
    "        return output"
   ]
  },
  {
   "cell_type": "code",
   "execution_count": 4,
   "metadata": {},
   "outputs": [],
   "source": [
    "# # 測試\n",
    "# # x1 = torch.randn(64, 3, 128, 128)  # 一個RGB圖像\n",
    "# dynamic_conv = Dynamic_conv2d(out_planes=64, kernel_size=3,stride = 1)\n",
    "# # out1 = dynamic_conv(x1)\n",
    "# # print(\"done 1\")\n",
    "# # print(out1.shape)  # 應輸出 torch.Size([1, 64, 224, 224])\n",
    "\n",
    "# x2 = torch.randn(64, 128, 128, 128)  # 一個灰階圖像\n",
    "# out2 = dynamic_conv(x2)\n",
    "# print(\"done\")\n",
    "# print(out2.shape)  # 應輸出 torch.Size([1, 64, 224, 224])\n",
    "\n",
    "# # x3 = torch.randn(64, 2, 128, 128)  # 一個灰階圖像\n",
    "# # # dynamic_conv = Dynamic_conv2d(out_planes=32, kernel_size=3,stride = 1)\n",
    "# # out2 = dynamic_conv(x3)\n",
    "# # print(out2.shape)  # 應輸出 torch.Size([1, 64, 224, 224])"
   ]
  },
  {
   "cell_type": "code",
   "execution_count": 5,
   "metadata": {},
   "outputs": [],
   "source": [
    "# RG\n",
    "y_RG_tensor = torch.nn.functional.one_hot(y_RG, num_classes=50)\n",
    "val_y_RG_tensor = torch.nn.functional.one_hot(val_y_RG, num_classes=50)\n",
    "ty_RG_tensor = torch.nn.functional.one_hot(ty_RG, num_classes=50)\n",
    "\n",
    "# RB\n",
    "y_RB_tensor = torch.nn.functional.one_hot(y_RB, num_classes=50)\n",
    "val_y_RB_tensor = torch.nn.functional.one_hot(val_y_RB, num_classes=50)\n",
    "ty_RB_tensor = torch.nn.functional.one_hot(ty_RB, num_classes=50)\n",
    "\n",
    "# GB\n",
    "y_GB_tensor = torch.nn.functional.one_hot(y_GB, num_classes=50)\n",
    "val_y_GB_tensor = torch.nn.functional.one_hot(val_y_GB, num_classes=50)\n",
    "ty_GB_tensor = torch.nn.functional.one_hot(ty_GB, num_classes=50)\n",
    "\n",
    "# R\n",
    "y_R_tensor = torch.nn.functional.one_hot(y_R, num_classes=50)\n",
    "val_y_R_tensor = torch.nn.functional.one_hot(val_y_R, num_classes=50)\n",
    "ty_R_tensor = torch.nn.functional.one_hot(ty_R, num_classes=50)\n",
    "\n",
    "# G\n",
    "y_G_tensor = torch.nn.functional.one_hot(y_G, num_classes=50)\n",
    "val_y_G_tensor = torch.nn.functional.one_hot(val_y_G, num_classes=50)\n",
    "ty_G_tensor = torch.nn.functional.one_hot(ty_G, num_classes=50)\n",
    "\n",
    "# B\n",
    "y_B_tensor = torch.nn.functional.one_hot(y_B, num_classes=50)\n",
    "val_y_B_tensor = torch.nn.functional.one_hot(val_y_B, num_classes=50)\n",
    "ty_B_tensor = torch.nn.functional.one_hot(ty_B, num_classes=50)\n",
    "\n",
    "\n",
    "y_3c_tensor = torch.nn.functional.one_hot(y_3c, num_classes=50)\n",
    "val_y_3c_tensor = torch.nn.functional.one_hot(val_y_3c, num_classes=50)\n",
    "ty_3c_tensor = torch.nn.functional.one_hot(ty_3c, num_classes=50)\n",
    "\n",
    "# RG\n",
    "train_dataset_RG = TensorDataset(x_RG, y_RG_tensor)\n",
    "val_dataset_RG = TensorDataset(val_x_RG, val_y_RG_tensor)\n",
    "test_dataset_RG = TensorDataset(tx_RG, ty_RG_tensor)\n",
    "\n",
    "# GB\n",
    "train_dataset_GB = TensorDataset(x_GB, y_GB_tensor)\n",
    "val_dataset_GB = TensorDataset(val_x_GB, val_y_GB_tensor)\n",
    "test_dataset_GB = TensorDataset(tx_GB, ty_GB_tensor)\n",
    "\n",
    "# RB\n",
    "train_dataset_RB = TensorDataset(x_RB, y_RB_tensor)\n",
    "val_dataset_RB = TensorDataset(val_x_RB, val_y_RB_tensor)\n",
    "test_dataset_RB = TensorDataset(tx_RB, ty_RB_tensor)\n",
    "\n",
    "# R\n",
    "train_dataset_R = TensorDataset(x_R, y_R_tensor)\n",
    "val_dataset_R = TensorDataset(val_x_R, val_y_R_tensor)\n",
    "test_dataset_R = TensorDataset(tx_R, ty_R_tensor)\n",
    "\n",
    "# G \n",
    "train_dataset_G = TensorDataset(x_G, y_G_tensor)\n",
    "val_dataset_G = TensorDataset(val_x_G, val_y_G_tensor)\n",
    "test_dataset_G = TensorDataset(tx_G, ty_G_tensor)\n",
    "\n",
    "# B\n",
    "train_dataset_B = TensorDataset(x_B, y_B_tensor)\n",
    "val_dataset_B = TensorDataset(val_x_B, val_y_B_tensor)\n",
    "test_dataset_B = TensorDataset(tx_B, ty_B_tensor)\n",
    "\n",
    "# RGB\n",
    "train_dataset_3c = TensorDataset(x_3c, y_3c_tensor)\n",
    "val_dataset_3c = TensorDataset(val_x_3c, val_y_3c_tensor)\n",
    "test_dataset_3c = TensorDataset(tx_3c, ty_3c_tensor)\n",
    "\n",
    "batch_size = 128  # 可以自行調整 batch size 的大小\n",
    "shuffle = True   # 是否對資料進行洗牌\n",
    "\n",
    "# RG\n",
    "train_RG_loader = DataLoader(train_dataset_RG, batch_size=batch_size, shuffle=shuffle)\n",
    "val_RG_loader = DataLoader(val_dataset_RG, batch_size=batch_size, shuffle=shuffle)\n",
    "test_RG_loader = DataLoader(test_dataset_RG, batch_size=batch_size, shuffle=shuffle)\n",
    "\n",
    "# RB\n",
    "train_RB_loader = DataLoader(train_dataset_RB, batch_size=batch_size, shuffle=shuffle)\n",
    "val_RB_loader = DataLoader(val_dataset_RB, batch_size=batch_size, shuffle=shuffle)\n",
    "test_RB_loader = DataLoader(test_dataset_RB, batch_size=batch_size, shuffle=shuffle)\n",
    "\n",
    "# GB\n",
    "train_GB_loader = DataLoader(train_dataset_GB, batch_size=batch_size, shuffle=shuffle)\n",
    "val_GB_loader = DataLoader(val_dataset_GB, batch_size=batch_size, shuffle=shuffle)\n",
    "test_GB_loader = DataLoader(test_dataset_GB, batch_size=batch_size, shuffle=shuffle)\n",
    "\n",
    "# R\n",
    "train_R_loader = DataLoader(train_dataset_R, batch_size=batch_size, shuffle=shuffle)\n",
    "val_R_loader = DataLoader(val_dataset_R, batch_size=batch_size, shuffle=shuffle)\n",
    "test_R_loader = DataLoader(test_dataset_R, batch_size=batch_size, shuffle=shuffle)\n",
    "\n",
    "# G \n",
    "train_G_loader = DataLoader(train_dataset_G, batch_size=batch_size, shuffle=shuffle)\n",
    "val_G_loader = DataLoader(val_dataset_G, batch_size=batch_size, shuffle=shuffle)\n",
    "test_G_loader = DataLoader(test_dataset_G, batch_size=batch_size, shuffle=shuffle)\n",
    "\n",
    "# B \n",
    "train_B_loader = DataLoader(train_dataset_B, batch_size=batch_size, shuffle=shuffle)\n",
    "val_B_loader = DataLoader(val_dataset_B, batch_size=batch_size, shuffle=shuffle)\n",
    "test_B_loader = DataLoader(test_dataset_B, batch_size=batch_size, shuffle=shuffle)\n",
    "\n",
    "# RGB\n",
    "train_3c_loader = DataLoader(train_dataset_3c, batch_size=batch_size, shuffle=shuffle)\n",
    "val_3c_loader = DataLoader(val_dataset_3c, batch_size=batch_size, shuffle=shuffle)\n",
    "test_3c_loader = DataLoader(test_dataset_3c, batch_size=batch_size, shuffle=shuffle)\n",
    "\n"
   ]
  },
  {
   "cell_type": "code",
   "execution_count": 6,
   "metadata": {},
   "outputs": [],
   "source": [
    "class CNNModel(nn.Module):\n",
    "    def __init__(self):\n",
    "        super(CNNModel, self).__init__()\n",
    "        \n",
    "        # 5层卷积层\n",
    "        self.conv1 = Dynamic_conv2d(out_planes=32, kernel_size=3, stride=1, padding=1)\n",
    "        self.conv2 = Dynamic_conv2d(out_planes=64, kernel_size=3, stride=1, padding=1)\n",
    "        self.conv3 = Dynamic_conv2d(out_planes=128, kernel_size=3, stride=1, padding=1)\n",
    "        self.conv4 = Dynamic_conv2d(out_planes=256, kernel_size=3, stride=1, padding=1)\n",
    "        self.conv5 = Dynamic_conv2d(out_planes=512, kernel_size=3, stride=1, padding=1)\n",
    "        \n",
    "        # 批归一化层（可选）\n",
    "        self.bn1 = nn.BatchNorm2d(32)\n",
    "        self.bn2 = nn.BatchNorm2d(64)\n",
    "        self.bn3 = nn.BatchNorm2d(128)\n",
    "        self.bn4 = nn.BatchNorm2d(256)\n",
    "        self.bn5 = nn.BatchNorm2d(512)\n",
    "        \n",
    "        # 池化层\n",
    "        self.pool = nn.MaxPool2d(kernel_size=2, stride=2, padding=0)\n",
    "\n",
    "        # 3层全连接层\n",
    "        self.fc1 = nn.Linear(512 * 4 * 4 , 1024)\n",
    "        self.fc2 = nn.Linear(1024, 512)\n",
    "        self.fc3 = nn.Linear(512, 50)  # 假设有50个类别\n",
    "        \n",
    "        # dropout层（可选）\n",
    "        self.dropout = nn.Dropout(0.5)\n",
    "\n",
    "    def forward(self, x):\n",
    "        # 卷积层 + 批归一化 + 激活函数 + 池化\n",
    "        # print(x.shape)\n",
    "        x = self.pool(F.relu(self.bn1(self.conv1(x))))\n",
    "        # print(x.shape)\n",
    "        x = self.pool(F.relu(self.bn2(self.conv2(x))))\n",
    "        x = self.pool(F.relu(self.bn3(self.conv3(x))))\n",
    "        x = self.pool(F.relu(self.bn4(self.conv4(x))))\n",
    "        x = self.pool(F.relu(self.bn5(self.conv5(x))))\n",
    "        # print(x.shape)\n",
    "        # 展平\n",
    "        x = x.view(x.size(0), -1)\n",
    "        \n",
    "        # 全连接层 + 激活函数 + dropout\n",
    "        x = F.relu(self.fc1(x))\n",
    "        x = self.dropout(x)\n",
    "        x = F.relu(self.fc2(x))\n",
    "        x = self.dropout(x)\n",
    "        x = self.fc3(x)\n",
    "        \n",
    "        return x"
   ]
  },
  {
   "cell_type": "code",
   "execution_count": 7,
   "metadata": {},
   "outputs": [
    {
     "data": {
      "text/plain": [
       "CNNModel(\n",
       "  (conv1): Dynamic_conv2d(\n",
       "    (ADC): AdaptiveChannelConvModule(\n",
       "      (conv): Conv2d(32, 32, kernel_size=(3, 3), stride=(1, 1), padding=(1, 1))\n",
       "      (conv_pad): Conv2d(2, 16, kernel_size=(3, 3), stride=(1, 1), padding=(1, 1))\n",
       "    )\n",
       "    (attention): attention2d(\n",
       "      (avgpool): AdaptiveAvgPool2d(output_size=1)\n",
       "      (fc1): Conv2d(32, 9, kernel_size=(1, 1), stride=(1, 1), bias=False)\n",
       "      (fc2): Conv2d(9, 8, kernel_size=(1, 1), stride=(1, 1))\n",
       "    )\n",
       "  )\n",
       "  (conv2): Dynamic_conv2d(\n",
       "    (ADC): AdaptiveChannelConvModule(\n",
       "      (conv): Conv2d(64, 64, kernel_size=(3, 3), stride=(1, 1), padding=(1, 1))\n",
       "      (conv_pad): Conv2d(2, 32, kernel_size=(3, 3), stride=(1, 1), padding=(1, 1))\n",
       "    )\n",
       "    (attention): attention2d(\n",
       "      (avgpool): AdaptiveAvgPool2d(output_size=1)\n",
       "      (fc1): Conv2d(64, 17, kernel_size=(1, 1), stride=(1, 1), bias=False)\n",
       "      (fc2): Conv2d(17, 8, kernel_size=(1, 1), stride=(1, 1))\n",
       "    )\n",
       "  )\n",
       "  (conv3): Dynamic_conv2d(\n",
       "    (ADC): AdaptiveChannelConvModule(\n",
       "      (conv): Conv2d(128, 128, kernel_size=(3, 3), stride=(1, 1), padding=(1, 1))\n",
       "      (conv_pad): Conv2d(2, 64, kernel_size=(3, 3), stride=(1, 1), padding=(1, 1))\n",
       "    )\n",
       "    (attention): attention2d(\n",
       "      (avgpool): AdaptiveAvgPool2d(output_size=1)\n",
       "      (fc1): Conv2d(128, 33, kernel_size=(1, 1), stride=(1, 1), bias=False)\n",
       "      (fc2): Conv2d(33, 8, kernel_size=(1, 1), stride=(1, 1))\n",
       "    )\n",
       "  )\n",
       "  (conv4): Dynamic_conv2d(\n",
       "    (ADC): AdaptiveChannelConvModule(\n",
       "      (conv): Conv2d(256, 256, kernel_size=(3, 3), stride=(1, 1), padding=(1, 1))\n",
       "      (conv_pad): Conv2d(2, 128, kernel_size=(3, 3), stride=(1, 1), padding=(1, 1))\n",
       "    )\n",
       "    (attention): attention2d(\n",
       "      (avgpool): AdaptiveAvgPool2d(output_size=1)\n",
       "      (fc1): Conv2d(256, 65, kernel_size=(1, 1), stride=(1, 1), bias=False)\n",
       "      (fc2): Conv2d(65, 8, kernel_size=(1, 1), stride=(1, 1))\n",
       "    )\n",
       "  )\n",
       "  (conv5): Dynamic_conv2d(\n",
       "    (ADC): AdaptiveChannelConvModule(\n",
       "      (conv): Conv2d(512, 512, kernel_size=(3, 3), stride=(1, 1), padding=(1, 1))\n",
       "      (conv_pad): Conv2d(2, 256, kernel_size=(3, 3), stride=(1, 1), padding=(1, 1))\n",
       "    )\n",
       "    (attention): attention2d(\n",
       "      (avgpool): AdaptiveAvgPool2d(output_size=1)\n",
       "      (fc1): Conv2d(512, 129, kernel_size=(1, 1), stride=(1, 1), bias=False)\n",
       "      (fc2): Conv2d(129, 8, kernel_size=(1, 1), stride=(1, 1))\n",
       "    )\n",
       "  )\n",
       "  (bn1): BatchNorm2d(32, eps=1e-05, momentum=0.1, affine=True, track_running_stats=True)\n",
       "  (bn2): BatchNorm2d(64, eps=1e-05, momentum=0.1, affine=True, track_running_stats=True)\n",
       "  (bn3): BatchNorm2d(128, eps=1e-05, momentum=0.1, affine=True, track_running_stats=True)\n",
       "  (bn4): BatchNorm2d(256, eps=1e-05, momentum=0.1, affine=True, track_running_stats=True)\n",
       "  (bn5): BatchNorm2d(512, eps=1e-05, momentum=0.1, affine=True, track_running_stats=True)\n",
       "  (pool): MaxPool2d(kernel_size=2, stride=2, padding=0, dilation=1, ceil_mode=False)\n",
       "  (fc1): Linear(in_features=8192, out_features=1024, bias=True)\n",
       "  (fc2): Linear(in_features=1024, out_features=512, bias=True)\n",
       "  (fc3): Linear(in_features=512, out_features=50, bias=True)\n",
       "  (dropout): Dropout(p=0.5, inplace=False)\n",
       ")"
      ]
     },
     "execution_count": 7,
     "metadata": {},
     "output_type": "execute_result"
    }
   ],
   "source": [
    "model = CNNModel()\n",
    "device = torch.device(\"cuda:0\" if torch.cuda.is_available() else \"cpu\")  # 檢查是否有 GPU，有則使用 GPU\n",
    "model.to(device)  # 將模型移動到設備上"
   ]
  },
  {
   "cell_type": "code",
   "execution_count": 19,
   "metadata": {},
   "outputs": [
    {
     "data": {
      "text/plain": [
       "======================================================================\n",
       "Layer (type:depth-idx)                        Param #\n",
       "======================================================================\n",
       "CNNModel                                      --\n",
       "├─Dynamic_conv2d: 1-1                         73,984\n",
       "│    └─AdaptiveChannelConvModule: 2-1         --\n",
       "│    │    └─Conv2d: 3-1                       9,248\n",
       "│    │    └─Conv2d: 3-2                       304\n",
       "│    └─attention2d: 2-2                       --\n",
       "│    │    └─AdaptiveAvgPool2d: 3-3            --\n",
       "│    │    └─Conv2d: 3-4                       288\n",
       "│    │    └─Conv2d: 3-5                       80\n",
       "├─Dynamic_conv2d: 1-2                         295,424\n",
       "│    └─AdaptiveChannelConvModule: 2-3         --\n",
       "│    │    └─Conv2d: 3-6                       36,928\n",
       "│    │    └─Conv2d: 3-7                       608\n",
       "│    └─attention2d: 2-4                       --\n",
       "│    │    └─AdaptiveAvgPool2d: 3-8            --\n",
       "│    │    └─Conv2d: 3-9                       1,088\n",
       "│    │    └─Conv2d: 3-10                      144\n",
       "├─Dynamic_conv2d: 1-3                         1,180,672\n",
       "│    └─AdaptiveChannelConvModule: 2-5         --\n",
       "│    │    └─Conv2d: 3-11                      147,584\n",
       "│    │    └─Conv2d: 3-12                      1,216\n",
       "│    └─attention2d: 2-6                       --\n",
       "│    │    └─AdaptiveAvgPool2d: 3-13           --\n",
       "│    │    └─Conv2d: 3-14                      4,224\n",
       "│    │    └─Conv2d: 3-15                      272\n",
       "├─Dynamic_conv2d: 1-4                         4,720,640\n",
       "│    └─AdaptiveChannelConvModule: 2-7         --\n",
       "│    │    └─Conv2d: 3-16                      590,080\n",
       "│    │    └─Conv2d: 3-17                      2,432\n",
       "│    └─attention2d: 2-8                       --\n",
       "│    │    └─AdaptiveAvgPool2d: 3-18           --\n",
       "│    │    └─Conv2d: 3-19                      16,640\n",
       "│    │    └─Conv2d: 3-20                      528\n",
       "├─Dynamic_conv2d: 1-5                         18,878,464\n",
       "│    └─AdaptiveChannelConvModule: 2-9         --\n",
       "│    │    └─Conv2d: 3-21                      2,359,808\n",
       "│    │    └─Conv2d: 3-22                      4,864\n",
       "│    └─attention2d: 2-10                      --\n",
       "│    │    └─AdaptiveAvgPool2d: 3-23           --\n",
       "│    │    └─Conv2d: 3-24                      66,048\n",
       "│    │    └─Conv2d: 3-25                      1,040\n",
       "├─BatchNorm2d: 1-6                            64\n",
       "├─BatchNorm2d: 1-7                            128\n",
       "├─BatchNorm2d: 1-8                            256\n",
       "├─BatchNorm2d: 1-9                            512\n",
       "├─BatchNorm2d: 1-10                           1,024\n",
       "├─MaxPool2d: 1-11                             --\n",
       "├─Linear: 1-12                                8,389,632\n",
       "├─Linear: 1-13                                524,800\n",
       "├─Linear: 1-14                                25,650\n",
       "├─Dropout: 1-15                               --\n",
       "======================================================================\n",
       "Total params: 37,334,674\n",
       "Trainable params: 37,334,674\n",
       "Non-trainable params: 0\n",
       "======================================================================"
      ]
     },
     "execution_count": 19,
     "metadata": {},
     "output_type": "execute_result"
    }
   ],
   "source": [
    "summary(model)"
   ]
  },
  {
   "cell_type": "code",
   "execution_count": 8,
   "metadata": {},
   "outputs": [],
   "source": [
    "def train(model,traindataloader,valdataLoader,criterion,optimizer,traing_acc,val_acc,epoch,channel):\n",
    "    model.train()\n",
    "    running_loss = 0.0\n",
    "    train_correct = 0\n",
    "    train_total = 0\n",
    "    \n",
    "    running_loss = 0.0\n",
    "    for inputs, labels in tqdm(traindataloader):\n",
    "        # print(inputs[0].shape)\n",
    "        inputs, labels = inputs.float().to(device), labels.float().to(device)  # 將數據移動到設備上\n",
    "\n",
    "        # 正向傳播\n",
    "        outputs = model(inputs)\n",
    "        # print(type(outputs))\n",
    "        loss = criterion(outputs, labels)\n",
    "\n",
    "        # 反向傳播和優化\n",
    "        optimizer.zero_grad()\n",
    "        loss.backward()\n",
    "        optimizer.step()\n",
    "        \n",
    "        labels = labels.argmax(dim=1)\n",
    "        _, predicted = torch.max(outputs, 1)\n",
    "        train_total += labels.size(0)\n",
    "        train_correct += (predicted == labels).sum().item()\n",
    "        running_loss += loss.item() * inputs.size(0)\n",
    "    \n",
    "    traing_acc.append(100 * train_correct / train_total)\n",
    "\n",
    "    model.eval()  # 將模型設置為評估模式\n",
    "    correct = 0\n",
    "    total = 0\n",
    "    with torch.no_grad():\n",
    "        for inputs, labels in valdataLoader:\n",
    "            inputs, labels = inputs.float().to(device), labels.float().to(device)\n",
    "            outputs = model(inputs)\n",
    "            loss = criterion(outputs, labels)\n",
    "            labels = labels.argmax(dim=1)\n",
    "            _, predicted = torch.max(outputs, 1)\n",
    "            total += labels.size(0)\n",
    "            correct += (predicted == labels).sum().item()\n",
    "        \n",
    "    val_acc.append(100 * correct / total)\n",
    "\n",
    "\n",
    "    epoch_loss = running_loss / len(traindataloader.dataset)\n",
    "    print(f\"Epoch {epoch + 1}/{10}, Loss: {epoch_loss:.4f}, channel = {channel}, Training Accuracy: {100 * train_correct / train_total:.2f}%, Validation Accuracy: {100 * correct / total:.2f}%\")"
   ]
  },
  {
   "cell_type": "code",
   "execution_count": 9,
   "metadata": {},
   "outputs": [],
   "source": [
    "def plot_acc(train_acc,val_acc,channel):\n",
    "    plt.plot(train_acc, label='Training Accuracy')\n",
    "    plt.plot(val_acc, label='Validation Accuracy')\n",
    "    plt.xlabel('Epoch')\n",
    "    plt.ylabel('Accuracy')\n",
    "    plt.legend()\n",
    "    plt.savefig(f\"./results/HW2-1/myModel_{channel}_accuracy_plot.png\")\n",
    "    plt.show()"
   ]
  },
  {
   "cell_type": "code",
   "execution_count": 10,
   "metadata": {},
   "outputs": [
    {
     "name": "stderr",
     "output_type": "stream",
     "text": [
      "100%|██████████| 495/495 [00:41<00:00, 11.93it/s]\n"
     ]
    },
    {
     "name": "stdout",
     "output_type": "stream",
     "text": [
      "Epoch 1/10, Loss: 3.8710, channel = R, Training Accuracy: 2.87%, Validation Accuracy: 2.00%\n"
     ]
    },
    {
     "name": "stderr",
     "output_type": "stream",
     "text": [
      "100%|██████████| 495/495 [00:41<00:00, 12.02it/s]\n"
     ]
    },
    {
     "name": "stdout",
     "output_type": "stream",
     "text": [
      "Epoch 1/10, Loss: 3.7117, channel = RG, Training Accuracy: 4.44%, Validation Accuracy: 4.22%\n"
     ]
    },
    {
     "name": "stderr",
     "output_type": "stream",
     "text": [
      "100%|██████████| 495/495 [00:40<00:00, 12.12it/s]\n"
     ]
    },
    {
     "name": "stdout",
     "output_type": "stream",
     "text": [
      "Epoch 1/10, Loss: 3.5773, channel = G, Training Accuracy: 6.69%, Validation Accuracy: 4.22%\n"
     ]
    },
    {
     "name": "stderr",
     "output_type": "stream",
     "text": [
      "100%|██████████| 495/495 [00:40<00:00, 12.21it/s]\n"
     ]
    },
    {
     "name": "stdout",
     "output_type": "stream",
     "text": [
      "Epoch 1/10, Loss: 3.4664, channel = GB, Training Accuracy: 8.39%, Validation Accuracy: 7.11%\n"
     ]
    },
    {
     "name": "stderr",
     "output_type": "stream",
     "text": [
      "100%|██████████| 495/495 [00:39<00:00, 12.47it/s]\n"
     ]
    },
    {
     "name": "stdout",
     "output_type": "stream",
     "text": [
      "Epoch 1/10, Loss: 3.3843, channel = B, Training Accuracy: 9.67%, Validation Accuracy: 10.00%\n"
     ]
    },
    {
     "name": "stderr",
     "output_type": "stream",
     "text": [
      "100%|██████████| 495/495 [00:40<00:00, 12.29it/s]\n"
     ]
    },
    {
     "name": "stdout",
     "output_type": "stream",
     "text": [
      "Epoch 1/10, Loss: 3.2929, channel = RB, Training Accuracy: 10.94%, Validation Accuracy: 13.56%\n"
     ]
    },
    {
     "name": "stderr",
     "output_type": "stream",
     "text": [
      "100%|██████████| 495/495 [00:41<00:00, 11.83it/s]\n"
     ]
    },
    {
     "name": "stdout",
     "output_type": "stream",
     "text": [
      "Epoch 1/10, Loss: 3.1985, channel = RGB, Training Accuracy: 12.36%, Validation Accuracy: 8.44%\n"
     ]
    },
    {
     "name": "stderr",
     "output_type": "stream",
     "text": [
      "100%|██████████| 495/495 [00:40<00:00, 12.09it/s]\n"
     ]
    },
    {
     "name": "stdout",
     "output_type": "stream",
     "text": [
      "Epoch 2/10, Loss: 3.2526, channel = R, Training Accuracy: 11.74%, Validation Accuracy: 13.11%\n"
     ]
    },
    {
     "name": "stderr",
     "output_type": "stream",
     "text": [
      "100%|██████████| 495/495 [00:41<00:00, 12.06it/s]\n"
     ]
    },
    {
     "name": "stdout",
     "output_type": "stream",
     "text": [
      "Epoch 2/10, Loss: 3.4147, channel = RG, Training Accuracy: 9.87%, Validation Accuracy: 12.67%\n"
     ]
    },
    {
     "name": "stderr",
     "output_type": "stream",
     "text": [
      "100%|██████████| 495/495 [00:39<00:00, 12.49it/s]\n"
     ]
    },
    {
     "name": "stdout",
     "output_type": "stream",
     "text": [
      "Epoch 2/10, Loss: 3.2773, channel = G, Training Accuracy: 11.84%, Validation Accuracy: 9.33%\n"
     ]
    },
    {
     "name": "stderr",
     "output_type": "stream",
     "text": [
      "100%|██████████| 495/495 [00:40<00:00, 12.09it/s]\n"
     ]
    },
    {
     "name": "stdout",
     "output_type": "stream",
     "text": [
      "Epoch 2/10, Loss: 3.1513, channel = GB, Training Accuracy: 13.57%, Validation Accuracy: 12.67%\n"
     ]
    },
    {
     "name": "stderr",
     "output_type": "stream",
     "text": [
      "100%|██████████| 495/495 [00:40<00:00, 12.21it/s]\n"
     ]
    },
    {
     "name": "stdout",
     "output_type": "stream",
     "text": [
      "Epoch 2/10, Loss: 3.2071, channel = B, Training Accuracy: 12.93%, Validation Accuracy: 11.56%\n"
     ]
    },
    {
     "name": "stderr",
     "output_type": "stream",
     "text": [
      "100%|██████████| 495/495 [00:40<00:00, 12.31it/s]\n"
     ]
    },
    {
     "name": "stdout",
     "output_type": "stream",
     "text": [
      "Epoch 2/10, Loss: 3.0832, channel = RB, Training Accuracy: 14.81%, Validation Accuracy: 15.11%\n"
     ]
    },
    {
     "name": "stderr",
     "output_type": "stream",
     "text": [
      "100%|██████████| 495/495 [00:40<00:00, 12.14it/s]\n"
     ]
    },
    {
     "name": "stdout",
     "output_type": "stream",
     "text": [
      "Epoch 2/10, Loss: 3.0105, channel = RGB, Training Accuracy: 16.20%, Validation Accuracy: 16.22%\n"
     ]
    },
    {
     "name": "stderr",
     "output_type": "stream",
     "text": [
      "100%|██████████| 495/495 [00:39<00:00, 12.60it/s]\n"
     ]
    },
    {
     "name": "stdout",
     "output_type": "stream",
     "text": [
      "Epoch 3/10, Loss: 3.0600, channel = R, Training Accuracy: 15.70%, Validation Accuracy: 15.11%\n"
     ]
    },
    {
     "name": "stderr",
     "output_type": "stream",
     "text": [
      "100%|██████████| 495/495 [00:41<00:00, 12.05it/s]\n"
     ]
    },
    {
     "name": "stdout",
     "output_type": "stream",
     "text": [
      "Epoch 3/10, Loss: 2.9367, channel = RG, Training Accuracy: 17.85%, Validation Accuracy: 18.22%\n"
     ]
    },
    {
     "name": "stderr",
     "output_type": "stream",
     "text": [
      "100%|██████████| 495/495 [00:40<00:00, 12.13it/s]\n"
     ]
    },
    {
     "name": "stdout",
     "output_type": "stream",
     "text": [
      "Epoch 3/10, Loss: 2.9403, channel = G, Training Accuracy: 17.83%, Validation Accuracy: 17.78%\n"
     ]
    },
    {
     "name": "stderr",
     "output_type": "stream",
     "text": [
      "100%|██████████| 495/495 [00:41<00:00, 12.00it/s]\n"
     ]
    },
    {
     "name": "stdout",
     "output_type": "stream",
     "text": [
      "Epoch 3/10, Loss: 2.9024, channel = GB, Training Accuracy: 18.75%, Validation Accuracy: 12.67%\n"
     ]
    },
    {
     "name": "stderr",
     "output_type": "stream",
     "text": [
      "100%|██████████| 495/495 [00:40<00:00, 12.07it/s]\n"
     ]
    },
    {
     "name": "stdout",
     "output_type": "stream",
     "text": [
      "Epoch 3/10, Loss: 2.9818, channel = B, Training Accuracy: 17.57%, Validation Accuracy: 18.89%\n"
     ]
    },
    {
     "name": "stderr",
     "output_type": "stream",
     "text": [
      "100%|██████████| 495/495 [00:40<00:00, 12.22it/s]\n"
     ]
    },
    {
     "name": "stdout",
     "output_type": "stream",
     "text": [
      "Epoch 3/10, Loss: 2.8488, channel = RB, Training Accuracy: 19.97%, Validation Accuracy: 20.00%\n"
     ]
    },
    {
     "name": "stderr",
     "output_type": "stream",
     "text": [
      "100%|██████████| 495/495 [00:40<00:00, 12.10it/s]\n"
     ]
    },
    {
     "name": "stdout",
     "output_type": "stream",
     "text": [
      "Epoch 3/10, Loss: 2.7565, channel = RGB, Training Accuracy: 21.89%, Validation Accuracy: 20.00%\n"
     ]
    },
    {
     "name": "stderr",
     "output_type": "stream",
     "text": [
      "100%|██████████| 495/495 [00:40<00:00, 12.36it/s]\n"
     ]
    },
    {
     "name": "stdout",
     "output_type": "stream",
     "text": [
      "Epoch 4/10, Loss: 2.8491, channel = R, Training Accuracy: 20.67%, Validation Accuracy: 18.22%\n"
     ]
    },
    {
     "name": "stderr",
     "output_type": "stream",
     "text": [
      "100%|██████████| 495/495 [00:40<00:00, 12.19it/s]\n"
     ]
    },
    {
     "name": "stdout",
     "output_type": "stream",
     "text": [
      "Epoch 4/10, Loss: 2.7091, channel = RG, Training Accuracy: 22.83%, Validation Accuracy: 21.78%\n"
     ]
    },
    {
     "name": "stderr",
     "output_type": "stream",
     "text": [
      "100%|██████████| 495/495 [00:40<00:00, 12.24it/s]\n"
     ]
    },
    {
     "name": "stdout",
     "output_type": "stream",
     "text": [
      "Epoch 4/10, Loss: 2.6826, channel = G, Training Accuracy: 23.74%, Validation Accuracy: 23.56%\n"
     ]
    },
    {
     "name": "stderr",
     "output_type": "stream",
     "text": [
      "100%|██████████| 495/495 [00:40<00:00, 12.20it/s]\n"
     ]
    },
    {
     "name": "stdout",
     "output_type": "stream",
     "text": [
      "Epoch 4/10, Loss: 2.6265, channel = GB, Training Accuracy: 24.77%, Validation Accuracy: 21.11%\n"
     ]
    },
    {
     "name": "stderr",
     "output_type": "stream",
     "text": [
      "100%|██████████| 495/495 [00:40<00:00, 12.32it/s]\n"
     ]
    },
    {
     "name": "stdout",
     "output_type": "stream",
     "text": [
      "Epoch 4/10, Loss: 2.7150, channel = B, Training Accuracy: 23.82%, Validation Accuracy: 25.33%\n"
     ]
    },
    {
     "name": "stderr",
     "output_type": "stream",
     "text": [
      "100%|██████████| 495/495 [00:40<00:00, 12.28it/s]\n"
     ]
    },
    {
     "name": "stdout",
     "output_type": "stream",
     "text": [
      "Epoch 4/10, Loss: 2.6210, channel = RB, Training Accuracy: 25.31%, Validation Accuracy: 27.11%\n"
     ]
    },
    {
     "name": "stderr",
     "output_type": "stream",
     "text": [
      "100%|██████████| 495/495 [00:40<00:00, 12.33it/s]\n"
     ]
    },
    {
     "name": "stdout",
     "output_type": "stream",
     "text": [
      "Epoch 4/10, Loss: 2.5133, channel = RGB, Training Accuracy: 27.76%, Validation Accuracy: 25.33%\n"
     ]
    },
    {
     "name": "stderr",
     "output_type": "stream",
     "text": [
      "100%|██████████| 495/495 [00:40<00:00, 12.24it/s]\n"
     ]
    },
    {
     "name": "stdout",
     "output_type": "stream",
     "text": [
      "Epoch 5/10, Loss: 2.5868, channel = R, Training Accuracy: 26.26%, Validation Accuracy: 27.11%\n"
     ]
    },
    {
     "name": "stderr",
     "output_type": "stream",
     "text": [
      "100%|██████████| 495/495 [00:40<00:00, 12.12it/s]\n"
     ]
    },
    {
     "name": "stdout",
     "output_type": "stream",
     "text": [
      "Epoch 5/10, Loss: 2.4395, channel = RG, Training Accuracy: 29.34%, Validation Accuracy: 26.89%\n"
     ]
    },
    {
     "name": "stderr",
     "output_type": "stream",
     "text": [
      "100%|██████████| 495/495 [00:40<00:00, 12.26it/s]\n"
     ]
    },
    {
     "name": "stdout",
     "output_type": "stream",
     "text": [
      "Epoch 5/10, Loss: 2.4486, channel = G, Training Accuracy: 29.25%, Validation Accuracy: 25.11%\n"
     ]
    },
    {
     "name": "stderr",
     "output_type": "stream",
     "text": [
      "100%|██████████| 495/495 [00:40<00:00, 12.11it/s]\n"
     ]
    },
    {
     "name": "stdout",
     "output_type": "stream",
     "text": [
      "Epoch 5/10, Loss: 2.3822, channel = GB, Training Accuracy: 30.91%, Validation Accuracy: 28.89%\n"
     ]
    },
    {
     "name": "stderr",
     "output_type": "stream",
     "text": [
      "100%|██████████| 495/495 [00:39<00:00, 12.43it/s]\n"
     ]
    },
    {
     "name": "stdout",
     "output_type": "stream",
     "text": [
      "Epoch 5/10, Loss: 2.4149, channel = B, Training Accuracy: 30.26%, Validation Accuracy: 27.33%\n"
     ]
    },
    {
     "name": "stderr",
     "output_type": "stream",
     "text": [
      "100%|██████████| 495/495 [00:40<00:00, 12.08it/s]\n"
     ]
    },
    {
     "name": "stdout",
     "output_type": "stream",
     "text": [
      "Epoch 5/10, Loss: 2.3240, channel = RB, Training Accuracy: 32.84%, Validation Accuracy: 31.78%\n"
     ]
    },
    {
     "name": "stderr",
     "output_type": "stream",
     "text": [
      "100%|██████████| 495/495 [00:41<00:00, 11.97it/s]\n"
     ]
    },
    {
     "name": "stdout",
     "output_type": "stream",
     "text": [
      "Epoch 5/10, Loss: 2.2661, channel = RGB, Training Accuracy: 33.97%, Validation Accuracy: 17.33%\n"
     ]
    },
    {
     "name": "stderr",
     "output_type": "stream",
     "text": [
      "100%|██████████| 495/495 [00:40<00:00, 12.22it/s]\n"
     ]
    },
    {
     "name": "stdout",
     "output_type": "stream",
     "text": [
      "Epoch 6/10, Loss: 2.3933, channel = R, Training Accuracy: 31.13%, Validation Accuracy: 30.22%\n"
     ]
    },
    {
     "name": "stderr",
     "output_type": "stream",
     "text": [
      "100%|██████████| 495/495 [00:41<00:00, 12.06it/s]\n"
     ]
    },
    {
     "name": "stdout",
     "output_type": "stream",
     "text": [
      "Epoch 6/10, Loss: 2.1973, channel = RG, Training Accuracy: 35.09%, Validation Accuracy: 34.44%\n"
     ]
    },
    {
     "name": "stderr",
     "output_type": "stream",
     "text": [
      "100%|██████████| 495/495 [00:40<00:00, 12.19it/s]\n"
     ]
    },
    {
     "name": "stdout",
     "output_type": "stream",
     "text": [
      "Epoch 6/10, Loss: 2.2067, channel = G, Training Accuracy: 35.08%, Validation Accuracy: 34.00%\n"
     ]
    },
    {
     "name": "stderr",
     "output_type": "stream",
     "text": [
      "100%|██████████| 495/495 [00:40<00:00, 12.23it/s]\n"
     ]
    },
    {
     "name": "stdout",
     "output_type": "stream",
     "text": [
      "Epoch 6/10, Loss: 2.1208, channel = GB, Training Accuracy: 37.14%, Validation Accuracy: 33.78%\n"
     ]
    },
    {
     "name": "stderr",
     "output_type": "stream",
     "text": [
      "100%|██████████| 495/495 [00:39<00:00, 12.39it/s]\n"
     ]
    },
    {
     "name": "stdout",
     "output_type": "stream",
     "text": [
      "Epoch 6/10, Loss: 2.1676, channel = B, Training Accuracy: 36.16%, Validation Accuracy: 33.78%\n"
     ]
    },
    {
     "name": "stderr",
     "output_type": "stream",
     "text": [
      "100%|██████████| 495/495 [00:41<00:00, 11.99it/s]\n"
     ]
    },
    {
     "name": "stdout",
     "output_type": "stream",
     "text": [
      "Epoch 6/10, Loss: 2.0429, channel = RB, Training Accuracy: 39.27%, Validation Accuracy: 36.89%\n"
     ]
    },
    {
     "name": "stderr",
     "output_type": "stream",
     "text": [
      "100%|██████████| 495/495 [00:41<00:00, 11.92it/s]\n"
     ]
    },
    {
     "name": "stdout",
     "output_type": "stream",
     "text": [
      "Epoch 6/10, Loss: 2.0116, channel = RGB, Training Accuracy: 39.88%, Validation Accuracy: 35.11%\n"
     ]
    },
    {
     "name": "stderr",
     "output_type": "stream",
     "text": [
      "100%|██████████| 495/495 [00:40<00:00, 12.17it/s]\n"
     ]
    },
    {
     "name": "stdout",
     "output_type": "stream",
     "text": [
      "Epoch 7/10, Loss: 2.1705, channel = R, Training Accuracy: 36.59%, Validation Accuracy: 30.00%\n"
     ]
    },
    {
     "name": "stderr",
     "output_type": "stream",
     "text": [
      "100%|██████████| 495/495 [00:40<00:00, 12.09it/s]\n"
     ]
    },
    {
     "name": "stdout",
     "output_type": "stream",
     "text": [
      "Epoch 7/10, Loss: 1.9612, channel = RG, Training Accuracy: 41.13%, Validation Accuracy: 36.22%\n"
     ]
    },
    {
     "name": "stderr",
     "output_type": "stream",
     "text": [
      "100%|██████████| 495/495 [00:40<00:00, 12.15it/s]\n"
     ]
    },
    {
     "name": "stdout",
     "output_type": "stream",
     "text": [
      "Epoch 7/10, Loss: 1.9645, channel = G, Training Accuracy: 40.77%, Validation Accuracy: 38.89%\n"
     ]
    },
    {
     "name": "stderr",
     "output_type": "stream",
     "text": [
      "100%|██████████| 495/495 [00:41<00:00, 12.06it/s]\n"
     ]
    },
    {
     "name": "stdout",
     "output_type": "stream",
     "text": [
      "Epoch 7/10, Loss: 1.8764, channel = GB, Training Accuracy: 43.28%, Validation Accuracy: 33.78%\n"
     ]
    },
    {
     "name": "stderr",
     "output_type": "stream",
     "text": [
      "100%|██████████| 495/495 [00:40<00:00, 12.27it/s]\n"
     ]
    },
    {
     "name": "stdout",
     "output_type": "stream",
     "text": [
      "Epoch 7/10, Loss: 1.9345, channel = B, Training Accuracy: 42.12%, Validation Accuracy: 36.22%\n"
     ]
    },
    {
     "name": "stderr",
     "output_type": "stream",
     "text": [
      "100%|██████████| 495/495 [00:40<00:00, 12.08it/s]\n"
     ]
    },
    {
     "name": "stdout",
     "output_type": "stream",
     "text": [
      "Epoch 7/10, Loss: 1.8153, channel = RB, Training Accuracy: 44.84%, Validation Accuracy: 40.44%\n"
     ]
    },
    {
     "name": "stderr",
     "output_type": "stream",
     "text": [
      "100%|██████████| 495/495 [00:41<00:00, 11.81it/s]\n"
     ]
    },
    {
     "name": "stdout",
     "output_type": "stream",
     "text": [
      "Epoch 7/10, Loss: 1.7371, channel = RGB, Training Accuracy: 46.66%, Validation Accuracy: 39.11%\n"
     ]
    },
    {
     "name": "stderr",
     "output_type": "stream",
     "text": [
      "100%|██████████| 495/495 [00:40<00:00, 12.08it/s]\n"
     ]
    },
    {
     "name": "stdout",
     "output_type": "stream",
     "text": [
      "Epoch 8/10, Loss: 1.9158, channel = R, Training Accuracy: 42.53%, Validation Accuracy: 35.56%\n"
     ]
    },
    {
     "name": "stderr",
     "output_type": "stream",
     "text": [
      "100%|██████████| 495/495 [00:41<00:00, 12.02it/s]\n"
     ]
    },
    {
     "name": "stdout",
     "output_type": "stream",
     "text": [
      "Epoch 8/10, Loss: 1.6975, channel = RG, Training Accuracy: 47.63%, Validation Accuracy: 43.11%\n"
     ]
    },
    {
     "name": "stderr",
     "output_type": "stream",
     "text": [
      "100%|██████████| 495/495 [00:40<00:00, 12.20it/s]\n"
     ]
    },
    {
     "name": "stdout",
     "output_type": "stream",
     "text": [
      "Epoch 8/10, Loss: 1.7074, channel = G, Training Accuracy: 47.40%, Validation Accuracy: 34.89%\n"
     ]
    },
    {
     "name": "stderr",
     "output_type": "stream",
     "text": [
      "100%|██████████| 495/495 [00:40<00:00, 12.08it/s]\n"
     ]
    },
    {
     "name": "stdout",
     "output_type": "stream",
     "text": [
      "Epoch 8/10, Loss: 1.6454, channel = GB, Training Accuracy: 49.13%, Validation Accuracy: 36.44%\n"
     ]
    },
    {
     "name": "stderr",
     "output_type": "stream",
     "text": [
      "100%|██████████| 495/495 [00:40<00:00, 12.27it/s]\n"
     ]
    },
    {
     "name": "stdout",
     "output_type": "stream",
     "text": [
      "Epoch 8/10, Loss: 1.7252, channel = B, Training Accuracy: 47.52%, Validation Accuracy: 37.56%\n"
     ]
    },
    {
     "name": "stderr",
     "output_type": "stream",
     "text": [
      "100%|██████████| 495/495 [00:40<00:00, 12.14it/s]\n"
     ]
    },
    {
     "name": "stdout",
     "output_type": "stream",
     "text": [
      "Epoch 8/10, Loss: 1.5633, channel = RB, Training Accuracy: 51.18%, Validation Accuracy: 40.22%\n"
     ]
    },
    {
     "name": "stderr",
     "output_type": "stream",
     "text": [
      "100%|██████████| 495/495 [00:40<00:00, 12.13it/s]\n"
     ]
    },
    {
     "name": "stdout",
     "output_type": "stream",
     "text": [
      "Epoch 8/10, Loss: 1.5191, channel = RGB, Training Accuracy: 52.57%, Validation Accuracy: 40.67%\n"
     ]
    },
    {
     "name": "stderr",
     "output_type": "stream",
     "text": [
      "100%|██████████| 495/495 [00:40<00:00, 12.29it/s]\n"
     ]
    },
    {
     "name": "stdout",
     "output_type": "stream",
     "text": [
      "Epoch 9/10, Loss: 1.7448, channel = R, Training Accuracy: 47.00%, Validation Accuracy: 37.78%\n"
     ]
    },
    {
     "name": "stderr",
     "output_type": "stream",
     "text": [
      "100%|██████████| 495/495 [00:40<00:00, 12.11it/s]\n"
     ]
    },
    {
     "name": "stdout",
     "output_type": "stream",
     "text": [
      "Epoch 9/10, Loss: 1.4838, channel = RG, Training Accuracy: 53.16%, Validation Accuracy: 38.44%\n"
     ]
    },
    {
     "name": "stderr",
     "output_type": "stream",
     "text": [
      "100%|██████████| 495/495 [00:40<00:00, 12.16it/s]\n"
     ]
    },
    {
     "name": "stdout",
     "output_type": "stream",
     "text": [
      "Epoch 9/10, Loss: 1.4866, channel = G, Training Accuracy: 53.35%, Validation Accuracy: 40.00%\n"
     ]
    },
    {
     "name": "stderr",
     "output_type": "stream",
     "text": [
      "100%|██████████| 495/495 [00:40<00:00, 12.13it/s]\n"
     ]
    },
    {
     "name": "stdout",
     "output_type": "stream",
     "text": [
      "Epoch 9/10, Loss: 1.4795, channel = GB, Training Accuracy: 53.78%, Validation Accuracy: 39.78%\n"
     ]
    },
    {
     "name": "stderr",
     "output_type": "stream",
     "text": [
      "100%|██████████| 495/495 [00:40<00:00, 12.14it/s]\n"
     ]
    },
    {
     "name": "stdout",
     "output_type": "stream",
     "text": [
      "Epoch 9/10, Loss: 1.5303, channel = B, Training Accuracy: 52.63%, Validation Accuracy: 41.33%\n"
     ]
    },
    {
     "name": "stderr",
     "output_type": "stream",
     "text": [
      "100%|██████████| 495/495 [00:41<00:00, 11.96it/s]\n"
     ]
    },
    {
     "name": "stdout",
     "output_type": "stream",
     "text": [
      "Epoch 9/10, Loss: 1.3640, channel = RB, Training Accuracy: 56.30%, Validation Accuracy: 44.00%\n"
     ]
    },
    {
     "name": "stderr",
     "output_type": "stream",
     "text": [
      "100%|██████████| 495/495 [00:40<00:00, 12.09it/s]\n"
     ]
    },
    {
     "name": "stdout",
     "output_type": "stream",
     "text": [
      "Epoch 9/10, Loss: 1.3238, channel = RGB, Training Accuracy: 57.51%, Validation Accuracy: 41.78%\n"
     ]
    },
    {
     "name": "stderr",
     "output_type": "stream",
     "text": [
      "100%|██████████| 495/495 [00:40<00:00, 12.14it/s]\n"
     ]
    },
    {
     "name": "stdout",
     "output_type": "stream",
     "text": [
      "Epoch 10/10, Loss: 1.5802, channel = R, Training Accuracy: 51.61%, Validation Accuracy: 38.00%\n"
     ]
    },
    {
     "name": "stderr",
     "output_type": "stream",
     "text": [
      "100%|██████████| 495/495 [00:41<00:00, 11.98it/s]\n"
     ]
    },
    {
     "name": "stdout",
     "output_type": "stream",
     "text": [
      "Epoch 10/10, Loss: 1.3125, channel = RG, Training Accuracy: 58.08%, Validation Accuracy: 40.00%\n"
     ]
    },
    {
     "name": "stderr",
     "output_type": "stream",
     "text": [
      "100%|██████████| 495/495 [00:39<00:00, 12.50it/s]\n"
     ]
    },
    {
     "name": "stdout",
     "output_type": "stream",
     "text": [
      "Epoch 10/10, Loss: 1.3246, channel = G, Training Accuracy: 57.78%, Validation Accuracy: 38.44%\n"
     ]
    },
    {
     "name": "stderr",
     "output_type": "stream",
     "text": [
      "100%|██████████| 495/495 [00:40<00:00, 12.10it/s]\n"
     ]
    },
    {
     "name": "stdout",
     "output_type": "stream",
     "text": [
      "Epoch 10/10, Loss: 1.2600, channel = GB, Training Accuracy: 59.66%, Validation Accuracy: 41.56%\n"
     ]
    },
    {
     "name": "stderr",
     "output_type": "stream",
     "text": [
      "100%|██████████| 495/495 [00:40<00:00, 12.19it/s]\n"
     ]
    },
    {
     "name": "stdout",
     "output_type": "stream",
     "text": [
      "Epoch 10/10, Loss: 1.3749, channel = B, Training Accuracy: 56.73%, Validation Accuracy: 36.89%\n"
     ]
    },
    {
     "name": "stderr",
     "output_type": "stream",
     "text": [
      "100%|██████████| 495/495 [00:41<00:00, 12.06it/s]\n"
     ]
    },
    {
     "name": "stdout",
     "output_type": "stream",
     "text": [
      "Epoch 10/10, Loss: 1.2241, channel = RB, Training Accuracy: 60.42%, Validation Accuracy: 37.78%\n"
     ]
    },
    {
     "name": "stderr",
     "output_type": "stream",
     "text": [
      "100%|██████████| 495/495 [00:41<00:00, 12.05it/s]\n"
     ]
    },
    {
     "name": "stdout",
     "output_type": "stream",
     "text": [
      "Epoch 10/10, Loss: 1.1394, channel = RGB, Training Accuracy: 62.95%, Validation Accuracy: 42.22%\n"
     ]
    },
    {
     "data": {
      "image/png": "[encoded data removed]",
      "text/plain": [
       "<Figure size 640x480 with 1 Axes>"
      ]
     },
     "metadata": {},
     "output_type": "display_data"
    },
    {
     "data": {
      "image/png": "[encoded data removed]",
      "text/plain": [
       "<Figure size 640x480 with 1 Axes>"
      ]
     },
     "metadata": {},
     "output_type": "display_data"
    },
    {
     "data": {
      "image/png": "[encoded data removed]",
      "text/plain": [
       "<Figure size 640x480 with 1 Axes>"
      ]
     },
     "metadata": {},
     "output_type": "display_data"
    },
    {
     "data": {
      "image/png": "[encoded data removed]",
      "text/plain": [
       "<Figure size 640x480 with 1 Axes>"
      ]
     },
     "metadata": {},
     "output_type": "display_data"
    },
    {
     "data": {
      "image/png": "[encoded data removed]",
      "text/plain": [
       "<Figure size 640x480 with 1 Axes>"
      ]
     },
     "metadata": {},
     "output_type": "display_data"
    },
    {
     "data": {
      "image/png": "[encoded data removed]",
      "text/plain": [
       "<Figure size 640x480 with 1 Axes>"
      ]
     },
     "metadata": {},
     "output_type": "display_data"
    },
    {
     "data": {
      "image/png": "[encoded data removed]",
      "text/plain": [
       "<Figure size 640x480 with 1 Axes>"
      ]
     },
     "metadata": {},
     "output_type": "display_data"
    }
   ],
   "source": [
    "criterion = nn.CrossEntropyLoss()\n",
    "optimizer = optim.Adam(model.parameters(), lr=0.001)\n",
    "# for param in model.parameters():\n",
    "#     param = param.to(device)\n",
    "\n",
    "# 訓練循環\n",
    "epochs = 10  # 設定訓練輪數\n",
    "\n",
    "traing_acc_3c = []\n",
    "val_acc_3c = []\n",
    "\n",
    "traing_acc_RG = []\n",
    "val_acc_RG = []\n",
    "\n",
    "traing_acc_RB = []\n",
    "val_acc_RB = []\n",
    "\n",
    "traing_acc_GB = []\n",
    "val_acc_GB = []\n",
    "\n",
    "traing_acc_R = []\n",
    "val_acc_R = []\n",
    "\n",
    "traing_acc_G = []\n",
    "val_acc_G = []\n",
    "\n",
    "traing_acc_B = []\n",
    "val_acc_B = []\n",
    "\n",
    "for epoch in range(epochs):\n",
    "    model.train()  # 將模型設置為訓練模式\n",
    "\n",
    "    train(model,train_R_loader,val_R_loader,criterion,optimizer,traing_acc_R,val_acc_R,epoch,\"R\")\n",
    "    train(model,train_RG_loader,val_RG_loader,criterion,optimizer,traing_acc_RG,val_acc_RG,epoch,\"RG\")\n",
    "    train(model,train_G_loader,val_G_loader,criterion,optimizer,traing_acc_G,val_acc_G,epoch,\"G\")\n",
    "    train(model,train_GB_loader,val_GB_loader,criterion,optimizer,traing_acc_GB,val_acc_GB,epoch,\"GB\")\n",
    "    train(model,train_B_loader,val_B_loader,criterion,optimizer,traing_acc_B,val_acc_B,epoch,\"B\")\n",
    "    train(model,train_RB_loader,val_RB_loader,criterion,optimizer,traing_acc_RB,val_acc_RB,epoch,\"RB\")\n",
    "    train(model,train_3c_loader,val_3c_loader,criterion,optimizer,traing_acc_3c,val_acc_3c,epoch,\"RGB\")\n",
    "\n",
    "    \n",
    "    \n",
    "plot_acc(traing_acc_3c,val_acc_3c,\"RGB\")\n",
    "plot_acc(traing_acc_RG,val_acc_RG,\"RG\")\n",
    "plot_acc(traing_acc_GB,val_acc_GB,\"GB\")\n",
    "plot_acc(traing_acc_RB,val_acc_RB,\"RB\")\n",
    "plot_acc(traing_acc_R,val_acc_R,\"R\")\n",
    "plot_acc(traing_acc_G,val_acc_G,\"G\")\n",
    "plot_acc(traing_acc_B,val_acc_B,\"B\")\n"
   ]
  },
  {
   "cell_type": "code",
   "execution_count": 13,
   "metadata": {},
   "outputs": [],
   "source": [
    "def test(model,dataloader,channel = \"RGB\"):\n",
    "    correct = 0\n",
    "    total = 0\n",
    "    for inputs, labels in tqdm(dataloader, desc=\"Evaluating\"):\n",
    "        inputs, labels = inputs.float().to(device), labels.float().to(device)\n",
    "        labels = labels.argmax(dim=1)\n",
    "        outputs = model(inputs)\n",
    "        _, predicted = torch.max(outputs, 1)\n",
    "        total += labels.size(0)\n",
    "        correct += (predicted == labels).sum().item()\n",
    "\n",
    "    accuracy = correct / total\n",
    "    print(f\"{channel}-channel Test Accuracy: {accuracy:.4f}\")"
   ]
  },
  {
   "cell_type": "code",
   "execution_count": 14,
   "metadata": {},
   "outputs": [
    {
     "name": "stderr",
     "output_type": "stream",
     "text": [
      "Evaluating: 100%|██████████| 4/4 [00:00<00:00, 33.83it/s]\n"
     ]
    },
    {
     "name": "stdout",
     "output_type": "stream",
     "text": [
      "RGB-channel Test Accuracy: 0.4533\n"
     ]
    },
    {
     "name": "stderr",
     "output_type": "stream",
     "text": [
      "Evaluating: 100%|██████████| 4/4 [00:00<00:00, 41.93it/s]\n"
     ]
    },
    {
     "name": "stdout",
     "output_type": "stream",
     "text": [
      "RG-channel Test Accuracy: 0.3956\n"
     ]
    },
    {
     "name": "stderr",
     "output_type": "stream",
     "text": [
      "Evaluating: 100%|██████████| 4/4 [00:00<00:00, 41.67it/s]\n"
     ]
    },
    {
     "name": "stdout",
     "output_type": "stream",
     "text": [
      "RB-channel Test Accuracy: 0.4267\n"
     ]
    },
    {
     "name": "stderr",
     "output_type": "stream",
     "text": [
      "Evaluating: 100%|██████████| 4/4 [00:00<00:00, 41.56it/s]\n"
     ]
    },
    {
     "name": "stdout",
     "output_type": "stream",
     "text": [
      "GB-channel Test Accuracy: 0.4000\n"
     ]
    },
    {
     "name": "stderr",
     "output_type": "stream",
     "text": [
      "Evaluating: 100%|██████████| 4/4 [00:00<00:00, 43.10it/s]\n"
     ]
    },
    {
     "name": "stdout",
     "output_type": "stream",
     "text": [
      "R-channel Test Accuracy: 0.3889\n"
     ]
    },
    {
     "name": "stderr",
     "output_type": "stream",
     "text": [
      "Evaluating: 100%|██████████| 4/4 [00:00<00:00, 43.08it/s]\n"
     ]
    },
    {
     "name": "stdout",
     "output_type": "stream",
     "text": [
      "G-channel Test Accuracy: 0.4267\n"
     ]
    },
    {
     "name": "stderr",
     "output_type": "stream",
     "text": [
      "Evaluating: 100%|██████████| 4/4 [00:00<00:00, 43.18it/s]"
     ]
    },
    {
     "name": "stdout",
     "output_type": "stream",
     "text": [
      "B-channel Test Accuracy: 0.3844\n"
     ]
    },
    {
     "name": "stderr",
     "output_type": "stream",
     "text": [
      "\n"
     ]
    }
   ],
   "source": [
    "\n",
    "model.eval()\n",
    "\n",
    "#test_RGB\n",
    "test(model,test_3c_loader,\"RGB\")\n",
    "\n",
    "#test RG\n",
    "test(model,test_RG_loader,\"RG\")\n",
    "\n",
    "#test RB\n",
    "test(model,test_RB_loader,\"RB\")\n",
    "\n",
    "#test GB\n",
    "test(model,test_GB_loader,\"GB\")\n",
    "\n",
    "#test R\n",
    "test(model,test_R_loader,\"R\")\n",
    "\n",
    "#test G\n",
    "test(model,test_G_loader,\"G\")\n",
    "\n",
    "#test R\n",
    "test(model,test_B_loader,\"B\")"
   ]
  },
  {
   "cell_type": "code",
   "execution_count": 15,
   "metadata": {},
   "outputs": [],
   "source": [
    "torch.save(model, './model/HW2-1/myModel/myModel.pth')"
   ]
  }
 ],
 "metadata": {
  "kernelspec": {
   "display_name": "Python 3",
   "language": "python",
   "name": "python3"
  },
  "language_info": {
   "codemirror_mode": {
    "name": "ipython",
    "version": 3
   },
   "file_extension": ".py",
   "mimetype": "text/x-python",
   "name": "python",
   "nbconvert_exporter": "python",
   "pygments_lexer": "ipython3",
   "version": "3.10.12"
  }
 },
 "nbformat": 4,
 "nbformat_minor": 2
}
